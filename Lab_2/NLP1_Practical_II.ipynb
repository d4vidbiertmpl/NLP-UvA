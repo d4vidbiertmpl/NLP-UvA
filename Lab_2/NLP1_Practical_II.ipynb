{
  "nbformat": 4,
  "nbformat_minor": 0,
  "metadata": {
    "colab": {
      "name": "NLP1_Practical_II.ipynb",
      "version": "0.3.2",
      "provenance": [],
      "collapsed_sections": []
    },
    "kernelspec": {
      "name": "python3",
      "display_name": "Python 3"
    },
    "accelerator": "GPU"
  },
  "cells": [
    {
      "metadata": {
        "colab_type": "text",
        "id": "jILqpPLlE9r0"
      },
      "cell_type": "markdown",
      "source": [
        "# Practical 2: Encoding Sentences with Neural Models"
      ]
    },
    {
      "metadata": {
        "colab_type": "text",
        "id": "8JXOZ5uhQ8Qq"
      },
      "cell_type": "markdown",
      "source": [
        "In this practical we will train neural models to encode sentences, after which we can use our sentence representation for a downstream task such as sentiment classification. Rather than simply answering questions, like in the previous lab, **this time you are expected to write a four-page scientific report with your findings**. You will be judged by the quality of your report (see below). In this notebook, we will help you to develop models for your experiments. You do not have to hand in your answers, but please do include a link to a private Github gist with your code in your report as a footnote. \n",
        "\n",
        "### Data set\n",
        "We will make use of the [Stanford Sentiment Treebank](https://nlp.stanford.edu/sentiment/) (SST), which provides sentences, their tree structure, and (fine-grained) sentiment scores.\n",
        "This dataset is different from the one we used in the first practical. \n",
        "Before, a review consisted of several sentences, and we would have one sentiment score for it. Now, a review is a single sentence, for which we get a sentiment score. The special thing about our new data set is that we get a binary parse tree for each sentence, and a sentiment score has been assigned to each node in the tree. (We will look at an example below.)\n",
        "\n",
        "For the first part of this practical we will only make use of the tokens, but in the end we will also exploit the tree-structure that is provided!\n",
        "\n",
        "We will cover the following approaches:\n",
        "\n",
        "- Bag-of-words (BOW)\n",
        "- Continuous bag-of-words (CBOW)\n",
        "- Deep continuous bag-of-words (Deep CBOW)\n",
        "- LSTM\n",
        "- TreeLSTM\n"
      ]
    },
    {
      "metadata": {
        "colab_type": "text",
        "id": "bSmmXQoC8ebA"
      },
      "cell_type": "markdown",
      "source": [
        "### Important: Report \n",
        "\n",
        "The main purpose of this lab is for you to learn how to answer research questions by experimenting and then writing a scientific report.\n",
        "Your grade will be based on the quality of your report, not on the exercises in this notebook.\n",
        "You can find the requirements for the report at the end of this notebook."
      ]
    },
    {
      "metadata": {
        "colab_type": "text",
        "id": "YbNKef3lymaj"
      },
      "cell_type": "markdown",
      "source": [
        "## Preparing the data"
      ]
    },
    {
      "metadata": {
        "colab_type": "text",
        "id": "9jxTkpg59FlU"
      },
      "cell_type": "markdown",
      "source": [
        "Let's first download the data set and take a look."
      ]
    },
    {
      "metadata": {
        "colab_type": "code",
        "id": "WZp53HmMP3F2",
        "colab": {}
      },
      "cell_type": "code",
      "source": [
        "import re\n",
        "import random\n",
        "import time\n",
        "import math\n",
        "import numpy as np\n",
        "import nltk\n",
        "import matplotlib.pyplot as plt\n",
        "plt.style.use('default')"
      ],
      "execution_count": 0,
      "outputs": []
    },
    {
      "metadata": {
        "colab_type": "code",
        "id": "TovFkDTgE_d6",
        "colab": {
          "base_uri": "https://localhost:8080/",
          "height": 384
        },
        "outputId": "e7e75f64-b480-4ce4-9c20-6f27979bf0f6"
      },
      "cell_type": "code",
      "source": [
        "# Commented by Arvid to avoid re-downloading of files..\n",
        "!wget http://nlp.stanford.edu/sentiment/trainDevTestTrees_PTB.zip\n",
        "!unzip trainDevTestTrees_PTB.zip"
      ],
      "execution_count": 2,
      "outputs": [
        {
          "output_type": "stream",
          "text": [
            "--2018-12-05 10:08:07--  http://nlp.stanford.edu/sentiment/trainDevTestTrees_PTB.zip\n",
            "Resolving nlp.stanford.edu (nlp.stanford.edu)... 171.64.67.140\n",
            "Connecting to nlp.stanford.edu (nlp.stanford.edu)|171.64.67.140|:80... connected.\n",
            "HTTP request sent, awaiting response... 302 Found\n",
            "Location: https://nlp.stanford.edu/sentiment/trainDevTestTrees_PTB.zip [following]\n",
            "--2018-12-05 10:08:07--  https://nlp.stanford.edu/sentiment/trainDevTestTrees_PTB.zip\n",
            "Connecting to nlp.stanford.edu (nlp.stanford.edu)|171.64.67.140|:443... connected.\n",
            "HTTP request sent, awaiting response... 200 OK\n",
            "Length: 789539 (771K) [application/zip]\n",
            "Saving to: ‘trainDevTestTrees_PTB.zip’\n",
            "\n",
            "trainDevTestTrees_P 100%[===================>] 771.03K  1.53MB/s    in 0.5s    \n",
            "\n",
            "2018-12-05 10:08:08 (1.53 MB/s) - ‘trainDevTestTrees_PTB.zip’ saved [789539/789539]\n",
            "\n",
            "Archive:  trainDevTestTrees_PTB.zip\n",
            "   creating: trees/\n",
            "  inflating: trees/dev.txt           \n",
            "  inflating: trees/test.txt          \n",
            "  inflating: trees/train.txt         \n"
          ],
          "name": "stdout"
        }
      ]
    },
    {
      "metadata": {
        "colab_type": "code",
        "id": "0IpAphkBO5eW",
        "colab": {}
      },
      "cell_type": "code",
      "source": [
        "# this function reads in a textfile and fixes an issue with \\\\\n",
        "def filereader(path): \n",
        "  with open(path, mode=\"r\", encoding=\"utf-8\") as f:\n",
        "    for line in f:\n",
        "      yield line.strip().replace(\"\\\\\",\"\")"
      ],
      "execution_count": 0,
      "outputs": []
    },
    {
      "metadata": {
        "colab_type": "code",
        "id": "ylkIopm0QJML",
        "colab": {
          "base_uri": "https://localhost:8080/",
          "height": 35
        },
        "outputId": "64868661-b6ff-4f10-fc2f-c0d6815bebb3"
      },
      "cell_type": "code",
      "source": [
        "# Let's look at a data point.\n",
        "# If you look closely you will find that this is a flattened tree, \n",
        "# with sentiment scores at every node, and words as the leaves.\n",
        "s = next(filereader(\"trees/dev.txt\"))\n",
        "print(s)"
      ],
      "execution_count": 4,
      "outputs": [
        {
          "output_type": "stream",
          "text": [
            "(3 (2 It) (4 (4 (2 's) (4 (3 (2 a) (4 (3 lovely) (2 film))) (3 (2 with) (4 (3 (3 lovely) (2 performances)) (2 (2 by) (2 (2 (2 Buy) (2 and)) (2 Accorsi))))))) (2 .)))\n"
          ],
          "name": "stdout"
        }
      ]
    },
    {
      "metadata": {
        "colab_type": "code",
        "id": "7_U7HTFwdrWt",
        "colab": {
          "base_uri": "https://localhost:8080/",
          "height": 421
        },
        "outputId": "6782b36b-fe3c-433c-d2ac-9186bcc6762a"
      },
      "cell_type": "code",
      "source": [
        "# We can use NLTK to print the tree structure more nicely\n",
        "from nltk import Tree\n",
        "from nltk.treeprettyprinter import TreePrettyPrinter\n",
        "tree = Tree.fromstring(s)\n",
        "print(TreePrettyPrinter(tree))"
      ],
      "execution_count": 5,
      "outputs": [
        {
          "output_type": "stream",
          "text": [
            "              3                                                                     \n",
            "  ____________|____________________                                                  \n",
            " |                                 4                                                \n",
            " |        _________________________|______________________________________________   \n",
            " |       4                                                                        | \n",
            " |    ___|______________                                                          |  \n",
            " |   |                  4                                                         | \n",
            " |   |         _________|__________                                               |  \n",
            " |   |        |                    3                                              | \n",
            " |   |        |               _____|______________________                        |  \n",
            " |   |        |              |                            4                       | \n",
            " |   |        |              |            ________________|_______                |  \n",
            " |   |        |              |           |                        2               | \n",
            " |   |        |              |           |                 _______|___            |  \n",
            " |   |        3              |           |                |           2           | \n",
            " |   |    ____|_____         |           |                |        ___|_____      |  \n",
            " |   |   |          4        |           3                |       2         |     | \n",
            " |   |   |     _____|___     |      _____|_______         |    ___|___      |     |  \n",
            " 2   2   2    3         2    2     3             2        2   2       2     2     2 \n",
            " |   |   |    |         |    |     |             |        |   |       |     |     |  \n",
            " It  's  a  lovely     film with lovely     performances  by Buy     and Accorsi  . \n",
            "\n"
          ],
          "name": "stdout"
        }
      ]
    },
    {
      "metadata": {
        "colab_type": "text",
        "id": "ekAWKsji9t93"
      },
      "cell_type": "markdown",
      "source": [
        "You can see the sentiment annotations here **at every node**! 0 is very negative, 4 is very positive. For now, we will only use the sentiment score at the **root node**; this is the score for the complete sentence."
      ]
    },
    {
      "metadata": {
        "colab_type": "code",
        "id": "DKynLm0xPKr2",
        "colab": {
          "base_uri": "https://localhost:8080/",
          "height": 54
        },
        "outputId": "ecfd7361-fc62-474f-8c72-3a6a8e17e36e"
      },
      "cell_type": "code",
      "source": [
        "# Let's first make a function that extracts the tokens (the leaves).\n",
        "\n",
        "def tokens_from_treestring(s):\n",
        "  \"\"\"extract the tokens from a sentiment tree\"\"\"\n",
        "  return re.sub(r\"\\([0-9] |\\)\", \"\", s).split()\n",
        " \n",
        "# let's try it on our example tree\n",
        "tokens = tokens_from_treestring(s)\n",
        "print(tokens)\n",
        "print(len(tokens))"
      ],
      "execution_count": 6,
      "outputs": [
        {
          "output_type": "stream",
          "text": [
            "['It', \"'s\", 'a', 'lovely', 'film', 'with', 'lovely', 'performances', 'by', 'Buy', 'and', 'Accorsi', '.']\n",
            "13\n"
          ],
          "name": "stdout"
        }
      ]
    },
    {
      "metadata": {
        "colab_type": "text",
        "id": "B8vFkeqN-NLP"
      },
      "cell_type": "markdown",
      "source": [
        "> *Warning: you could also parse a treestring using NLTK and ask it to return the leaves, but there seems to be an issue with NLTK not always correctly parsing the input, so do not rely on it.*"
      ]
    },
    {
      "metadata": {
        "colab_type": "code",
        "id": "Akr9K_Mv4dym",
        "colab": {}
      },
      "cell_type": "code",
      "source": [
        "# We will also need the following function, but you can ignore this for now.\n",
        "# It is explained later on.\n",
        "\n",
        "SHIFT = 0\n",
        "REDUCE = 1\n",
        "\n",
        "\n",
        "def transitions_from_treestring(s):\n",
        "  s = re.sub(\"\\([0-5] ([^)]+)\\)\", \"0\", s)\n",
        "  s = re.sub(\"\\)\", \" )\", s)\n",
        "  s = re.sub(\"\\([0-4] \", \"\", s)\n",
        "  s = re.sub(\"\\([0-4] \", \"\", s)\n",
        "  s = re.sub(\"\\)\", \"1\", s)\n",
        "  return list(map(int, s.split()))"
      ],
      "execution_count": 0,
      "outputs": []
    },
    {
      "metadata": {
        "colab_type": "code",
        "id": "mNtPdlwPgRat",
        "colab": {
          "base_uri": "https://localhost:8080/",
          "height": 72
        },
        "outputId": "ae918cf0-6a07-4e9a-c4fb-afe4da9597f3"
      },
      "cell_type": "code",
      "source": [
        "# Now let's first see how large our data sets are.\n",
        "for path in (\"trees/train.txt\", \"trees/dev.txt\", \"trees/test.txt\"):\n",
        "  print(\"{:16s} {:4d}\".format(path, sum(1 for _ in filereader(path))))"
      ],
      "execution_count": 8,
      "outputs": [
        {
          "output_type": "stream",
          "text": [
            "trees/train.txt  8544\n",
            "trees/dev.txt    1101\n",
            "trees/test.txt   2210\n"
          ],
          "name": "stdout"
        }
      ]
    },
    {
      "metadata": {
        "colab_type": "text",
        "id": "HexlSqTR_UrY"
      },
      "cell_type": "markdown",
      "source": [
        "You can see that this data set is not very large! That's probably because it required so much manual annotation. However, it's large enough to train a neural network on.\n",
        "\n",
        "It will be useful to store each data example in an `Example` object,\n",
        "containing everything that we may need for each data point.\n",
        "It will contain the tokens, the tree, the top-level sentiment label, and \n",
        "the transitions (explained later)."
      ]
    },
    {
      "metadata": {
        "colab_type": "code",
        "id": "4I07Hb_-q8wg",
        "colab": {
          "base_uri": "https://localhost:8080/",
          "height": 72
        },
        "outputId": "59bc709b-8398-4f27-df2d-df324d9c3f5a"
      },
      "cell_type": "code",
      "source": [
        "from collections import namedtuple\n",
        "from nltk import Tree\n",
        "\n",
        "# A simple way to define a class is using namedtuple.\n",
        "Example = namedtuple(\"Example\", [\"tokens\", \"tree\", \"label\", \"transitions\"])\n",
        "\n",
        "   \n",
        "def examplereader(path, lower=False):\n",
        "  \"\"\"Returns all examples in a file one by one.\"\"\"\n",
        "  for line in filereader(path):\n",
        "    line = line.lower() if lower else line\n",
        "    tokens = tokens_from_treestring(line)\n",
        "    tree = Tree.fromstring(line)  # use NLTK's Tree\n",
        "    label = int(line[1])\n",
        "    trans = transitions_from_treestring(line)\n",
        "    yield Example(tokens=tokens, tree=tree, label=label, transitions=trans)\n",
        "  \n",
        "\n",
        "# Let's load the data into memory.\n",
        "LOWER = False  # we will keep the original casing\n",
        "train_data = list(examplereader(\"trees/train.txt\", lower=LOWER))\n",
        "dev_data = list(examplereader(\"trees/dev.txt\", lower=LOWER))\n",
        "test_data = list(examplereader(\"trees/test.txt\", lower=LOWER))\n",
        "\n",
        "print(\"train\", len(train_data))\n",
        "print(\"dev\", len(dev_data))\n",
        "print(\"test\", len(test_data))"
      ],
      "execution_count": 9,
      "outputs": [
        {
          "output_type": "stream",
          "text": [
            "train 8544\n",
            "dev 1101\n",
            "test 2210\n"
          ],
          "name": "stdout"
        }
      ]
    },
    {
      "metadata": {
        "colab_type": "text",
        "id": "6KM0bDyeVZtP"
      },
      "cell_type": "markdown",
      "source": [
        "Let's check out an example object."
      ]
    },
    {
      "metadata": {
        "colab_type": "code",
        "id": "J8mwcaZwxP1c",
        "colab": {
          "base_uri": "https://localhost:8080/",
          "height": 92
        },
        "outputId": "dd44dd1b-3ee4-4eda-9e36-32fed3b9721e"
      },
      "cell_type": "code",
      "source": [
        "example = dev_data[0]\n",
        "print(\"First train example:\", example)\n",
        "print(\"First train example tokens:\", example.tokens)\n",
        "print(\"First train example label:\",  example.label)"
      ],
      "execution_count": 10,
      "outputs": [
        {
          "output_type": "stream",
          "text": [
            "First train example: Example(tokens=['It', \"'s\", 'a', 'lovely', 'film', 'with', 'lovely', 'performances', 'by', 'Buy', 'and', 'Accorsi', '.'], tree=Tree('3', [Tree('2', ['It']), Tree('4', [Tree('4', [Tree('2', [\"'s\"]), Tree('4', [Tree('3', [Tree('2', ['a']), Tree('4', [Tree('3', ['lovely']), Tree('2', ['film'])])]), Tree('3', [Tree('2', ['with']), Tree('4', [Tree('3', [Tree('3', ['lovely']), Tree('2', ['performances'])]), Tree('2', [Tree('2', ['by']), Tree('2', [Tree('2', [Tree('2', ['Buy']), Tree('2', ['and'])]), Tree('2', ['Accorsi'])])])])])])]), Tree('2', ['.'])])]), label=3, transitions=[0, 0, 0, 0, 0, 1, 1, 0, 0, 0, 1, 0, 0, 0, 1, 0, 1, 1, 1, 1, 1, 1, 0, 1, 1])\n",
            "First train example tokens: ['It', \"'s\", 'a', 'lovely', 'film', 'with', 'lovely', 'performances', 'by', 'Buy', 'and', 'Accorsi', '.']\n",
            "First train example label: 3\n"
          ],
          "name": "stdout"
        }
      ]
    },
    {
      "metadata": {
        "colab_type": "text",
        "id": "-WDSprDBVcr-"
      },
      "cell_type": "markdown",
      "source": [
        "#### Vocabulary \n",
        "To work with this data we will need a vocabulary.\n",
        "The job of the vocabulary is to map each word to a unique ID.\n"
      ]
    },
    {
      "metadata": {
        "colab_type": "code",
        "id": "VvNgKx7usRSt",
        "colab": {}
      },
      "cell_type": "code",
      "source": [
        "# Here we first define a class that can map a word to an ID (w2i)\n",
        "# and back (i2w).\n",
        "\n",
        "from collections import Counter, OrderedDict, defaultdict\n",
        "\n",
        "\n",
        "class OrderedCounter(Counter, OrderedDict):\n",
        "  \"\"\"Counter that remembers the order elements are first seen\"\"\"\n",
        "  def __repr__(self):\n",
        "    return '%s(%r)' % (self.__class__.__name__,\n",
        "                      OrderedDict(self))\n",
        "  def __reduce__(self):\n",
        "    return self.__class__, (OrderedDict(self),)\n",
        "\n",
        "\n",
        "class Vocabulary:\n",
        "  \"\"\"A vocabulary, assigns IDs to tokens\"\"\"\n",
        "  \n",
        "  def __init__(self):\n",
        "    self.freqs = OrderedCounter()\n",
        "    self.w2i = {}\n",
        "    self.i2w = []\n",
        "\n",
        "  def count_token(self, t):\n",
        "    self.freqs[t] += 1\n",
        "    \n",
        "  def add_token(self, t):\n",
        "    self.w2i[t] = len(self.w2i)\n",
        "    self.i2w.append(t)    \n",
        "    \n",
        "  def build(self, min_freq=0):\n",
        "    self.add_token(\"<unk>\")  # reserve 0 for <unk> (unknown words)\n",
        "    self.add_token(\"<pad>\")  # reserve 1 for <pad> (discussed later)   \n",
        "    \n",
        "    tok_freq = list(self.freqs.items())\n",
        "    tok_freq.sort(key=lambda x: x[1], reverse=True)\n",
        "    for tok, freq in tok_freq:\n",
        "      if freq >= min_freq:\n",
        "        self.add_token(tok)"
      ],
      "execution_count": 0,
      "outputs": []
    },
    {
      "metadata": {
        "colab_type": "text",
        "id": "kOvkH_llVsoW"
      },
      "cell_type": "markdown",
      "source": [
        "Let's build the token vocabulary!\n",
        "\n",
        "When randomly initializing word vectors, we take the words in our training\n",
        "set and assign them unique IDs, and assign all other words to <unk>, \n",
        "because those we cannot learn a vector for based on our training data.\n"
      ]
    },
    {
      "metadata": {
        "colab_type": "code",
        "id": "GwGQgQQBNUSq",
        "colab": {
          "base_uri": "https://localhost:8080/",
          "height": 35
        },
        "outputId": "ca095028-1561-40b4-d0d0-3de1a21456f7"
      },
      "cell_type": "code",
      "source": [
        "# This process should be deterministic and should have the same result \n",
        "# if run multiple times on the same data set.\n",
        "\n",
        "v = Vocabulary()\n",
        "for data_set in (train_data,):\n",
        "  for ex in data_set:\n",
        "    for token in ex.tokens:\n",
        "      v.count_token(token)\n",
        "\n",
        "v.build()\n",
        "print(\"Vocabulary size:\", len(v.w2i))"
      ],
      "execution_count": 12,
      "outputs": [
        {
          "output_type": "stream",
          "text": [
            "Vocabulary size: 18280\n"
          ],
          "name": "stdout"
        }
      ]
    },
    {
      "metadata": {
        "colab_type": "text",
        "id": "-UNIedPrPdCw"
      },
      "cell_type": "markdown",
      "source": [
        "Let's have a closer look at the properties of our vocabulary. Having a good idea of what it is like can facilitate data analysis and debugging later on."
      ]
    },
    {
      "metadata": {
        "colab_type": "code",
        "id": "oJyuogmh0CA7",
        "colab": {
          "base_uri": "https://localhost:8080/",
          "height": 35
        },
        "outputId": "a9584915-92c4-4bca-a89e-2a887188857c"
      },
      "cell_type": "code",
      "source": [
        "# What is the ID for \"century?\"\n",
        "print(v.w2i[\"century\"])"
      ],
      "execution_count": 13,
      "outputs": [
        {
          "output_type": "stream",
          "text": [
            "1973\n"
          ],
          "name": "stdout"
        }
      ]
    },
    {
      "metadata": {
        "colab_type": "code",
        "id": "O8OkPQ8Zv-rI",
        "colab": {
          "base_uri": "https://localhost:8080/",
          "height": 35
        },
        "outputId": "f5664b94-0fee-4877-d645-cf45c00dd51a"
      },
      "cell_type": "code",
      "source": [
        "# What are the first 10 words in the vocabulary?\n",
        "for i in v.i2w[0:10]: \n",
        "    print(i, end = '  ')"
      ],
      "execution_count": 14,
      "outputs": [
        {
          "output_type": "stream",
          "text": [
            "<unk>  <pad>  .  ,  the  and  a  of  to  's  "
          ],
          "name": "stdout"
        }
      ]
    },
    {
      "metadata": {
        "colab_type": "code",
        "id": "kmXwu02lOLWI",
        "colab": {
          "base_uri": "https://localhost:8080/",
          "height": 201
        },
        "outputId": "332252da-7e98-424f-b088-809a373a4050"
      },
      "cell_type": "code",
      "source": [
        "# What are the 10 most common words?\n",
        "for word in v.freqs.most_common(10):\n",
        "    print(word)"
      ],
      "execution_count": 15,
      "outputs": [
        {
          "output_type": "stream",
          "text": [
            "('.', 8024)\n",
            "(',', 7131)\n",
            "('the', 6037)\n",
            "('and', 4431)\n",
            "('a', 4403)\n",
            "('of', 4386)\n",
            "('to', 2995)\n",
            "(\"'s\", 2544)\n",
            "('is', 2536)\n",
            "('that', 1915)\n"
          ],
          "name": "stdout"
        }
      ]
    },
    {
      "metadata": {
        "colab_type": "code",
        "id": "__NDPaCeOT_m",
        "colab": {
          "base_uri": "https://localhost:8080/",
          "height": 35
        },
        "outputId": "11d7be54-3768-4b08-fd4c-81cf9a65c978"
      },
      "cell_type": "code",
      "source": [
        "# And how many words are there with frequency 1?\n",
        "print(len([word for word in v.freqs if v.freqs[word] == 1]))"
      ],
      "execution_count": 16,
      "outputs": [
        {
          "output_type": "stream",
          "text": [
            "9543\n"
          ],
          "name": "stdout"
        }
      ]
    },
    {
      "metadata": {
        "colab_type": "code",
        "id": "xKHocugctZGM",
        "colab": {
          "base_uri": "https://localhost:8080/",
          "height": 384
        },
        "outputId": "b8e8f37d-74b9-4025-96dc-3cbfd10ea90d"
      },
      "cell_type": "code",
      "source": [
        "# Finally 20 random words from the vocabulary.\n",
        "# This is a simple way to get a feeling for the data.\n",
        "\n",
        "for randw in random.sample(list(v.w2i), 20):\n",
        "    print(randw, ',',v.w2i[randw])"
      ],
      "execution_count": 17,
      "outputs": [
        {
          "output_type": "stream",
          "text": [
            "less , 193\n",
            "harvesting , 12164\n",
            "Pete , 7746\n",
            "Lost , 6860\n",
            "spiritless , 16134\n",
            "lumpish , 15388\n",
            "piquant , 11311\n",
            "fearlessly , 12217\n",
            "chitchat , 13373\n",
            "permission , 15415\n",
            "revealed , 4168\n",
            "joys , 6494\n",
            "tax , 8362\n",
            "harangues , 6141\n",
            "Concubine , 13594\n",
            "of , 7\n",
            "purposeless , 8311\n",
            "labour , 5882\n",
            "willing , 1711\n",
            "Tunes , 11873\n"
          ],
          "name": "stdout"
        }
      ]
    },
    {
      "metadata": {
        "colab_type": "text",
        "id": "nGWaZahKV_dH"
      },
      "cell_type": "markdown",
      "source": [
        "#### Sentiment label vocabulary"
      ]
    },
    {
      "metadata": {
        "colab_type": "code",
        "id": "AmTC-rvQelpl",
        "colab": {
          "base_uri": "https://localhost:8080/",
          "height": 35
        },
        "outputId": "0d11b9f0-3e7f-4ada-d6b5-0dbb8d818c5a"
      },
      "cell_type": "code",
      "source": [
        "# Now let's map the sentiment labels 0-4 to a more readable form\n",
        "i2t = [\"very negative\", \"negative\", \"neutral\", \"positive\", \"very positive\"]\n",
        "i2t"
      ],
      "execution_count": 18,
      "outputs": [
        {
          "output_type": "execute_result",
          "data": {
            "text/plain": [
              "['very negative', 'negative', 'neutral', 'positive', 'very positive']"
            ]
          },
          "metadata": {
            "tags": []
          },
          "execution_count": 18
        }
      ]
    },
    {
      "metadata": {
        "colab_type": "code",
        "id": "D7UI26DP2dr2",
        "colab": {
          "base_uri": "https://localhost:8080/",
          "height": 109
        },
        "outputId": "31d250f4-d531-42d4-8d33-8d0d541e3920"
      },
      "cell_type": "code",
      "source": [
        "# And let's also create the opposite mapping.\n",
        "# We won't use a Vocabulary for this (although we could), since the labels\n",
        "# are already numeric.\n",
        "t2i = OrderedDict({p : i for p, i in zip(i2t, range(len(i2t)))})\n",
        "t2i"
      ],
      "execution_count": 19,
      "outputs": [
        {
          "output_type": "execute_result",
          "data": {
            "text/plain": [
              "OrderedDict([('very negative', 0),\n",
              "             ('negative', 1),\n",
              "             ('neutral', 2),\n",
              "             ('positive', 3),\n",
              "             ('very positive', 4)])"
            ]
          },
          "metadata": {
            "tags": []
          },
          "execution_count": 19
        }
      ]
    },
    {
      "metadata": {
        "colab_type": "text",
        "id": "y0067ax54-rd"
      },
      "cell_type": "markdown",
      "source": [
        "## Installing PyTorch\n",
        "\n",
        "We are going to need PyTorch and Google Colab does not have it installed by default. Run the cell below to install it.\n",
        "\n",
        "*For installing PyTorch in your own computer, follow the instructions on [pytorch.org](pytorch.org) instead. This is for Google Colab only.*"
      ]
    },
    {
      "metadata": {
        "colab_type": "code",
        "id": "qKQMGtkR5KWr",
        "colab": {
          "base_uri": "https://localhost:8080/",
          "height": 55
        },
        "outputId": "579c8ea9-6441-4376-c404-92ae3d7da211"
      },
      "cell_type": "code",
      "source": [
        "# http://pytorch.org/\n",
        "from os.path import exists\n",
        "from wheel.pep425tags import get_abbr_impl, get_impl_ver, get_abi_tag\n",
        "platform = '{}{}-{}'.format(get_abbr_impl(), get_impl_ver(), get_abi_tag())\n",
        "cuda_output = !ldconfig -p|grep cudart.so|sed -e 's/.*\\.\\([0-9]*\\)\\.\\([0-9]*\\)$/cu\\1\\2/'\n",
        "accelerator = cuda_output[0] if exists('/dev/nvidia0') else 'cpu'\n",
        "\n",
        "!pip install -q http://download.pytorch.org/whl/{accelerator}/torch-0.4.1-{platform}-linux_x86_64.whl torchvision\n",
        "import torch\n",
        "from torch import optim\n",
        "from torch import nn"
      ],
      "execution_count": 20,
      "outputs": [
        {
          "output_type": "stream",
          "text": [
            "tcmalloc: large alloc 1073750016 bytes == 0x5865e000 @  0x7fd6615fe2a4 0x591a07 0x5b5d56 0x502e9a 0x506859 0x502209 0x502f3d 0x506859 0x504c28 0x502540 0x502f3d 0x506859 0x504c28 0x502540 0x502f3d 0x506859 0x504c28 0x502540 0x502f3d 0x507641 0x502209 0x502f3d 0x506859 0x504c28 0x502540 0x502f3d 0x507641 0x504c28 0x502540 0x502f3d 0x507641\n"
          ],
          "name": "stdout"
        }
      ]
    },
    {
      "metadata": {
        "colab_type": "code",
        "id": "BhiRqhTM5V4c",
        "colab": {
          "base_uri": "https://localhost:8080/",
          "height": 35
        },
        "outputId": "24a16f73-5b3e-4c4d-d27b-8287c863f4bd"
      },
      "cell_type": "code",
      "source": [
        "# this should result in the PyTorch version\n",
        "torch.__version__"
      ],
      "execution_count": 21,
      "outputs": [
        {
          "output_type": "execute_result",
          "data": {
            "text/plain": [
              "'0.4.1'"
            ]
          },
          "metadata": {
            "tags": []
          },
          "execution_count": 21
        }
      ]
    },
    {
      "metadata": {
        "colab_type": "code",
        "id": "BYt8uTyGCKc7",
        "colab": {
          "base_uri": "https://localhost:8080/",
          "height": 35
        },
        "outputId": "9b7f8d10-6dc1-42ac-cda8-c11d5f87cb7b"
      },
      "cell_type": "code",
      "source": [
        "# PyTorch can run on CPU or on Nvidia GPU (video card) using CUDA\n",
        "# This cell selects the GPU if one is available.\n",
        "device = torch.device('cuda' if torch.cuda.is_available() else 'cpu')\n",
        "device"
      ],
      "execution_count": 22,
      "outputs": [
        {
          "output_type": "execute_result",
          "data": {
            "text/plain": [
              "device(type='cuda')"
            ]
          },
          "metadata": {
            "tags": []
          },
          "execution_count": 22
        }
      ]
    },
    {
      "metadata": {
        "colab_type": "code",
        "id": "2d1VMOOYx1Bw",
        "colab": {}
      },
      "cell_type": "code",
      "source": [
        "# Seed manually to make runs reproducible\n",
        "# You need to set this again if you do multiple runs of the same model\n",
        "torch.manual_seed(0)\n",
        "\n",
        "# When running on the CuDNN backend two further options must be set for reproducibility\n",
        "if torch.cuda.is_available():\n",
        "  torch.backends.cudnn.deterministic = True\n",
        "  torch.backends.cudnn.benchmark = False"
      ],
      "execution_count": 0,
      "outputs": []
    },
    {
      "metadata": {
        "colab_type": "text",
        "id": "uWBTzkuE3CtZ"
      },
      "cell_type": "markdown",
      "source": [
        "# BOW"
      ]
    },
    {
      "metadata": {
        "colab_type": "text",
        "id": "TBAjYYySOA5W"
      },
      "cell_type": "markdown",
      "source": [
        "Our first model is a super simple neural **bag-of-words (BOW) model**.\n",
        "Unlike the bag-of-words model that you used in the previous lab, here we associate each word with a vector of size 5, exactly our number of sentiment classes. \n",
        "\n",
        "To make a classification, we simply **sum** the vectors of the words in our sentence and a bias vector. Because we sum the vectors, we lose word order: that's why we call this a neural bag-of-words model.\n",
        "\n",
        "```\n",
        "this   [0.0, 0.1, 0.1, 0.1, 0.0]\n",
        "movie  [0.1, 0.1, 0.1, 0.2, 0.1]\n",
        "is     [0.0, 0.1, 0.0, 0.0, 0.0]\n",
        "stupid [0.9, 0.5, 0.1, 0.0, 0.0]\n",
        "\n",
        "bias   [0.0, 0.0, 0.0, 0.0, 0.0]\n",
        "--------------------------------\n",
        "sum    [0.9, 0.8, 0.3, 0.3, 0.1]\n",
        "\n",
        "argmax: 0 (very negative)\n",
        "```\n",
        "\n",
        "Now, the **argmax** of this sum is our predicted label.\n",
        "\n",
        "We initialize all vectors *randomly* and train them using cross-entropy loss."
      ]
    },
    {
      "metadata": {
        "colab_type": "text",
        "id": "rLtBAIQGynkB"
      },
      "cell_type": "markdown",
      "source": [
        "#### Model class"
      ]
    },
    {
      "metadata": {
        "colab_type": "code",
        "id": "QZfNklWf3tvs",
        "colab": {}
      },
      "cell_type": "code",
      "source": [
        "class BOW(nn.Module):\n",
        "  \"\"\"A simple bag-of-words model\"\"\"\n",
        "\n",
        "  def __init__(self, vocab_size, embedding_dim, vocab):\n",
        "    super(BOW, self).__init__()\n",
        "    self.vocab = vocab\n",
        "    \n",
        "    # this is a trained look-up table with word embeddings\n",
        "    self.embed = nn.Embedding(vocab_size, embedding_dim)\n",
        "    \n",
        "    # this is a trained bias term\n",
        "    self.bias = nn.Parameter(torch.zeros(embedding_dim), requires_grad=True)        \n",
        "\n",
        "  def forward(self, inputs):\n",
        "    # this is the forward pass of the neural network\n",
        "    # given inputs, it computes the output\n",
        "\n",
        "    # this looks up the embeddings for each word ID in inputs\n",
        "    # the result is a sequence of word embeddings\n",
        "    embeds = self.embed(inputs)\n",
        "    \n",
        "    # the output is the sum across the time dimension (1)\n",
        "    # with the bias term added\n",
        "    logits = embeds.sum(1) + self.bias\n",
        "\n",
        "    return logits"
      ],
      "execution_count": 0,
      "outputs": []
    },
    {
      "metadata": {
        "colab_type": "code",
        "id": "eKHvBnoBAr6z",
        "colab": {
          "base_uri": "https://localhost:8080/",
          "height": 72
        },
        "outputId": "19e69d56-3ae6-4c18-c97e-d7a8b33140b0"
      },
      "cell_type": "code",
      "source": [
        "# Let's create a model.\n",
        "vocab_size = len(v.w2i)\n",
        "n_classes = len(t2i)\n",
        "bow_model = BOW(vocab_size, n_classes, v)\n",
        "print(bow_model)"
      ],
      "execution_count": 25,
      "outputs": [
        {
          "output_type": "stream",
          "text": [
            "BOW(\n",
            "  (embed): Embedding(18280, 5)\n",
            ")\n"
          ],
          "name": "stdout"
        }
      ]
    },
    {
      "metadata": {
        "colab_type": "text",
        "id": "vfCx-HvMH1qQ"
      },
      "cell_type": "markdown",
      "source": [
        "> **Hey, wait, where is the bias vector?**\n",
        "> PyTorch does not print Parameters, only Modules!\n",
        "\n",
        "> We can print it ourselves though, to check that it is there."
      ]
    },
    {
      "metadata": {
        "colab_type": "code",
        "id": "Fhvk5HenAroT",
        "colab": {
          "base_uri": "https://localhost:8080/",
          "height": 109
        },
        "outputId": "dfb80572-8a97-4cea-fde5-c2dba8651d33"
      },
      "cell_type": "code",
      "source": [
        "\n",
        "# Here we print each parameter name, shape, and if it is trainable.\n",
        "def print_parameters(model):\n",
        "  total = 0\n",
        "  for name, p in model.named_parameters():\n",
        "    total += np.prod(p.shape)\n",
        "    print(\"{:24s} {:12s} requires_grad={}\".format(name, str(list(p.shape)), p.requires_grad))\n",
        "  print(\"\\nTotal parameters: {}\\n\".format(total))\n",
        "    \n",
        "\n",
        "print_parameters(bow_model)"
      ],
      "execution_count": 26,
      "outputs": [
        {
          "output_type": "stream",
          "text": [
            "bias                     [5]          requires_grad=True\n",
            "embed.weight             [18280, 5]   requires_grad=True\n",
            "\n",
            "Total parameters: 91405\n",
            "\n"
          ],
          "name": "stdout"
        }
      ]
    },
    {
      "metadata": {
        "colab_type": "text",
        "id": "WSAw292WxuP4"
      },
      "cell_type": "markdown",
      "source": [
        "#### Preparing an example for input\n",
        "\n",
        "To feed sentences to our PyTorch model, we need to convert a sequence of tokens to a sequence of IDs. The `prepare_example` function below takes care of this for us. With these IDs we index the word embedding table. "
      ]
    },
    {
      "metadata": {
        "colab_type": "code",
        "id": "YWeGTC_OGReV",
        "colab": {}
      },
      "cell_type": "code",
      "source": [
        "def prepare_example(example, vocab):\n",
        "  \"\"\"\n",
        "  Map tokens to their IDs for 1 example\n",
        "  \"\"\"\n",
        "  \n",
        "  # vocab returns 0 if the word is not there\n",
        "  x = [vocab.w2i.get(t, 0) for t in example.tokens]\n",
        "  \n",
        "  x = torch.LongTensor([x])\n",
        "  x = x.to(device)\n",
        "  \n",
        "  y = torch.LongTensor([example.label])\n",
        "  y = y.to(device)\n",
        "  \n",
        "  return x, y"
      ],
      "execution_count": 0,
      "outputs": []
    },
    {
      "metadata": {
        "colab_type": "text",
        "id": "oKNQjEc0yXnJ"
      },
      "cell_type": "markdown",
      "source": [
        "#### Evaluation\n",
        "We will need one more thing: an evaluation metric.\n",
        "How many predictions do we get right? The accuracy will tell us.\n",
        "Make sure that you understand this code block.\n"
      ]
    },
    {
      "metadata": {
        "colab_type": "code",
        "id": "yGmQLcVYKZsh",
        "colab": {}
      },
      "cell_type": "code",
      "source": [
        "\n",
        "def simple_evaluate(model, data, prep_fn=prepare_example, **kwargs):\n",
        "  \"\"\"Accuracy of a model on given data set.\"\"\"\n",
        "  correct = 0\n",
        "  total = 0\n",
        "  model.eval()  # disable dropout (explained later)\n",
        "\n",
        "  for example in data:\n",
        "    \n",
        "    # convert the example input and label to PyTorch tensors\n",
        "    x, target = prep_fn(example, model.vocab)\n",
        "\n",
        "    # forward pass\n",
        "    # get the output from the neural network for input x\n",
        "    with torch.no_grad():\n",
        "      logits = model(x)\n",
        "    \n",
        "    # get out the prediction\n",
        "    prediction = logits.argmax(dim=-1)\n",
        "    \n",
        "    # add the number of correct predictions to the total correct\n",
        "    correct += (prediction == target).sum().item()\n",
        "    total += 1\n",
        "\n",
        "  return correct, total, correct / float(total)"
      ],
      "execution_count": 0,
      "outputs": []
    },
    {
      "metadata": {
        "colab_type": "text",
        "id": "dIk6OtSdzGRP"
      },
      "cell_type": "markdown",
      "source": [
        "#### Example feed\n",
        "For stochastic gradient descent (SGD) we will need a random training example for every update.\n",
        "We implement this by shuffling the training data and returning examples one by one using `yield`.\n",
        "\n",
        "Shuffling is optional so that we get to use this to get validation and test examples, too."
      ]
    },
    {
      "metadata": {
        "colab_type": "code",
        "id": "dxDFOZLfCXvJ",
        "colab": {}
      },
      "cell_type": "code",
      "source": [
        "def get_examples(data, shuffle=True, **kwargs):\n",
        "  \"\"\"Shuffle data set and return 1 example at a time (until nothing left)\"\"\"\n",
        "  if shuffle:\n",
        "    print(\"Shuffling training data\")\n",
        "    random.shuffle(data)  # shuffle training data each epoch\n",
        "  for example in data:\n",
        "    yield example"
      ],
      "execution_count": 0,
      "outputs": []
    },
    {
      "metadata": {
        "colab_type": "text",
        "id": "g09SM8yb2cjx"
      },
      "cell_type": "markdown",
      "source": [
        "#### Exercise: Training function\n",
        "\n",
        "Your task is now to complete the training loop below.\n",
        "Before you do so, please read the section about optimization."
      ]
    },
    {
      "metadata": {
        "colab_type": "text",
        "id": "TVfUukVdM_1c"
      },
      "cell_type": "markdown",
      "source": [
        "**Optimization**\n",
        "\n",
        "As mentioned in the \"Introduction to PyTorch\" notebook, one of the perks of using PyTorch are its automatic differentiation abilities. We will use these to train our BOW model. \n",
        "\n",
        "We train our model by feeding it an input and performing **forward** pass, which results in an output for which we obtain a **loss** with our loss function.\n",
        "After the gradients are calculated in the **backward** pass, we can take a step on the loss surface towards more optimal parameter settings (e.g. gradient descent). \n",
        "\n",
        "The package we will use to do this optimization is [torch.optim](https://pytorch.org/docs/stable/optim.html). Besides implementations of stochastic gradient descent (SGD), this package also implements the optimization algorithm Adam, which we'll be using in this practical. \n",
        "For the purposes of this assignment you do not need to know what Adam does besides that it uses gradient information to update our model parameters by calling: \n",
        "\n",
        "```\n",
        "optimizer.step()\n",
        "```\n",
        "Remember when we updated our parameters in the PyTorch tutorial in a loop?\n",
        "\n",
        "\n",
        "```python\n",
        "# update weights\n",
        "learning_rate = 0.5\n",
        "for f in net.parameters():\n",
        "    # for each parameter, take a small step in the opposite dir of the gradient\n",
        "    p.data = p.data - p.grad.data * learning_rate\n",
        "\n",
        "```\n",
        "The function call optimizer.step() does effectively the same thing.\n",
        "\n",
        "*(If you want to know more about optimization algorithms using gradient information [this blog](http://ruder.io/optimizing-gradient-descent/.) gives a nice intuitive overview.)*"
      ]
    },
    {
      "metadata": {
        "colab_type": "code",
        "id": "ktFnKBux25lD",
        "colab": {}
      },
      "cell_type": "code",
      "source": [
        "def train_model(model, optimizer, num_iterations=10000, \n",
        "                print_every=1000, eval_every=1000,\n",
        "                batch_fn=get_examples, \n",
        "                prep_fn=prepare_example,\n",
        "                eval_fn=simple_evaluate,\n",
        "                batch_size=1, eval_batch_size=None):\n",
        "  \"\"\"Train a model.\"\"\"  \n",
        "  iter_i = 0\n",
        "  train_loss = 0.\n",
        "  print_num = 0\n",
        "  start = time.time()\n",
        "  criterion = nn.CrossEntropyLoss() # loss function\n",
        "  best_eval = 0.\n",
        "  best_iter = 0\n",
        "  \n",
        "  # store train loss and validation accuracy during training\n",
        "  # so we can plot them afterwards\n",
        "  losses = []\n",
        "  accuracies = []  \n",
        "  \n",
        "  if eval_batch_size is None:\n",
        "    eval_batch_size = batch_size\n",
        "  \n",
        "  while True:  # when we run out of examples, shuffle and continue\n",
        "    for batch in batch_fn(train_data, batch_size=batch_size):\n",
        "\n",
        "      # forward pass\n",
        "      model.train()\n",
        "      x, targets = prep_fn(batch, model.vocab)\n",
        "      logits = model(x)\n",
        "\n",
        "      B = targets.size(0)  # later we will use B examples per update\n",
        "      \n",
        "      # compute cross-entropy loss (our criterion)\n",
        "      # note that the cross entropy loss function computes the softmax for us\n",
        "      loss = criterion(logits.view([B, -1]), targets.view(-1))\n",
        "      train_loss += loss.item()\n",
        "\n",
        "      # backward pass\n",
        "      # Tip: check the Introduction to PyTorch notebook.\n",
        "\n",
        "      # erase previous gradients\n",
        "#       raise NotImplementedError(\"Implement this\")\n",
        "      # YOUR CODE HERE\n",
        "      model.zero_grad()\n",
        "      \n",
        "      # compute gradients\n",
        "      # YOUR CODE HERE\n",
        "      loss.backward()\n",
        "\n",
        "      # update weights - take a small step in the opposite dir of the gradient\n",
        "      # YOUR CODE HERE\n",
        "      optimizer.step()\n",
        "\n",
        "      print_num += 1\n",
        "      iter_i += 1\n",
        "\n",
        "      # print info\n",
        "      if iter_i % print_every == 0:\n",
        "        print(\"Iter %r: loss=%.4f, time=%.2fs\" % \n",
        "              (iter_i, train_loss, time.time()-start))\n",
        "        losses.append(train_loss)\n",
        "        print_num = 0        \n",
        "        train_loss = 0.\n",
        "\n",
        "      # evaluate\n",
        "      if iter_i % eval_every == 0:\n",
        "        _, _, accuracy = eval_fn(model, dev_data, batch_size=eval_batch_size,\n",
        "                                 batch_fn=batch_fn, prep_fn=prep_fn)\n",
        "        accuracies.append(accuracy)\n",
        "        print(\"iter %r: dev acc=%.4f\" % (iter_i, accuracy))       \n",
        "        \n",
        "        # save best model parameters\n",
        "        if accuracy > best_eval:\n",
        "          print(\"new highscore\")\n",
        "          best_eval = accuracy\n",
        "          best_iter = iter_i\n",
        "          path = \"{}.pt\".format(model.__class__.__name__)\n",
        "          ckpt = {\n",
        "              \"state_dict\": model.state_dict(),\n",
        "              \"optimizer_state_dict\": optimizer.state_dict(),\n",
        "              \"best_eval\": best_eval,\n",
        "              \"best_iter\": best_iter\n",
        "          }\n",
        "          torch.save(ckpt, path)\n",
        "\n",
        "      # done training\n",
        "      if iter_i == num_iterations:\n",
        "        print(\"Done training\")\n",
        "        \n",
        "        # evaluate on train, dev, and test with best model\n",
        "        print(\"Loading best model\")\n",
        "        path = \"{}.pt\".format(model.__class__.__name__)        \n",
        "        ckpt = torch.load(path)\n",
        "        model.load_state_dict(ckpt[\"state_dict\"])\n",
        "        \n",
        "        _, _, train_acc = eval_fn(\n",
        "            model, train_data, batch_size=eval_batch_size, \n",
        "            batch_fn=batch_fn, prep_fn=prep_fn)\n",
        "        _, _, dev_acc = eval_fn(\n",
        "            model, dev_data, batch_size=eval_batch_size,\n",
        "            batch_fn=batch_fn, prep_fn=prep_fn)\n",
        "        _, _, test_acc = eval_fn(\n",
        "            model, test_data, batch_size=eval_batch_size, \n",
        "            batch_fn=batch_fn, prep_fn=prep_fn)\n",
        "        \n",
        "        print(\"best model iter {:d}: \"\n",
        "              \"train acc={:.4f}, dev acc={:.4f}, test acc={:.4f}\".format(\n",
        "                  best_iter, train_acc, dev_acc, test_acc))\n",
        "        \n",
        "        return losses, accuracies"
      ],
      "execution_count": 0,
      "outputs": []
    },
    {
      "metadata": {
        "colab_type": "text",
        "id": "XEPsLvI-3D5b"
      },
      "cell_type": "markdown",
      "source": [
        "### Training the BOW model"
      ]
    },
    {
      "metadata": {
        "colab_type": "code",
        "id": "9luJnNuN_d3q",
        "colab": {
          "base_uri": "https://localhost:8080/",
          "height": 1541
        },
        "outputId": "e82986b8-d9b5-4ae4-9314-67e2cdd03b2a"
      },
      "cell_type": "code",
      "source": [
        "# If everything is in place we can now train our first model!\n",
        "bow_model = BOW(len(v.w2i), len(t2i), vocab=v)\n",
        "print(bow_model)\n",
        "\n",
        "bow_model = bow_model.to(device)\n",
        "\n",
        "optimizer = optim.Adam(bow_model.parameters(), lr=0.0005)\n",
        "bow_losses, bow_accuracies = train_model(\n",
        "    bow_model, optimizer, num_iterations=30000, \n",
        "    print_every=1000, eval_every=1000)"
      ],
      "execution_count": 31,
      "outputs": [
        {
          "output_type": "stream",
          "text": [
            "BOW(\n",
            "  (embed): Embedding(18280, 5)\n",
            ")\n",
            "Shuffling training data\n",
            "Iter 1000: loss=5176.7795, time=2.07s\n",
            "iter 1000: dev acc=0.2116\n",
            "new highscore\n",
            "Iter 2000: loss=5080.3867, time=5.10s\n",
            "iter 2000: dev acc=0.2243\n",
            "new highscore\n",
            "Iter 3000: loss=4800.5344, time=8.03s\n",
            "iter 3000: dev acc=0.2289\n",
            "new highscore\n",
            "Iter 4000: loss=4757.5888, time=10.97s\n",
            "iter 4000: dev acc=0.2271\n",
            "Iter 5000: loss=4786.2760, time=13.84s\n",
            "iter 5000: dev acc=0.2307\n",
            "new highscore\n",
            "Iter 6000: loss=4656.1482, time=16.73s\n",
            "iter 6000: dev acc=0.2343\n",
            "new highscore\n",
            "Iter 7000: loss=4445.9600, time=19.64s\n",
            "iter 7000: dev acc=0.2398\n",
            "new highscore\n",
            "Iter 8000: loss=4534.2778, time=22.58s\n",
            "iter 8000: dev acc=0.2434\n",
            "new highscore\n",
            "Shuffling training data\n",
            "Iter 9000: loss=4158.8564, time=25.49s\n",
            "iter 9000: dev acc=0.2443\n",
            "new highscore\n",
            "Iter 10000: loss=4221.5842, time=28.38s\n",
            "iter 10000: dev acc=0.2443\n",
            "Iter 11000: loss=4148.9635, time=31.26s\n",
            "iter 11000: dev acc=0.2416\n",
            "Iter 12000: loss=4056.4820, time=34.17s\n",
            "iter 12000: dev acc=0.2425\n",
            "Iter 13000: loss=4023.1648, time=37.06s\n",
            "iter 13000: dev acc=0.2461\n",
            "new highscore\n",
            "Iter 14000: loss=4081.2167, time=39.96s\n",
            "iter 14000: dev acc=0.2443\n",
            "Iter 15000: loss=3968.4037, time=42.90s\n",
            "iter 15000: dev acc=0.2434\n",
            "Iter 16000: loss=3989.4552, time=45.80s\n",
            "iter 16000: dev acc=0.2443\n",
            "Iter 17000: loss=3954.3031, time=48.72s\n",
            "iter 17000: dev acc=0.2461\n",
            "Shuffling training data\n",
            "Iter 18000: loss=3679.5770, time=51.88s\n",
            "iter 18000: dev acc=0.2425\n",
            "Iter 19000: loss=3481.9322, time=54.91s\n",
            "iter 19000: dev acc=0.2461\n",
            "Iter 20000: loss=3557.8854, time=57.77s\n",
            "iter 20000: dev acc=0.2507\n",
            "new highscore\n",
            "Iter 21000: loss=3531.6162, time=60.64s\n",
            "iter 21000: dev acc=0.2480\n",
            "Iter 22000: loss=3596.0289, time=63.49s\n",
            "iter 22000: dev acc=0.2516\n",
            "new highscore\n",
            "Iter 23000: loss=3493.8783, time=66.37s\n",
            "iter 23000: dev acc=0.2498\n",
            "Iter 24000: loss=3427.6038, time=69.26s\n",
            "iter 24000: dev acc=0.2470\n",
            "Iter 25000: loss=3487.9803, time=72.15s\n",
            "iter 25000: dev acc=0.2498\n",
            "Shuffling training data\n",
            "Iter 26000: loss=3248.2589, time=74.99s\n",
            "iter 26000: dev acc=0.2534\n",
            "new highscore\n",
            "Iter 27000: loss=3189.8676, time=77.87s\n",
            "iter 27000: dev acc=0.2570\n",
            "new highscore\n",
            "Iter 28000: loss=3310.0084, time=80.76s\n",
            "iter 28000: dev acc=0.2543\n",
            "Iter 29000: loss=3062.1550, time=83.62s\n",
            "iter 29000: dev acc=0.2552\n",
            "Iter 30000: loss=3169.4819, time=86.48s\n",
            "iter 30000: dev acc=0.2525\n",
            "Done training\n",
            "Loading best model\n",
            "best model iter 27000: train acc=0.2965, dev acc=0.2570, test acc=0.2588\n"
          ],
          "name": "stdout"
        }
      ]
    },
    {
      "metadata": {
        "colab_type": "code",
        "id": "dvYLj8LIAzfS",
        "colab": {
          "base_uri": "https://localhost:8080/",
          "height": 451
        },
        "outputId": "e79fa07f-f81e-4cde-9e71-9d343a2a3ce5"
      },
      "cell_type": "code",
      "source": [
        "# This will plot the validation accuracies across time.\n",
        "plt.plot(bow_accuracies)"
      ],
      "execution_count": 34,
      "outputs": [
        {
          "output_type": "execute_result",
          "data": {
            "text/plain": [
              "[<matplotlib.lines.Line2D at 0x7f7a80b12320>]"
            ]
          },
          "metadata": {
            "tags": []
          },
          "execution_count": 34
        },
        {
          "output_type": "display_data",
          "data": {
            "image/png": "[encoded data removed]",
            "text/plain": [
              "<matplotlib.figure.Figure at 0x7f7ac21e0b70>"
            ]
          },
          "metadata": {
            "tags": []
          }
        }
      ]
    },
    {
      "metadata": {
        "colab_type": "code",
        "id": "vUHm9JfSI4po",
        "colab": {
          "base_uri": "https://localhost:8080/",
          "height": 451
        },
        "outputId": "6c142cd6-ff97-4ba3-db3a-c97d2c2f1b0e"
      },
      "cell_type": "code",
      "source": [
        "# This will plot the training loss over time.\n",
        "plt.plot(bow_losses)"
      ],
      "execution_count": 35,
      "outputs": [
        {
          "output_type": "execute_result",
          "data": {
            "text/plain": [
              "[<matplotlib.lines.Line2D at 0x7f7a80aeb7b8>]"
            ]
          },
          "metadata": {
            "tags": []
          },
          "execution_count": 35
        },
        {
          "output_type": "display_data",
          "data": {
            "image/png": "[encoded data removed]",
            "text/plain": [
              "<matplotlib.figure.Figure at 0x7f7a80b70be0>"
            ]
          },
          "metadata": {
            "tags": []
          }
        }
      ]
    },
    {
      "metadata": {
        "colab_type": "text",
        "id": "E9mB1_XhMPNN"
      },
      "cell_type": "markdown",
      "source": [
        "# CBOW"
      ]
    },
    {
      "metadata": {
        "colab_type": "text",
        "id": "pWk78FvNMw4o"
      },
      "cell_type": "markdown",
      "source": [
        "We now continue with a **continuous bag-of-words (CBOW)** model.\n",
        "It is similar to the BOW model, but now embeddings can have a dimension of *arbitrary size*. \n",
        "This means that we can make them bigger and learn more aspects of each word. We will still sum the vectors to get a sentence representation, but now the result is no longer conveniently the number of sentiment classes. \n",
        "\n",
        "*Note that this is not the same as word2vec CBOW.* Both models take a few words as input, sum and make a prediction. However, in word2vec the prediction is the word in the middle of the input words. Here, the prediction is a sentiment class (1 out of 5 possible numbers 0-4).\n",
        "\n",
        "So what can we do? We can *learn* a parameter matrix $W$ that turns our summed vector into the number of output classes, by matrix-multiplying it: $$Wx$$\n",
        "If the size of $W$ is `5 x d`, and $x$ is `d x 1` and , then the result will be `5x1`, and then we can again find our prediction using an argmax."
      ]
    },
    {
      "metadata": {
        "colab_type": "text",
        "id": "gIjrCPfCwsXI"
      },
      "cell_type": "markdown",
      "source": [
        "## Exercise: write CBOW class & train it\n",
        "\n",
        "Write a class `CBOW` that:\n",
        "\n",
        "- has word embeddings with size 300\n",
        "- sums the word vectors for the input words (just like in `BOW`)\n",
        "- projects the resulting vector down to 5 units using a linear layer (including a bias term)\n",
        "\n",
        "Train your CBOW model and plot the validation accuracy and training loss over time."
      ]
    },
    {
      "metadata": {
        "colab_type": "code",
        "id": "PEV22aR2MP0Q",
        "colab": {}
      },
      "cell_type": "code",
      "source": [
        "# YOUR CODE HERE\n",
        "\n",
        "class CBOW(nn.Module):\n",
        "  \"\"\"A simple bag-of-words model\"\"\"\n",
        "\n",
        "  def __init__(self, vocab_size, embedding_dim, class_dim, vocab):\n",
        "    super(CBOW, self).__init__()\n",
        "    self.vocab = vocab\n",
        "    \n",
        "    # this is a trained look-up table with word embeddings\n",
        "    self.embed = nn.Embedding(vocab_size, embedding_dim)\n",
        "    \n",
        "    # this is a trained bias term\n",
        "    self.bias = nn.Parameter(torch.zeros(class_dim), requires_grad=True)   \n",
        "    \n",
        "    # this is a trained parameter matrix W \n",
        "    self.W = nn.Linear(embedding_dim, class_dim)\n",
        "\n",
        "  def forward(self, inputs):\n",
        "    # this is the forward pass of the neural network\n",
        "    # given inputs, it computes the output\n",
        "\n",
        "    # this looks up the embeddings for each word ID in inputs\n",
        "    # the result is a sequence of word embeddings\n",
        "    embeds = self.embed(inputs)\n",
        "        \n",
        "    # Transpose embeds\n",
        "    embeds = embeds.view([embeds.size()[2], embeds.size()[1]])\n",
        "    \n",
        "    # Sum over the embeds vector to create a (embedding_dim)-vector\n",
        "    embeds_sum = embeds.sum(1)\n",
        "    \n",
        "    logits = self.W(embeds_sum)\n",
        "\n",
        "    return logits\n"
      ],
      "execution_count": 0,
      "outputs": []
    },
    {
      "metadata": {
        "id": "TINGyUuj2nib",
        "colab_type": "code",
        "colab": {
          "base_uri": "https://localhost:8080/",
          "height": 1866
        },
        "outputId": "0c34565c-e735-43bd-fe77-14eb92f87d0c"
      },
      "cell_type": "code",
      "source": [
        "# Let's create a CBOW model.\n",
        "vocab_size = len(v.w2i)\n",
        "n_classes = len(t2i)\n",
        "embedding_dim = 300\n",
        "cbow_model = CBOW(vocab_size, embedding_dim, n_classes, v)\n",
        "print(cbow_model)\n",
        "\n",
        "\n",
        "# Train the CBOW model\n",
        "\n",
        "cbow_model = cbow_model.to(device)\n",
        "\n",
        "optimizer = optim.Adam(cbow_model.parameters(), lr=0.0005)\n",
        "cbow_losses, cbow_accuracies = train_model(\n",
        "     cbow_model, optimizer, num_iterations=30000, \n",
        "     print_every=1000, eval_every=1000)"
      ],
      "execution_count": 38,
      "outputs": [
        {
          "output_type": "stream",
          "text": [
            "CBOW(\n",
            "  (embed): Embedding(18280, 300)\n",
            "  (W): Linear(in_features=300, out_features=5, bias=True)\n",
            ")\n",
            "Shuffling training data\n",
            "Iter 1000: loss=2737.4292, time=5.07s\n",
            "iter 1000: dev acc=0.2080\n",
            "new highscore\n",
            "Iter 2000: loss=2371.0750, time=11.07s\n",
            "iter 2000: dev acc=0.2062\n",
            "Iter 3000: loss=2064.8934, time=16.96s\n",
            "iter 3000: dev acc=0.2162\n",
            "new highscore\n",
            "Iter 4000: loss=1972.6923, time=22.98s\n",
            "iter 4000: dev acc=0.2216\n",
            "new highscore\n",
            "Iter 5000: loss=1979.3325, time=29.01s\n",
            "iter 5000: dev acc=0.2262\n",
            "new highscore\n",
            "Iter 6000: loss=1946.9311, time=35.07s\n",
            "iter 6000: dev acc=0.2461\n",
            "new highscore\n",
            "Iter 7000: loss=1908.2707, time=41.07s\n",
            "iter 7000: dev acc=0.2525\n",
            "new highscore\n",
            "Iter 8000: loss=1950.5061, time=47.14s\n",
            "iter 8000: dev acc=0.2480\n",
            "Shuffling training data\n",
            "Iter 9000: loss=1827.6955, time=53.14s\n",
            "iter 9000: dev acc=0.2334\n",
            "Iter 10000: loss=1757.4828, time=59.47s\n",
            "iter 10000: dev acc=0.2243\n",
            "Iter 11000: loss=1809.5986, time=65.60s\n",
            "iter 11000: dev acc=0.2398\n",
            "Iter 12000: loss=1737.5144, time=71.53s\n",
            "iter 12000: dev acc=0.2525\n",
            "Iter 13000: loss=1836.4456, time=77.45s\n",
            "iter 13000: dev acc=0.2153\n",
            "Iter 14000: loss=1770.1984, time=83.38s\n",
            "iter 14000: dev acc=0.2189\n",
            "Iter 15000: loss=1863.2806, time=89.32s\n",
            "iter 15000: dev acc=0.2470\n",
            "Iter 16000: loss=1806.5855, time=95.29s\n",
            "iter 16000: dev acc=0.2371\n",
            "Iter 17000: loss=1827.4666, time=101.25s\n",
            "iter 17000: dev acc=0.2252\n",
            "Shuffling training data\n",
            "Iter 18000: loss=1552.0466, time=107.22s\n",
            "iter 18000: dev acc=0.2343\n",
            "Iter 19000: loss=1543.7539, time=113.18s\n",
            "iter 19000: dev acc=0.2307\n",
            "Iter 20000: loss=1605.0993, time=119.44s\n",
            "iter 20000: dev acc=0.2262\n",
            "Iter 21000: loss=1606.8675, time=125.36s\n",
            "iter 21000: dev acc=0.2216\n",
            "Iter 22000: loss=1529.1465, time=131.28s\n",
            "iter 22000: dev acc=0.2452\n",
            "Iter 23000: loss=1542.0515, time=137.20s\n",
            "iter 23000: dev acc=0.2325\n",
            "Iter 24000: loss=1571.8437, time=143.12s\n",
            "iter 24000: dev acc=0.2489\n",
            "Iter 25000: loss=1622.7539, time=149.04s\n",
            "iter 25000: dev acc=0.2498\n",
            "Shuffling training data\n",
            "Iter 26000: loss=1400.9808, time=155.01s\n",
            "iter 26000: dev acc=0.2380\n",
            "Iter 27000: loss=1162.5916, time=160.98s\n",
            "iter 27000: dev acc=0.2398\n",
            "Iter 28000: loss=1155.6879, time=166.97s\n",
            "iter 28000: dev acc=0.2443\n",
            "Iter 29000: loss=1177.3181, time=172.96s\n",
            "iter 29000: dev acc=0.2425\n",
            "Iter 30000: loss=1273.7107, time=178.94s\n",
            "iter 30000: dev acc=0.2316\n",
            "Done training\n",
            "Loading best model\n",
            "best model iter 7000: train acc=0.3119, dev acc=0.2525, test acc=0.2326\n"
          ],
          "name": "stdout"
        },
        {
          "output_type": "execute_result",
          "data": {
            "text/plain": [
              "[<matplotlib.lines.Line2D at 0x7f7a80531278>]"
            ]
          },
          "metadata": {
            "tags": []
          },
          "execution_count": 38
        },
        {
          "output_type": "display_data",
          "data": {
            "image/png": "[encoded data removed]",
            "text/plain": [
              "<matplotlib.figure.Figure at 0x7f7a809d2390>"
            ]
          },
          "metadata": {
            "tags": []
          }
        }
      ]
    },
    {
      "metadata": {
        "id": "twxcl5Co4N2B",
        "colab_type": "code",
        "colab": {
          "base_uri": "https://localhost:8080/",
          "height": 451
        },
        "outputId": "5faa646e-605f-43bb-a5ad-dd851267c66d"
      },
      "cell_type": "code",
      "source": [
        "# This will plot the validation accuracies across time.\n",
        "plt.plot(cbow_accuracies)"
      ],
      "execution_count": 40,
      "outputs": [
        {
          "output_type": "execute_result",
          "data": {
            "text/plain": [
              "[<matplotlib.lines.Line2D at 0x7f7a80466d68>]"
            ]
          },
          "metadata": {
            "tags": []
          },
          "execution_count": 40
        },
        {
          "output_type": "display_data",
          "data": {
            "image/png": "[encoded data removed]",
            "text/plain": [
              "<matplotlib.figure.Figure at 0x7f7a80546d30>"
            ]
          },
          "metadata": {
            "tags": []
          }
        }
      ]
    },
    {
      "metadata": {
        "id": "lgj2vFJ74Vps",
        "colab_type": "code",
        "colab": {
          "base_uri": "https://localhost:8080/",
          "height": 451
        },
        "outputId": "61b41a2f-91cd-44cf-841f-dac412296b3e"
      },
      "cell_type": "code",
      "source": [
        "# This will plot the training loss over time.\n",
        "plt.plot(cbow_losses)"
      ],
      "execution_count": 41,
      "outputs": [
        {
          "output_type": "execute_result",
          "data": {
            "text/plain": [
              "[<matplotlib.lines.Line2D at 0x7f7a80445ac8>]"
            ]
          },
          "metadata": {
            "tags": []
          },
          "execution_count": 41
        },
        {
          "output_type": "display_data",
          "data": {
            "image/png": "[encoded data removed]",
            "text/plain": [
              "<matplotlib.figure.Figure at 0x7f7a8051b4a8>"
            ]
          },
          "metadata": {
            "tags": []
          }
        }
      ]
    },
    {
      "metadata": {
        "colab_type": "text",
        "id": "zpFt_Fo2TdN0"
      },
      "cell_type": "markdown",
      "source": [
        "# Deep CBOW"
      ]
    },
    {
      "metadata": {
        "colab_type": "text",
        "id": "iZanOMesTfEZ"
      },
      "cell_type": "markdown",
      "source": [
        "To see if we can squeeze some more performance out of the CBOW model, we can make it deeper and non-linear: add more layers and tanh-activations.\n",
        "By using more parameters we can learn more aspects of the data, and by using more layers and non-linearities, we can try to learn a more complex function. \n",
        "This is not something that always works. If the input-output mapping of your data is simple, then a complicated function could easily overfit on your training set, which will lead to poor generalization. \n",
        "\n",
        "We will use E for the size of the word embeddings (use: 300) and D for the size of a hidden layer (use: 100).\n",
        "\n",
        "#### Exercise: write Deep CBOW class and train it\n",
        "\n",
        "Write a class `DeepCBOW`.\n",
        "\n",
        "In your code, make sure that your `output_layer` consists of the following:\n",
        "- A linear transformation from E units to D units.\n",
        "- A Tanh activation\n",
        "- A linear transformation from D units to D units\n",
        "- A Tanh activation\n",
        "- A linear transformation from D units to 5 units (our output classes).\n",
        "\n",
        "We recommend using [nn.Sequential](https://pytorch.org/docs/stable/nn.html?highlight=sequential#torch.nn.Sequential) to implement this exercise."
      ]
    },
    {
      "metadata": {
        "colab_type": "code",
        "id": "l8Z1igvpTrZq",
        "colab": {}
      },
      "cell_type": "code",
      "source": [
        "# YOUR CODE HERE"
      ],
      "execution_count": 0,
      "outputs": []
    },
    {
      "metadata": {
        "colab_type": "text",
        "id": "MQZ5flHwiiHY"
      },
      "cell_type": "markdown",
      "source": [
        "# Pre-trained word embeddings"
      ]
    },
    {
      "metadata": {
        "colab_type": "text",
        "id": "9NX35vecmHy6"
      },
      "cell_type": "markdown",
      "source": [
        "The Stanford sentiment treebank is a very small data set, since it was manually annotated. This makes it difficult for the model to learn good word embeddings, to learn the \"meaning\" of the words in our vocabulary.\n",
        "\n",
        "Think for a moment about the fact that the only error signal that the network receives is from predicting the sentiment!\n",
        "\n",
        "To mitigate our data sparsity, we can download **pre-trained word embeddings**. \n",
        "You can choose which pre-trained word embeddings to use:\n",
        "\n",
        "- **Glove**. The \"original\" Stanford Sentiment classification [paper](http://aclweb.org/anthology/P/P15/P15-1150.pdf) used Glove embeddings, which are just another method (like *word2vec*) to get word embeddings from unannotated text. Glove is described in the following paper which you should cite if you use them:\n",
        "> Jeffrey Pennington, Richard Socher, and Christopher Manning. [\"Glove: Global vectors for word representation.\"](https://nlp.stanford.edu/pubs/glove.pdf) EMNLP 2014. \n",
        "\n",
        "- **word2vec**. This is the method that you learned about in class, described in:\n",
        "> Mikolov, Tomas, et al. [\"Distributed representations of words and phrases and their compositionality.\"](https://papers.nips.cc/paper/5021-distributed-representations-of-words-and-phrases-and-their-compositionality.pdf) Advances in neural information processing systems. 2013.\n",
        "\n",
        "With these pre-trained word embeddings, we can initialize our word embedding lookup table and start form a point where similar words are already close to one another. \n",
        "\n",
        "You can choose to keep the word embeddings **fixed** or to train them further.\n",
        "We will keep them fixed for now.\n",
        "\n",
        "For the purposes of this lab, it is enough if you understand how word2vec works (whichever vectors you use). If you are interested you may also check out the Glove paper.\n",
        "\n",
        "You can either download the word2vec vectors, or the Glove vectors.\n",
        "If you want to compare your results to the Stanford paper later on, then you should use Glove. \n",
        "**At the end of this lab you have the option to compare which vectors give you the best performance. For now, simply choose one of them and continue with that.**"
      ]
    },
    {
      "metadata": {
        "colab_type": "code",
        "id": "lGYr02WWO993",
        "colab": {}
      },
      "cell_type": "code",
      "source": [
        "# This downloads the Glove 840B 300d embeddings.\n",
        "# The original file is at http://nlp.stanford.edu/data/glove.840B.300d.zip\n",
        "# Since that file is 2GB, we provide you with a *filtered version*\n",
        "# which contains all the words you need for this data set.\n",
        "\n",
        "# You only need to do this once.\n",
        "# Please comment this cell out after downloading.\n",
        "\n",
        "!wget https://gist.githubusercontent.com/bastings/b094de2813da58056a05e8e7950d4ad1/raw/3fbd3976199c2b88de2ae62afc0ecc6f15e6f7ce/glove.840B.300d.sst.txt"
      ],
      "execution_count": 0,
      "outputs": []
    },
    {
      "metadata": {
        "colab_type": "code",
        "id": "6NLsgFGiTjmI",
        "colab": {}
      },
      "cell_type": "code",
      "source": [
        "# This downloads the word2vec 300D Google News vectors \n",
        "# The file has been truncated to only contain words that appear in our data set.\n",
        "# You can find the original file here: https://code.google.com/archive/p/word2vec/\n",
        "\n",
        "# You only need to do this once.\n",
        "# Please comment this out after downloading.\n",
        "!wget https://gist.githubusercontent.com/bastings/4d1c346c68969b95f2c34cfbc00ba0a0/raw/76b4fefc9ef635a79d0d8002522543bc53ca2683/googlenews.word2vec.300d.txt"
      ],
      "execution_count": 0,
      "outputs": []
    },
    {
      "metadata": {
        "colab_type": "code",
        "id": "GXBITzPRQUQb",
        "colab": {}
      },
      "cell_type": "code",
      "source": [
        "# Mount Google Drive (to save the downloaded files)\n",
        "from google.colab import drive\n",
        "drive.mount('/gdrive')"
      ],
      "execution_count": 0,
      "outputs": []
    },
    {
      "metadata": {
        "colab_type": "code",
        "id": "uFvzPuiKSCbl",
        "colab": {}
      },
      "cell_type": "code",
      "source": [
        "# Copy word vectors *to* Google Drive\n",
        "\n",
        "# You only need to do this once.\n",
        "# Please comment this out after running it. \n",
        "!cp \"glove.840B.300d.sst.txt\" \"/gdrive/My Drive/\"\n",
        "!cp \"googlenews.word2vec.300d.txt\" \"/gdrive/My Drive/\""
      ],
      "execution_count": 0,
      "outputs": []
    },
    {
      "metadata": {
        "colab_type": "code",
        "id": "kUMH0bM6BuY9",
        "colab": {}
      },
      "cell_type": "code",
      "source": [
        "# If you copied the word vectors to your Drive before,\n",
        "# here is where you copy them back to the Colab notebook.\n",
        "\n",
        "# Copy Glove vectors *from* Google Drive\n",
        "!cp \"/gdrive/My Drive/glove.840B.300d.sst.txt\" .\n",
        "!cp \"/gdrive/My Drive/googlenews.word2vec.300d.txt\" ."
      ],
      "execution_count": 0,
      "outputs": []
    },
    {
      "metadata": {
        "colab_type": "text",
        "id": "MX2GJVHILM8n"
      },
      "cell_type": "markdown",
      "source": [
        "At this point you have the pre-trained word embedding files, but what do they look like?"
      ]
    },
    {
      "metadata": {
        "colab_type": "code",
        "id": "ChsChH14Ruxn",
        "colab": {}
      },
      "cell_type": "code",
      "source": [
        "# Exercise: Print the first 4 lines of the files that you downloaded.\n",
        "# What do you see?"
      ],
      "execution_count": 0,
      "outputs": []
    },
    {
      "metadata": {
        "colab_type": "text",
        "id": "WIVCkUkE_IjR"
      },
      "cell_type": "markdown",
      "source": [
        "#### Exercise: New Vocabulary\n",
        "\n",
        "Since we now use pre-trained word embeddings, we need to create a new vocabulary. \n",
        "This is because of two reasons:\n",
        "\n",
        "1. Not all words in our training set are in the set of pre-trained word embeddings. We do not want words in our vocabulary that are not in that set.\n",
        "2. We get to look up the pre-trained word embedding for words in the validation and test set, even if we don't know them from training. \n",
        "\n",
        "Now, create a new vocabulary object `v` and load the pre-trained vectors into a `vectors`.\n",
        "\n",
        "The vocabulary `v` should consist of:\n",
        " - a  `<unk>` token at position 0,\n",
        " - a  `<pad>` token at position 1, \n",
        " - and then all words in the pre-trained vector set.\n",
        " \n",
        "\n",
        "After storing each vector in a list `vectors`, turn in into a numpy matrix like this:\n",
        "```python\n",
        " vectors = np.stack(vectors, axis=0)\n",
        "```\n",
        " \n",
        " \n"
      ]
    },
    {
      "metadata": {
        "colab_type": "code",
        "id": "ITyyCvDnCL4U",
        "colab": {}
      },
      "cell_type": "code",
      "source": [
        "# YOUR CODE HERE\n",
        "# v = ...\n",
        "# vectors = ..."
      ],
      "execution_count": 0,
      "outputs": []
    },
    {
      "metadata": {
        "colab_type": "text",
        "id": "xC-7mRyYNG9b"
      },
      "cell_type": "markdown",
      "source": [
        "#### Exercise: words not in our pre-trained set\n",
        "\n",
        "How many words in the training, dev, and test set are also in your vector set?\n",
        "How many words are not there?\n",
        "\n",
        "Store the words that are not in the word vector set in the set below."
      ]
    },
    {
      "metadata": {
        "colab_type": "code",
        "id": "K6MA3-wF_X5M",
        "colab": {}
      },
      "cell_type": "code",
      "source": [
        "words_not_found = set()\n",
        "# YOUR CODE HERE"
      ],
      "execution_count": 0,
      "outputs": []
    },
    {
      "metadata": {
        "colab_type": "text",
        "id": "BfEd38W0NnAI"
      },
      "cell_type": "markdown",
      "source": [
        "#### Exercise: train Deep CBOW with (fixed) pre-trained embeddings\n",
        "\n",
        "Now train Deep CBOW again using the pre-trained word vectors.\n"
      ]
    },
    {
      "metadata": {
        "colab_type": "code",
        "id": "z_6ooqgEsB20",
        "colab": {}
      },
      "cell_type": "code",
      "source": [
        "# We define a dummy class so that we save the model to a different file.\n",
        "class PTDeepCBOW(DeepCBOW):\n",
        "  def __init__(self, vocab_size, embedding_dim, hidden_dim, output_dim, vocab):\n",
        "    super(PTDeepCBOW, self).__init__(\n",
        "        vocab_size, embedding_dim, hidden_dim, output_dim, vocab)"
      ],
      "execution_count": 0,
      "outputs": []
    },
    {
      "metadata": {
        "colab_type": "code",
        "id": "JfIh4Ni6yuAh",
        "colab": {}
      },
      "cell_type": "code",
      "source": [
        "# YOUR CODE HERE\n",
        "# pt_deep_cbow_model = ..\n",
        "\n",
        "# copy pre-trained word vectors into embeddings table\n",
        "pt_deep_cbow_model.embed.weight.data.copy_(torch.from_numpy(vectors))\n",
        "\n",
        "# disable training the pre-trained embeddings\n",
        "pt_deep_cbow_model.embed.weight.requires_grad = False\n",
        "\n",
        "# move model to specified device\n",
        "pt_deep_cbow_model = pt_deep_cbow_model.to(device)\n",
        "\n",
        "# train the model\n",
        "# YOUR CODE HERE"
      ],
      "execution_count": 0,
      "outputs": []
    },
    {
      "metadata": {
        "colab_type": "code",
        "id": "Ufujv3x31ufD",
        "colab": {}
      },
      "cell_type": "code",
      "source": [
        "# plot dev accuracies"
      ],
      "execution_count": 0,
      "outputs": []
    },
    {
      "metadata": {
        "colab_type": "code",
        "id": "YTJtKBzd7Qjr",
        "colab": {}
      },
      "cell_type": "code",
      "source": [
        "# plot train loss"
      ],
      "execution_count": 0,
      "outputs": []
    },
    {
      "metadata": {
        "colab_type": "text",
        "id": "yFu8xzCy9XDW"
      },
      "cell_type": "markdown",
      "source": [
        "**It looks like we've hit what is possible with just using words.**\n",
        "Let's move on by incorporating word order!"
      ]
    },
    {
      "metadata": {
        "colab_type": "text",
        "id": "g41yW4PL9jG0"
      },
      "cell_type": "markdown",
      "source": [
        "# LSTM"
      ]
    },
    {
      "metadata": {
        "colab_type": "text",
        "id": "ODzXEH0MaGpa"
      },
      "cell_type": "markdown",
      "source": [
        "It is time to get more serious. Even with pre-trained word embeddings and multiple layers, we seem to do pretty badly at sentiment classification here. \n",
        "The next step we can take is to introduce word order again, and to get a representation of the sentence as a whole, without independence assumptions.\n",
        "\n",
        "We will get this representation using an **Long Short-Term Memory** (LSTM). As an exercise, we will code our own LSTM cell, so that we get comfortable with its inner workings.\n",
        "Once we have an LSTM cell, we can call it repeatedly, updating its hidden state one word at a time:\n",
        "\n",
        "```python\n",
        "rnn = MyLSTMCell(input_size, hidden_size)\n",
        "\n",
        "hx = torch.zeros(1, hidden_size)  # initial state\n",
        "cx = torch.zeros(1, hidden_size)  # initial memory cell\n",
        "output = []                       # to save intermediate LSTM states\n",
        "\n",
        "# feed one word at a time\n",
        "for i in range(n_timesteps):\n",
        "  hx, cx = rnn(input[i], (hx, cx))\n",
        "  output.append(hx)\n",
        "```\n",
        "\n",
        "If you need some more help understanding LSTMs, then check out these resources:\n",
        "- Blog post (highly recommended): http://colah.github.io/posts/2015-08-Understanding-LSTMs/\n",
        "- Paper covering LSTM formulas in detail: https://arxiv.org/abs/1503.04069 \n",
        "\n",
        "#### Exercise: Finish the LSTM cell below. \n",
        "You will need to implement the LSTM formulas:\n",
        "\n",
        "$$\n",
        "\\begin{array}{ll}\n",
        "        i = \\sigma(W_{ii} x + b_{ii} + W_{hi} h + b_{hi}) \\\\\n",
        "        f = \\sigma(W_{if} x + b_{if} + W_{hf} h + b_{hf}) \\\\\n",
        "        g = \\tanh(W_{ig} x + b_{ig} + W_{hg} h + b_{hg}) \\\\\n",
        "        o = \\sigma(W_{io} x + b_{io} + W_{ho} h + b_{ho}) \\\\\n",
        "        c' = f * c + i * g \\\\\n",
        "        h' = o \\tanh(c') \\\\\n",
        "\\end{array}\n",
        " $$\n",
        "\n",
        "where $\\sigma$ is the sigmoid function.\n",
        "\n",
        "*Note that the LSTM formulas can differ slightly between different papers. We use the PyTorch LSTM formulation here.*"
      ]
    },
    {
      "metadata": {
        "colab_type": "code",
        "id": "zJ9m5kLMd7-v",
        "colab": {}
      },
      "cell_type": "code",
      "source": [
        "class MyLSTMCell(nn.Module):\n",
        "  \"\"\"Our own LSTM cell\"\"\"\n",
        "\n",
        "  def __init__(self, input_size, hidden_size, bias=True):\n",
        "    \"\"\"Creates the weights for this LSTM\"\"\"\n",
        "    super(MyLSTMCell, self).__init__()\n",
        "\n",
        "    self.input_size = input_size\n",
        "    self.hidden_size = hidden_size\n",
        "    self.bias = bias\n",
        "    \n",
        "    # YOUR CODE HERE\n",
        "\n",
        "    self.reset_parameters()\n",
        "\n",
        "  def reset_parameters(self):\n",
        "    \"\"\"This is PyTorch's default initialization method\"\"\"\n",
        "    stdv = 1.0 / math.sqrt(self.hidden_size)\n",
        "    for weight in self.parameters():\n",
        "      weight.data.uniform_(-stdv, stdv)  \n",
        "\n",
        "  def forward(self, input_, hx, mask=None):\n",
        "    \"\"\"\n",
        "    input is (batch, input_size)\n",
        "    hx is ((batch, hidden_size), (batch, hidden_size))\n",
        "    \"\"\"\n",
        "    prev_h, prev_c = hx\n",
        "\n",
        "    # project input and prev state\n",
        "    # YOUR CODE HERE\n",
        "    \n",
        "    raise NotImplementedError(\"Implement this\")\n",
        "\n",
        "    # main LSTM computation    \n",
        "\n",
        "    # i = ...\n",
        "    # f = ...\n",
        "    # g = ...\n",
        "    # o = ...\n",
        "\n",
        "    # c = ...\n",
        "    # h = ...\n",
        "\n",
        "    return h, c\n",
        "  \n",
        "  def __repr__(self):\n",
        "    return \"{}({:d}, {:d})\".format(\n",
        "        self.__class__.__name__, self.input_size, self.hidden_size)"
      ],
      "execution_count": 0,
      "outputs": []
    },
    {
      "metadata": {
        "colab_type": "text",
        "id": "4JM7xPhkQeE5"
      },
      "cell_type": "markdown",
      "source": [
        "#### Optional: Efficient Matrix Multiplication\n",
        "\n",
        "It is more efficient to do a few big matrix multiplications than to do many smaller ones.\n",
        "\n",
        "It is possible to implement the above cell using just **two** linear layers.\n",
        "\n",
        "This is because the eight linear transformations from one forward pass through an LSTM cell can be done in just two:\n",
        "$$W_h h + b_h$$\n",
        "$$W_i x + b_i $$ \n",
        "\n",
        "with $h = $ `prev_h` and $x = $ `input_`.\n",
        "\n",
        "and where: \n",
        "\n",
        "$W_h =  \\begin{pmatrix}\n",
        "W_{hi}\\\\ \n",
        "W_{hf}\\\\ \n",
        "W_{hg}\\\\ \n",
        "W_{ho}\n",
        "\\end{pmatrix}$, $b_h = \\begin{pmatrix}\n",
        "b_{hi}\\\\ \n",
        "b_{hf}\\\\ \n",
        "b_{hg}\\\\ \n",
        "b_{ho}\n",
        "\\end{pmatrix}$,  $W_i = \\begin{pmatrix}\n",
        "W_{ii}\\\\ \n",
        "W_{if}\\\\ \n",
        "W_{ig}\\\\ \n",
        "W_{io}\n",
        "\\end{pmatrix}$ and $b_i = \\begin{pmatrix}\n",
        "b_{ii}\\\\ \n",
        "b_{if}\\\\ \n",
        "b_{ig}\\\\ \n",
        "b_{io}\n",
        "\\end{pmatrix}$.\n",
        "\n",
        "Convince yourself that, after chunking with [torch.chunk](https://pytorch.org/docs/stable/torch.html?highlight=chunk#torch.chunk), the output of those two linear transformations is equivalent to the output of the eight linear transformations in the LSTM cell calculations above."
      ]
    },
    {
      "metadata": {
        "colab_type": "text",
        "id": "X9gA-UcqSBe0"
      },
      "cell_type": "markdown",
      "source": [
        "#### LSTM Classifier\n",
        "\n",
        "Having an LSTM cell is not enough: we still need some code that calls it repeatedly, and then makes a prediction from the final hidden state. \n",
        "You will find that code below. Make sure that you understand it."
      ]
    },
    {
      "metadata": {
        "colab_type": "code",
        "id": "3iuYZm5poEn5",
        "colab": {}
      },
      "cell_type": "code",
      "source": [
        "class LSTMClassifier(nn.Module):\n",
        "  \"\"\"Encodes sentence with an LSTM and projects final hidden state\"\"\"\n",
        "\n",
        "  def __init__(self, vocab_size, embedding_dim, hidden_dim, output_dim, vocab):\n",
        "    super(LSTMClassifier, self).__init__()\n",
        "    self.vocab = vocab\n",
        "    self.hidden_dim = hidden_dim\n",
        "    self.embed = nn.Embedding(vocab_size, embedding_dim, padding_idx=1)\n",
        "    self.rnn = MyLSTMCell(embedding_dim, hidden_dim)\n",
        "    \n",
        "    self.output_layer = nn.Sequential(     \n",
        "        nn.Dropout(p=0.5),  # explained later\n",
        "        nn.Linear(hidden_dim, output_dim)\n",
        "    )\n",
        "\n",
        "  def forward(self, x):\n",
        "    \n",
        "    B = x.size(0)  # batch size (this is 1 for now, i.e. 1 single example)\n",
        "    T = x.size(1)  # time (the number of words in the sentence)\n",
        "    \n",
        "    input_ = self.embed(x)\n",
        "\n",
        "    # here we create initial hidden states containing zeros\n",
        "    # we use a trick here so that, if input is on the GPU, then so are hx and cx\n",
        "    hx = input_.new_zeros(B, self.rnn.hidden_size)\n",
        "    cx = input_.new_zeros(B, self.rnn.hidden_size)\n",
        "    \n",
        "    # process input sentences one word/timestep at a time\n",
        "    # input is batch-major, so the first word(s) is/are input_[:, 0]\n",
        "    outputs = []   \n",
        "    for i in range(T):\n",
        "      hx, cx = self.rnn(input_[:, i], (hx, cx))\n",
        "      outputs.append(hx)\n",
        "    \n",
        "    # if we have a single example, our final LSTM state is the last hx\n",
        "    if B == 1:\n",
        "      final = hx\n",
        "    else:\n",
        "      #\n",
        "      # This part is explained in next section, ignore this else-block for now.\n",
        "      #\n",
        "      # we processed sentences with different lengths, so some of the sentences\n",
        "      # had already finished and we have been adding padding inputs to hx\n",
        "      # we select the final state based on the length of each sentence\n",
        "      \n",
        "      # two lines below not needed if using LSTM form pytorch\n",
        "      outputs = torch.stack(outputs, dim=0)          # [T, B, D]\n",
        "      outputs = outputs.transpose(0, 1).contiguous()  # [B, T, D]\n",
        "      \n",
        "      # to be super-sure we're not accidentally indexing the wrong state\n",
        "      # we zero out positions that are invalid\n",
        "      pad_positions = (x == 1).unsqueeze(-1)\n",
        "      \n",
        "      outputs = outputs.contiguous()      \n",
        "      outputs = outputs.masked_fill_(pad_positions, 0.)\n",
        "        \n",
        "      mask = (x != 1)  # true for valid positions [B, T]\n",
        "      lengths = mask.sum(dim=1)                  # [B, 1]\n",
        "\n",
        "      indexes = (lengths - 1) + torch.arange(B, device=x.device, dtype=x.dtype) * T\n",
        "      final = outputs.view(-1, self.hidden_dim)[indexes]  # [B, D]\n",
        "    \n",
        "    # we use the last hidden state to classify the sentence\n",
        "    logits = self.output_layer(final)\n",
        "    return logits"
      ],
      "execution_count": 0,
      "outputs": []
    },
    {
      "metadata": {
        "colab_type": "text",
        "id": "FxFoVpvMPB6g"
      },
      "cell_type": "markdown",
      "source": [
        "#### Dropout\n",
        "\n",
        "Besides not being able to learn meaningful word embeddings, there is another negative effect that can follow from data sparsity and a small data set: *overfitting*. This is a phenomenom that is very likely to occur when fitting strong and expressive models, like LSTMs, to small data. In practice, if your model overfits, this means that it will be very good at predicting (or: 'remembering') the sentiment of the training set, but unable to generalize to new, unseen data in the test set. This is undesirable and one technique to mitigate it is *dropout*. \n",
        "\n",
        "A dropout layer is defined by the following formula: $\\mathbf{d} \\in \\{0, 1\\}^n$, with $d_j \\sim \\text{Bernoulli}(p)$, and can be applied to for example a linear layer:\n",
        "\n",
        "$$\\text{tanh}(W(\\mathbf{h}\\odot \\mathbf{d}) + \\mathbf{b})$$\n",
        "\n",
        "\n",
        "These formulas simply mean that we *drop* certain parameters during training (by setting them to zero). Which parameters we drop is stochastically determined by a Bernoulli distribution and the probability of each parameter being dropped is set to $p = 0.5$ in our experiments (see the previous cell of code where we define our output layer). A dropout layer can be applied at many different places in our models. This technique helps against the undesirable effect where our model relies on single parameters for  prediction (e.g. if $h^{\\prime}_j$ is large, always predict positive). If we use dropout, the model needs to learn to rely on different parameters, which is desirable when generalizing to unseen data."
      ]
    },
    {
      "metadata": {
        "colab_type": "text",
        "id": "XQjEjLt9z0XW"
      },
      "cell_type": "markdown",
      "source": [
        "**Let's train our LSTM! ** Note that is will be a lot slower, because we need to do many more computations per sentence!\n",
        "\n",
        "#### Training"
      ]
    },
    {
      "metadata": {
        "colab_type": "code",
        "id": "LgZoSPD4fsf_",
        "colab": {}
      },
      "cell_type": "code",
      "source": [
        "lstm_model = LSTMClassifier(len(v.w2i), 300, 168, len(t2i), v)\n",
        "\n",
        "# copy pre-trained word vectors into embeddings table\n",
        "with torch.no_grad():\n",
        "  lstm_model.embed.weight.data.copy_(torch.from_numpy(vectors))\n",
        "  lstm_model.embed.weight.requires_grad = False\n",
        "\n",
        "print(lstm_model)\n",
        "print_parameters(lstm_model)\n",
        "\n",
        "lstm_model = lstm_model.to(device)\n",
        "optimizer = optim.Adam(lstm_model.parameters(), lr=3e-4)\n",
        "\n",
        "lstm_losses, lstm_accuracies = train_model(\n",
        "    lstm_model, optimizer, num_iterations=25000, \n",
        "    print_every=250, eval_every=1000)"
      ],
      "execution_count": 0,
      "outputs": []
    },
    {
      "metadata": {
        "colab_type": "code",
        "id": "2BKVnyg0Hq5E",
        "colab": {}
      },
      "cell_type": "code",
      "source": [
        "# plot validation accuracy"
      ],
      "execution_count": 0,
      "outputs": []
    },
    {
      "metadata": {
        "colab_type": "code",
        "id": "ZowTV0EBTb3z",
        "colab": {}
      },
      "cell_type": "code",
      "source": [
        "# plot training loss"
      ],
      "execution_count": 0,
      "outputs": []
    },
    {
      "metadata": {
        "colab_type": "text",
        "id": "YEw6XHQY_AAQ"
      },
      "cell_type": "markdown",
      "source": [
        "# Mini-batching\n",
        "\n"
      ]
    },
    {
      "metadata": {
        "colab_type": "text",
        "id": "FPf96wGzBTQJ"
      },
      "cell_type": "markdown",
      "source": [
        "**Why is the LSTM so slow?** Despite our best efforts, we still need to make a lot of matrix multiplications per example (linear in the length of the example) just to get a single classification, and we can only process the 2nd word once we have computed the hidden state for the 1st word (sequential computation).\n",
        "\n",
        "GPUs are more efficient if we do a few big matrix multiplications, rather than lots of small ones. If we could process multiple examples at the same time, then we could exploit that. We still process the input sequentially, but now we can do so for multiple sentences at the same time.\n",
        "\n",
        "Up to now our \"minibatch\" consisted of a single example. This was for a reason: the sentences in our data sets have **different lengths**, and this makes it difficult to process them at the same time.\n",
        "\n",
        "Consider a batch of 2 sentences:\n",
        "\n",
        "```\n",
        "this movie is bad\n",
        "this movie is super cool !\n",
        "```\n",
        "\n",
        "Let's say the IDs for these sentences are:\n",
        "\n",
        "```\n",
        "2 3 4 5\n",
        "2 3 4 6 7 8\n",
        "```\n",
        "\n",
        "We cannot feed PyTorch an object with variable length rows! We need to turn this into a matrix.\n",
        "\n",
        "The solution is to add **padding values** to our mini-batch:\n",
        "\n",
        "```\n",
        "2 3 4 5 1 1\n",
        "2 3 4 6 7 8\n",
        "```\n",
        "\n",
        "Whenever a sentence is shorter than the longest sentence in a mini-batch, we just use a padding value (here: 1) to fill the matrix.\n",
        "\n",
        "In our computation, we should **ignore** the padding positions (e.g. mask them out). Paddings should not contribute to the loss.\n",
        "\n",
        "#### Mini-batch feed\n",
        "We will now code a `get_minibatch` function that will replace our `get_example` function, and returns a mini-batch of the requested size."
      ]
    },
    {
      "metadata": {
        "colab_type": "code",
        "id": "IoAE2JBiXJ3P",
        "colab": {}
      },
      "cell_type": "code",
      "source": [
        "def get_minibatch(data, batch_size=25, shuffle=True):\n",
        "  \"\"\"Return minibatches, optional shuffling\"\"\"\n",
        "  \n",
        "  if shuffle:\n",
        "    print(\"Shuffling training data\")\n",
        "    random.shuffle(data)  # shuffle training data each epoch\n",
        "  \n",
        "  batch = []\n",
        "  \n",
        "  # yield minibatches\n",
        "  for example in data:\n",
        "    batch.append(example)\n",
        "    \n",
        "    if len(batch) == batch_size:\n",
        "      yield batch\n",
        "      batch = []\n",
        "      \n",
        "  # in case there is something left\n",
        "  if len(batch) > 0:\n",
        "    yield batch"
      ],
      "execution_count": 0,
      "outputs": []
    },
    {
      "metadata": {
        "colab_type": "text",
        "id": "DwZM-XYkT8Zx"
      },
      "cell_type": "markdown",
      "source": [
        "#### Pad function\n",
        "We will need a function that adds padding 1s to a sequence of IDs so that\n",
        "it becomes as long as the longest sequencen in the minibatch."
      ]
    },
    {
      "metadata": {
        "colab_type": "code",
        "id": "sp0sK1ghw4Ft",
        "colab": {}
      },
      "cell_type": "code",
      "source": [
        "def pad(tokens, length, pad_value=1):\n",
        "  \"\"\"add padding 1s to a sequence to that it has the desired length\"\"\"\n",
        "  return tokens + [pad_value] * (length - len(tokens))\n",
        "\n",
        "# example\n",
        "tokens = [2, 3, 4]\n",
        "pad(tokens, 5)"
      ],
      "execution_count": 0,
      "outputs": []
    },
    {
      "metadata": {
        "colab_type": "text",
        "id": "SL2iixMYUgfh"
      },
      "cell_type": "markdown",
      "source": [
        "#### New prepare function\n",
        "\n",
        "We will also need a new function that turns a mini-batch into PyTorch tensors."
      ]
    },
    {
      "metadata": {
        "colab_type": "code",
        "id": "ZID0cqozWks8",
        "colab": {}
      },
      "cell_type": "code",
      "source": [
        "def prepare_minibatch(mb, vocab):\n",
        "  \"\"\"\n",
        "  Minibatch is a list of examples.\n",
        "  This function converts words to IDs and returns\n",
        "  torch tensors to be used as input/targets.\n",
        "  \"\"\"\n",
        "  batch_size = len(mb)\n",
        "  maxlen = max([len(ex.tokens) for ex in mb])\n",
        "  \n",
        "  # vocab returns 0 if the word is not there\n",
        "  x = [pad([vocab.w2i.get(t, 0) for t in ex.tokens], maxlen) for ex in mb]\n",
        "  \n",
        "  x = torch.LongTensor(x)\n",
        "  x = x.to(device)\n",
        "  \n",
        "  y = [ex.label for ex in mb]\n",
        "  y = torch.LongTensor(y)\n",
        "  y = y.to(device)\n",
        "  \n",
        "  return x, y"
      ],
      "execution_count": 0,
      "outputs": []
    },
    {
      "metadata": {
        "colab_type": "code",
        "id": "OwDAtCv1x2hB",
        "colab": {}
      },
      "cell_type": "code",
      "source": [
        "# Let's test our new function.\n",
        "# This should give us 3 examples.\n",
        "mb = next(get_minibatch(train_data, batch_size=3, shuffle=False))\n",
        "for ex in mb:\n",
        "  print(ex)"
      ],
      "execution_count": 0,
      "outputs": []
    },
    {
      "metadata": {
        "colab_type": "code",
        "id": "dg8zEK8zyUCH",
        "colab": {}
      },
      "cell_type": "code",
      "source": [
        "# We should find 1s at the end where padding is.\n",
        "x, y = prepare_minibatch(mb, v)\n",
        "print(\"x\", x)\n",
        "print(\"y\", y)"
      ],
      "execution_count": 0,
      "outputs": []
    },
    {
      "metadata": {
        "colab_type": "text",
        "id": "xYBJEoSNUwI0"
      },
      "cell_type": "markdown",
      "source": [
        "#### Evaluate (mini-batch version)\n",
        "\n",
        "We can now update our evaluation function to use minibatches"
      ]
    },
    {
      "metadata": {
        "colab_type": "code",
        "id": "eiZZpEghzqou",
        "colab": {}
      },
      "cell_type": "code",
      "source": [
        "def evaluate(model, data, \n",
        "             batch_fn=get_minibatch, prep_fn=prepare_minibatch,\n",
        "             batch_size=16):\n",
        "  \"\"\"Accuracy of a model on given data set (using minibatches)\"\"\"\n",
        "  correct = 0\n",
        "  total = 0\n",
        "  model.eval()  # disable dropout\n",
        "\n",
        "  for mb in batch_fn(data, batch_size=batch_size, shuffle=False):\n",
        "    x, targets = prep_fn(mb, model.vocab)\n",
        "    with torch.no_grad():\n",
        "      logits = model(x)\n",
        "      \n",
        "    predictions = logits.argmax(dim=-1).view(-1)\n",
        "    \n",
        "    # add the number of correct predictions to the total correct\n",
        "    correct += (predictions == targets.view(-1)).sum().item()\n",
        "    total += targets.size(0)\n",
        "\n",
        "  return correct, total, correct / float(total)"
      ],
      "execution_count": 0,
      "outputs": []
    },
    {
      "metadata": {
        "colab_type": "text",
        "id": "23wAZomozh_2"
      },
      "cell_type": "markdown",
      "source": [
        "# LSTM (Mini-batched)"
      ]
    },
    {
      "metadata": {
        "colab_type": "text",
        "id": "B-gkPU7jzBe2"
      },
      "cell_type": "markdown",
      "source": [
        "With this, let's run the LSTM again but now using minibatches!"
      ]
    },
    {
      "metadata": {
        "colab_type": "code",
        "id": "226Xg9OPzFbA",
        "colab": {}
      },
      "cell_type": "code",
      "source": [
        "lstm_model = LSTMClassifier(\n",
        "    len(v.w2i), 300, 168, len(t2i), v)\n",
        "\n",
        "# copy pre-trained vectors into embeddings table\n",
        "with torch.no_grad():\n",
        "  lstm_model.embed.weight.data.copy_(torch.from_numpy(vectors))\n",
        "  lstm_model.embed.weight.requires_grad = False\n",
        "\n",
        "print(lstm_model)\n",
        "print_parameters(lstm_model)  \n",
        "  \n",
        "lstm_model = lstm_model.to(device)\n",
        "\n",
        "batch_size = 25\n",
        "optimizer = optim.Adam(lstm_model.parameters(), lr=2e-4)\n",
        "\n",
        "lstm_losses, lstm_accuracies = train_model(\n",
        "    lstm_model, optimizer, num_iterations=30000, \n",
        "    print_every=250, eval_every=250,\n",
        "    batch_size=batch_size,\n",
        "    batch_fn=get_minibatch, \n",
        "    prep_fn=prepare_minibatch,\n",
        "    eval_fn=evaluate)"
      ],
      "execution_count": 0,
      "outputs": []
    },
    {
      "metadata": {
        "colab_type": "code",
        "id": "ymj1rLDMvyhp",
        "colab": {}
      },
      "cell_type": "code",
      "source": [
        "# plot validation accuracy"
      ],
      "execution_count": 0,
      "outputs": []
    },
    {
      "metadata": {
        "colab_type": "code",
        "id": "1je5S1RHVC5R",
        "colab": {}
      },
      "cell_type": "code",
      "source": [
        "# plot training loss"
      ],
      "execution_count": 0,
      "outputs": []
    },
    {
      "metadata": {
        "colab_type": "text",
        "id": "q7WjcxXntMi5"
      },
      "cell_type": "markdown",
      "source": [
        "# Tree LSTM"
      ]
    },
    {
      "metadata": {
        "colab_type": "text",
        "id": "jyj_UD6GtO5M"
      },
      "cell_type": "markdown",
      "source": [
        "In the final part of this lab we will exploit the tree-structure of our data. \n",
        "Until now we only used the surface tokens, but remember that our data examples include trees with a sentiment score at every node.\n",
        "\n",
        "In particular, we will implement **N-ary Tree-LSTMs** which are described in:\n",
        "\n",
        "> Kai Sheng Tai, Richard Socher, and Christopher D. Manning. [Improved Semantic Representations From Tree-Structured Long Short-Term Memory Networks](http://aclweb.org/anthology/P/P15/P15-1150.pdf) ACL 2015.\n",
        "\n",
        "Since our trees are binary, N=2, and we can refer to these as *Binary Tree-LSTMs*.\n",
        "\n",
        "You should read this paper carefully and make sure that you understand the approach. You will also find our LSTM baseline there.\n",
        "Note however that Tree LSTMs were also invented around the same time by two other groups:\n",
        "\n",
        "> Phong Le and Willem Zuidema. [Compositional distributional semantics with long short term memory](http://anthology.aclweb.org/S/S15/S15-1002.pdf). *SEM 2015.\n",
        "\n",
        "> Xiaodan Zhu, Parinaz Sobihani,  and Hongyu Guo. [Long short-term memory over recursive structures](http://proceedings.mlr.press/v37/zhub15.pdf). ICML 2015.\n",
        "\n",
        "It is good scientific practice to cite all three papers in your report.\n",
        "\n",
        "If you study equations (9) to (14) in the paper, you will find that they are not all too different from the original LSTM that you already have.\n",
        "\n",
        "\n"
      ]
    },
    {
      "metadata": {
        "colab_type": "text",
        "id": "1rDzvSos3JFp"
      },
      "cell_type": "markdown",
      "source": [
        "## Computation\n",
        "\n",
        "Do you remember the `transitions_from_treestring` function all the way in the beginning of this lab? Every example contains a **transition sequence** made by this function. Let's look at it again:\n",
        "\n"
      ]
    },
    {
      "metadata": {
        "colab_type": "code",
        "id": "5pg0Xumc3ZUS",
        "colab": {}
      },
      "cell_type": "code",
      "source": [
        "ex = next(examplereader(\"trees/dev.txt\"))\n",
        "print(TreePrettyPrinter(ex.tree))\n",
        "print(\"Transitions:\")\n",
        "print(ex.transitions)"
      ],
      "execution_count": 0,
      "outputs": []
    },
    {
      "metadata": {
        "colab_type": "text",
        "id": "ceBFe9fU4BI_"
      },
      "cell_type": "markdown",
      "source": [
        "Note that the tree is **binary**. Every node has two children, except for pre-terminal nodes.\n",
        "\n",
        "A tree like this can be described by a sequence of **SHIFT (0)** and **REDUCE (1)** actions.\n",
        "\n",
        "We can use the transitions like this to construct the tree:\n",
        "- **reverse** the sentence (a list of tokens) and call this the **buffer**\n",
        "   - the first word is now on top (last in the list), and we would get it when calling pop() on the buffer\n",
        "- create an empty list and call it the **stack**\n",
        "- iterate through the transition sequence:\n",
        "  - if it says SHIFT(0), we pop a word from the buffer, and push it to the stack\n",
        "  - if it says REDUCE(1), we pop the **top two items** from the stack, and combine them (e.g. with a tree LSTM!), creating a new node that we push back on the stack\n",
        "  \n",
        "Convince yourself that going through the transition sequence above will result in the tree that you see.\n",
        "For example, we would start by putting the following words on the stack (by shifting 5 times, starting with `It`):\n",
        "\n",
        "```\n",
        "Top of the stack:\n",
        "-----------------\n",
        "film\n",
        "lovely\n",
        "a \n",
        "'s  \n",
        "It\n",
        "```\n",
        "Now we find a REDUCE in the transition sequence, so we get the top two words (film and lovely), and combine them, so our new stack becomes:\n",
        "```\n",
        "Top of the stack:\n",
        "-----------------\n",
        "lovely film\n",
        "a \n",
        "'s  \n",
        "It\n",
        "```\n",
        "\n",
        "We will use this approach when encoding sentences with our Tree LSTM.\n",
        "Now, our sentence is a (reversed) list of word embeddings.\n",
        "When we shift, we move a word embedding to the stack.\n",
        "When we reduce, we apply a Tree LSTM to the top two vectors, and the result is a single vector that we put back on the stack.\n",
        "After going through the whole transition sequence, we will have the root node on our stack! We can use that to classify the sentence.\n",
        "\n"
      ]
    },
    {
      "metadata": {
        "colab_type": "text",
        "id": "pDWKShm1AfmR"
      },
      "cell_type": "markdown",
      "source": [
        "## Obtaining the transition sequence\n"
      ]
    },
    {
      "metadata": {
        "colab_type": "text",
        "id": "fO7VKWVpAbWj"
      },
      "cell_type": "markdown",
      "source": [
        "\n",
        "So what goes on in the `transitions_from_treestring` function?\n",
        "\n",
        "The idea ([explained in this blog post](https://devblogs.nvidia.com/recursive-neural-networks-pytorch/)) is that, if we had a tree, we could traverse through the tree, and every time that we find a node containing only a word, we output a SHIFT.\n",
        "Every time **after** we have finished visiting the children of a node, we output a REDUCE.\n",
        "(What is this tree traversal called?)\n",
        "\n",
        "However, our `transitions_from_treestring` function operates directly on the string representation. It works as follows.\n",
        "\n",
        "We start with the representation:\n",
        "\n",
        "```\n",
        "(3 (2 It) (4 (4 (2 's) (4 (3 (2 a) (4 (3 lovely) (2 film))) (3 (2 with) (4 (3 (3 lovely) (2 performances)) (2 (2 by) (2 (2 (2 Buy) (2 and)) (2 Accorsi))))))) (2 .)))\n",
        "```\n",
        "\n",
        "First we remove pre-terminal nodes (and add spaces before closing brackets):\n",
        "\n",
        "```\n",
        "(3 It (4 (4 's (4 (3 a (4 lovely film ) ) (3 with (4 (3 lovely performances ) (2 by (2 (2 Buy and )  Accorsi ) ) ) ) ) ) . ) )\n",
        "```\n",
        "\n",
        "Then we remove node labels:\n",
        "\n",
        "```\n",
        "( It ( ( 's ( ( a ( lovely film ) ) ( with ( ( lovely performances) ( by ( ( Buy and )  Accorsi ) ) ) ) ) ) . ) )\n",
        "```\n",
        "\n",
        "Then we remove opening brackets:\n",
        "\n",
        "```\n",
        "It 's a lovely film ) ) with lovely performances ) by Buy and ) Accorsi ) ) ) ) ) ) . ) )\n",
        "```\n",
        "\n",
        "Now we replace words by S (for SHIFT), and closing brackets by R (for REDUCE):\n",
        "\n",
        "```\n",
        "S S S S S R R S S S R S S S R S R R R R R R S R R\n",
        "0 0 0 0 0 1 1 0 0 0 1 0 0 0 1 0 1 1 1 1 1 1 0 1 1 \n",
        "```\n",
        "\n",
        "Et voila. We just obtained the transition sequence!"
      ]
    },
    {
      "metadata": {
        "colab_type": "code",
        "id": "1y069gM4_v64",
        "colab": {}
      },
      "cell_type": "code",
      "source": [
        "# for comparison\n",
        "seq = ex.transitions\n",
        "s = \" \".join([\"S\" if t == 0 else \"R\" for t in seq])\n",
        "print(s)\n",
        "print(\" \".join(map(str, seq)))"
      ],
      "execution_count": 0,
      "outputs": []
    },
    {
      "metadata": {
        "colab_type": "text",
        "id": "d-qOuKbDAiBn"
      },
      "cell_type": "markdown",
      "source": [
        "## Coding the Tree LSTM\n",
        "\n",
        "The code below contains a Binary Tree LSTM cell.\n",
        "It is used in the TreeLSTM class below it, which in turn is used in the TreeLSTMClassifier.\n",
        "The job of the TreeLSTM class is to encode a complete sentence and return the root node.\n",
        "The job of the TreeLSTMCell is to return a new state when provided with two children (a reduce action). By repeatedly calling the TreeLSTMCell, the TreeLSTM will encode a sentence. This can be done for multiple sentences at the same time.\n",
        "\n",
        "\n",
        "#### Exercise \n",
        "Check the `forward` function and complete the Tree LSTM formulas.\n",
        "You can see that we defined a large linear layer for you, that projects the *concatenation* of the left and right child into the input gate, left forget gate, right forget gate, candidate, and output gate."
      ]
    },
    {
      "metadata": {
        "colab_type": "code",
        "id": "J9b9mjMlN7Pb",
        "colab": {}
      },
      "cell_type": "code",
      "source": [
        "class TreeLSTMCell(nn.Module):\n",
        "  \"\"\"A Binary Tree LSTM cell\"\"\"\n",
        "\n",
        "  def __init__(self, input_size, hidden_size, bias=True):\n",
        "    \"\"\"Creates the weights for this LSTM\"\"\"\n",
        "    super(TreeLSTMCell, self).__init__()\n",
        "\n",
        "    self.input_size = input_size\n",
        "    self.hidden_size = hidden_size\n",
        "    self.bias = bias\n",
        "\n",
        "    self.reduce_layer = nn.Linear(2 * hidden_size, 5 * hidden_size)\n",
        "    self.dropout_layer = nn.Dropout(p=0.25)\n",
        "\n",
        "    self.reset_parameters()\n",
        "\n",
        "  def reset_parameters(self):\n",
        "    \"\"\"This is PyTorch's default initialization method\"\"\"\n",
        "    stdv = 1.0 / math.sqrt(self.hidden_size)\n",
        "    for weight in self.parameters():\n",
        "      weight.data.uniform_(-stdv, stdv)  \n",
        "\n",
        "  def forward(self, hx_l, hx_r, mask=None):\n",
        "    \"\"\"\n",
        "    hx_l is ((batch, hidden_size), (batch, hidden_size))\n",
        "    hx_r is ((batch, hidden_size), (batch, hidden_size))    \n",
        "    \"\"\"\n",
        "    prev_h_l, prev_c_l = hx_l  # left child\n",
        "    prev_h_r, prev_c_r = hx_r  # right child\n",
        "\n",
        "    B = prev_h_l.size(0)\n",
        "\n",
        "    # we concatenate the left and right children\n",
        "    # you can also project from them separately and then sum\n",
        "    children = torch.cat([prev_h_l, prev_h_r], dim=1)\n",
        "    \n",
        "    # project the combined children into a 5D tensor for i,fl,fr,g,o\n",
        "    # this is done for speed, and you could also do it separately\n",
        "    proj = self.reduce_layer(children)  # shape: B x 5D\n",
        "\n",
        "    # each shape: B x D\n",
        "    i, f_l, f_r, g, o = torch.chunk(proj, 5, dim=-1)\n",
        "\n",
        "    # main Tree LSTM computation\n",
        "    \n",
        "    # YOUR CODE HERE\n",
        "    # You only need to complete the commented lines below.\n",
        "    raise NotImplementedError(\"Implement this.\")\n",
        "\n",
        "    # The shape of each of these is [batch_size, hidden_size]\n",
        "\n",
        "    # i = ...\n",
        "    # f_l = ...    \n",
        "    # f_r = ...\n",
        "    # g = ...    \n",
        "    # o = ...\n",
        "\n",
        "    # c = ...\n",
        "    # h = ...\n",
        "    \n",
        "    return h, c\n",
        "  \n",
        "  def __repr__(self):\n",
        "    return \"{}({:d}, {:d})\".format(\n",
        "        self.__class__.__name__, self.input_size, self.hidden_size)"
      ],
      "execution_count": 0,
      "outputs": []
    },
    {
      "metadata": {
        "colab_type": "text",
        "id": "Dj5dYSGh_643"
      },
      "cell_type": "markdown",
      "source": [
        "## Explanation of the TreeLSTM class\n",
        "\n",
        "\n",
        "The code below contains the TreeLSTM class, which implements everything we need in order to encode a sentence from word embeddings. The calculations are the same as in the paper, implemented such that the class `TreeLSTMCell` above is as general as possible and only takes two children to reduce them into a parent. \n",
        "\n",
        "\n",
        "**Initialize $\\mathbf{h}$ and $\\mathbf{c}$ outside of the cell for the leaves**\n",
        "\n",
        "At the leaves of each tree the children nodes are **empty**, whereas in higher levels the nodes are binary tree nodes that *do* have a left and right child (but no input $x$). By initializing the leaf nodes outside of the cell class (`TreeLSTMCell`), we avoid if-else statements in the forward pass.\n",
        "\n",
        "The `TreeLSTM` class (among other things) pre-calculates an initial $h$ and $c$ for every word in the sentence. Since the initial left and right child are 0, the only calculations we need to do are based on $x$, and we can drop the forget gate calculation (`prev_c_l` and `prev_c_r` are zero). The calculations we do in order to initalize $h$ and $c$ are then:\n",
        "\n",
        "$$\n",
        "c_1 =  W^{(u)}x_1 \\\\\n",
        "o_1 = \\sigma (W^{(i)}x_1) \\\\\n",
        "h_1 = o_1 \\odot \\text{tanh}(c_1)$$\n",
        "*NB: note that these equations are chosen as initializations of $c$ and $h$, other initializations are possible and might work equally well.*\n",
        "\n",
        "**Sentence Representations**\n",
        "\n",
        "All our leaf nodes are now initialized, so we can start processing the sentence in its tree form. Each sentence is represented by a buffer (initially a list with a concatenation of $[h_1, c_1]$ for every word in the reversed sentence), a stack (initially an empty list) and a transition sequence. To encode our sentence, we construct the tree from its transition sequence as explained earlier. \n",
        "\n",
        "*A short example that constructs a tree:*\n",
        "\n",
        "We loop over the time dimension of the batched transition sequences (i.e. row by row), which contain values of 0's, 1's and 2's (representing SHIFT, REDUCE and padding respectively). If we have a batch of size 2 where the first example has a transition sequence given by [0, 0, 1, 0, 0, 0, 1] and the second by [0, 0, 1, 0, 0, 1], our transition batch will be given by the following two-dimensional numpy array:\n",
        "\n",
        "$$\n",
        "\\text{transitions} = \n",
        "\\begin{pmatrix}\n",
        "0 & 0\\\\ \n",
        "0 & 0\\\\ \n",
        "1 & 1\\\\ \n",
        "0 & 0\\\\ \n",
        "0 & 0\\\\ \n",
        "0 & 1\\\\ \n",
        "1 & 2\n",
        "\\end{pmatrix}\n",
        "$$\n",
        "The inner loop (`for transition, buffer, stack in zip(t_batch, buffers, stacks)`) goes over each example in the batch and updates its buffer and stack. The nested loop for this example will then do roughy the following:\n",
        "\n",
        "```\n",
        "Time = 0:  t_batch = [0, 0], the inner loop performs 2 SHIFTs. \n",
        "\n",
        "Time = 1:  t_batch = [0, 0], \"..\"\n",
        "\n",
        "Time = 2:  t_batch = [1, 1], causing the inner loop to fill the list child_l and child_r for both examples in the batch. Now the statement if child_l will return True, triggering a REDUCE action to be performed by our Tree LSTM cell with a batch size of 2. \n",
        "\n",
        "Time = 3:  t_batch = [0, 0], \"..\".\n",
        "\n",
        "Time = 4:  t_batch = [0, 0], \"..\"\n",
        "\n",
        "Time = 5:  t_batch = [0, 1], one SHIFT will be done and another REDUCE action will be performed by our Tree LSTM, this time of batch size 1.  \n",
        "\n",
        "Time = 6:  t_batch = [1, 2], triggering another REDUCE action with batch size 1.\n",
        "```\n",
        "*NB: note that this was an artificial example for the purpose of demonstrating parts of the code, the transition sequences do not necessarily represent actual trees.*\n",
        "\n",
        "**Batching and Unbatching**\n",
        "\n",
        "Within the body of the outer loop over time, we use the functions for batching and unbatching. \n",
        "\n",
        "*Batching*\n",
        "\n",
        "Before passing two lists of children to the reduce layer (an instance of `TreeLSTMCell`), we batch the children as they are at this point a list of tensors of variable length based on how many REDUCE actions there are to perform at a certain time step across the batch (let's call the length `L`). To do an efficient forward pass we want to transform the list to a pair of tensors of shape `([L, D], [L, D])`, which the function `batch` achieves. \n",
        "\n",
        "*Unbatching*\n",
        "\n",
        "In the same line where we batched the children, we unbatch the output of the forward pass to become a list of states of length `L` again. We do this because we need to loop over each example's transition at the current time step and push the children that are reduced into a parent to the stack.\n",
        "\n",
        "*The batch and unbatch functions let us switch between the \"PyTorch world\" (Tensors) and the Python world (easy to manipulate lists).*\n"
      ]
    },
    {
      "metadata": {
        "colab_type": "code",
        "id": "5PixvTd4AqsQ",
        "colab": {}
      },
      "cell_type": "code",
      "source": [
        "# Helper functions for batching and unbatching states\n",
        "# For speed we want to combine computations by batching, but \n",
        "# for processing logic we want to turn the output into lists again\n",
        "# to easily manipulate.\n",
        "\n",
        "def batch(states):\n",
        "  \"\"\"\n",
        "  Turns a list of states into a single tensor for fast processing. \n",
        "  This function also chunks (splits) each state into a (h, c) pair\"\"\"\n",
        "  return torch.cat(states, 0).chunk(2, 1)\n",
        "\n",
        "def unbatch(state):\n",
        "  \"\"\"\n",
        "  Turns a tensor back into a list of states.\n",
        "  First, (h, c) are merged into a single state.\n",
        "  Then the result is split into a list of sentences.\n",
        "  \"\"\"\n",
        "  return torch.split(torch.cat(state, 1), 1, 0)"
      ],
      "execution_count": 0,
      "outputs": []
    },
    {
      "metadata": {
        "colab_type": "text",
        "id": "CynltDasaLPt"
      },
      "cell_type": "markdown",
      "source": [
        "Take some time to understand the class below, having read the explanation above."
      ]
    },
    {
      "metadata": {
        "colab_type": "code",
        "id": "rQOqMXG4gX5G",
        "colab": {}
      },
      "cell_type": "code",
      "source": [
        "class TreeLSTM(nn.Module):\n",
        "  \"\"\"Encodes a sentence using a TreeLSTMCell\"\"\"\n",
        "\n",
        "  def __init__(self, input_size, hidden_size, bias=True):\n",
        "    \"\"\"Creates the weights for this LSTM\"\"\"\n",
        "    super(TreeLSTM, self).__init__()\n",
        "\n",
        "    self.input_size = input_size\n",
        "    self.hidden_size = hidden_size\n",
        "    self.bias = bias\n",
        "    self.reduce = TreeLSTMCell(input_size, hidden_size)\n",
        "\n",
        "    # project word to initial c\n",
        "    self.proj_x = nn.Linear(input_size, hidden_size)\n",
        "    self.proj_x_gate = nn.Linear(input_size, hidden_size)\n",
        "    \n",
        "    self.buffers_dropout = nn.Dropout(p=0.5)\n",
        "\n",
        "  def forward(self, x, transitions):\n",
        "    \"\"\"\n",
        "    WARNING: assuming x is reversed!\n",
        "    :param x: word embeddings [B, T, E]\n",
        "    :param transitions: [2T-1, B]\n",
        "    :return: root states\n",
        "    \"\"\"\n",
        "\n",
        "    B = x.size(0)  # batch size\n",
        "    T = x.size(1)  # time\n",
        "\n",
        "    # compute an initial c and h for each word\n",
        "    # Note: this corresponds to input x in the Tai et al. Tree LSTM paper.\n",
        "    # We do not handle input x in the TreeLSTMCell itself.\n",
        "    buffers_c = self.proj_x(x)\n",
        "    buffers_h = buffers_c.tanh()\n",
        "    buffers_h_gate = self.proj_x_gate(x).sigmoid()\n",
        "    buffers_h = buffers_h_gate * buffers_h\n",
        "    \n",
        "    # concatenate h and c for each word\n",
        "    buffers = torch.cat([buffers_h, buffers_c], dim=-1)\n",
        "\n",
        "    D = buffers.size(-1) // 2\n",
        "\n",
        "    # we turn buffers into a list of stacks (1 stack for each sentence)\n",
        "    # first we split buffers so that it is a list of sentences (length B)\n",
        "    # then we split each sentence to be a list of word vectors\n",
        "    buffers = buffers.split(1, dim=0)  # Bx[T, 2D]\n",
        "    buffers = [list(b.squeeze(0).split(1, dim=0)) for b in buffers]  # BxTx[2D]\n",
        "\n",
        "    # create B empty stacks\n",
        "    stacks = [[] for _ in buffers]\n",
        "\n",
        "    # t_batch holds 1 transition for each sentence\n",
        "    for t_batch in transitions:\n",
        "\n",
        "      child_l = []  # contains the left child for each sentence with reduce action\n",
        "      child_r = []  # contains the corresponding right child\n",
        "\n",
        "      # iterate over sentences in the batch\n",
        "      # each has a transition t, a buffer and a stack\n",
        "      for transition, buffer, stack in zip(t_batch, buffers, stacks):\n",
        "        if transition == SHIFT:\n",
        "          stack.append(buffer.pop())\n",
        "        elif transition == REDUCE:\n",
        "          assert len(stack) >= 2, \\\n",
        "            \"Stack too small! Should not happen with valid transition sequences\"\n",
        "          child_r.append(stack.pop())  # right child is on top\n",
        "          child_l.append(stack.pop())\n",
        "\n",
        "      # if there are sentences with reduce transition, perform them batched\n",
        "      if child_l:\n",
        "        reduced = iter(unbatch(self.reduce(batch(child_l), batch(child_r))))\n",
        "        for transition, stack in zip(t_batch, stacks):\n",
        "          if transition == REDUCE:\n",
        "            stack.append(next(reduced))\n",
        "\n",
        "    final = [stack.pop().chunk(2, -1)[0] for stack in stacks]\n",
        "    final = torch.cat(final, dim=0)  # tensor [B, D]\n",
        "\n",
        "    return final"
      ],
      "execution_count": 0,
      "outputs": []
    },
    {
      "metadata": {
        "colab_type": "text",
        "id": "s4EzbVzqaXkw"
      },
      "cell_type": "markdown",
      "source": [
        "Just like the LSTM before, we will need an extra class that does the classifications."
      ]
    },
    {
      "metadata": {
        "colab_type": "code",
        "id": "nLxpYRvtQKge",
        "colab": {}
      },
      "cell_type": "code",
      "source": [
        "class TreeLSTMClassifier(nn.Module):\n",
        "  \"\"\"Encodes sentence with a TreeLSTM and projects final hidden state\"\"\"\n",
        "\n",
        "  def __init__(self, vocab_size, embedding_dim, hidden_dim, output_dim, vocab):\n",
        "    super(TreeLSTMClassifier, self).__init__()\n",
        "    self.vocab = vocab\n",
        "    self.hidden_dim = hidden_dim\n",
        "    self.embed = nn.Embedding(vocab_size, embedding_dim, padding_idx=1)\n",
        "    self.treelstm = TreeLSTM(embedding_dim, hidden_dim)\n",
        "    self.output_layer = nn.Sequential(     \n",
        "        nn.Dropout(p=0.5),\n",
        "        nn.Linear(hidden_dim, output_dim, bias=True)\n",
        "    )\n",
        "\n",
        "  def forward(self, x):\n",
        "    \n",
        "    # x is a pair here of words and transitions; we unpack it here.\n",
        "    # x is batch-major: [B, T], transitions is time major [2T-1, B]\n",
        "    x, transitions = x\n",
        "    emb = self.embed(x)\n",
        "    \n",
        "    # we use the root/top state of the Tree LSTM to classify the sentence\n",
        "    root_states = self.treelstm(emb, transitions)\n",
        "\n",
        "    # we use the last hidden state to classify the sentence\n",
        "    logits = self.output_layer(root_states)\n",
        "    return logits"
      ],
      "execution_count": 0,
      "outputs": []
    },
    {
      "metadata": {
        "colab_type": "text",
        "id": "gh9RbhGwaiLg"
      },
      "cell_type": "markdown",
      "source": [
        "## Special prepare function for Tree LSTM\n",
        "\n",
        "We need yet another prepare function. For our implementation our sentences to be *reversed*. We will do that here."
      ]
    },
    {
      "metadata": {
        "colab_type": "code",
        "id": "DiqH-_2xdm9H",
        "colab": {}
      },
      "cell_type": "code",
      "source": [
        "def prepare_treelstm_minibatch(mb, vocab):\n",
        "  \"\"\"\n",
        "  Returns sentences reversed (last word first)\n",
        "  Returns transitions together with the sentences.  \n",
        "  \"\"\"\n",
        "  batch_size = len(mb)\n",
        "  maxlen = max([len(ex.tokens) for ex in mb])\n",
        "    \n",
        "  # vocab returns 0 if the word is not there\n",
        "  # NOTE: reversed sequence!\n",
        "  x = [pad([vocab.w2i.get(t, 0) for t in ex.tokens], maxlen)[::-1] for ex in mb]\n",
        "  \n",
        "  x = torch.LongTensor(x)\n",
        "  x = x.to(device)\n",
        "  \n",
        "  y = [ex.label for ex in mb]\n",
        "  y = torch.LongTensor(y)\n",
        "  y = y.to(device)\n",
        "  \n",
        "  maxlen_t = max([len(ex.transitions) for ex in mb])\n",
        "  transitions = [pad(ex.transitions, maxlen_t, pad_value=2) for ex in mb]\n",
        "  transitions = np.array(transitions)\n",
        "  transitions = transitions.T  # time-major\n",
        "  \n",
        "  return (x, transitions), y"
      ],
      "execution_count": 0,
      "outputs": []
    },
    {
      "metadata": {
        "colab_type": "text",
        "id": "IMUsrlL9ayVe"
      },
      "cell_type": "markdown",
      "source": [
        "## Training"
      ]
    },
    {
      "metadata": {
        "colab_type": "code",
        "id": "IpOYUdg2D3v0",
        "colab": {}
      },
      "cell_type": "code",
      "source": [
        "# Now let's train the Tree LSTM!\n",
        "\n",
        "tree_model = TreeLSTMClassifier(\n",
        "    len(v.w2i), 300, 150, len(t2i), v)\n",
        "\n",
        "with torch.no_grad():\n",
        "  tree_model.embed.weight.data.copy_(torch.from_numpy(vectors))\n",
        "  tree_model.embed.weight.requires_grad = False\n",
        "  \n",
        "def do_train(model):\n",
        "  \n",
        "  print(model)\n",
        "  print_parameters(model)\n",
        "\n",
        "  model = model.to(device)\n",
        "\n",
        "  optimizer = optim.Adam(model.parameters(), lr=2e-4)\n",
        "  \n",
        "  return train_model(\n",
        "      model, optimizer, num_iterations=30000, \n",
        "      print_every=250, eval_every=250,\n",
        "      prep_fn=prepare_treelstm_minibatch,\n",
        "      eval_fn=evaluate,\n",
        "      batch_fn=get_minibatch,\n",
        "      batch_size=25, eval_batch_size=25)\n",
        "  \n",
        "results = do_train(tree_model)"
      ],
      "execution_count": 0,
      "outputs": []
    },
    {
      "metadata": {
        "colab_type": "code",
        "id": "DHcHHaLtguUg",
        "colab": {}
      },
      "cell_type": "code",
      "source": [
        "# plot"
      ],
      "execution_count": 0,
      "outputs": []
    },
    {
      "metadata": {
        "colab_type": "text",
        "id": "f7QZZH86eHqu"
      },
      "cell_type": "markdown",
      "source": [
        "# Further experiments and report\n",
        "\n",
        "For your report, you are expected to answer research questions by doing further experiments.\n",
        "\n",
        "## Research Questions\n",
        "\n",
        "Make sure you cover at least the following:\n",
        "\n",
        "- How important is word order for this task?\n",
        "- Does the tree structure help to get a better accuracy?\n",
        "- How does performance depend on the sentence length? Compare the various models. Is there a model that does better on longer sentences? If so, why?\n",
        "- Do you get better performance if you supervise the sentiment **at each node in the tree**? You can extract more training examples by treating every node in each tree as a separate tree. You will need to write a function that extracts all subtrees given a treestring. \n",
        "    - Warning: NLTK's Tree function seems to result in invalid trees in some cases, so be careful if you want to parse the string to a tree structure before extraction the phrases.\n",
        "\n",
        "Optionally, you can also investigate the following:\n",
        "\n",
        "- When making a wrong prediction, can you figure out at what point in the tree (sentence) the model fails? You can make a prediction at each node to investigate.\n",
        "- How does N-ary Tree LSTM compare to the Child-Sum Tree LSTM? \n",
        "- How do the Tai et al. Tree LSTMs compare to Le & Zuidema's formulation?\n",
        "- Or.. your own research question!\n",
        "\n",
        "In general:\n",
        "\n",
        "- ***When you report numbers, please report the mean accuracy across 3 (or more) runs with different random seed, together with the standard deviation.*** This is because the final performance may vary per random seed.\n",
        "\n",
        "## Report instructions\n",
        "\n",
        "Your report needs to be written in LaTeX. You are required to use the ACL 2018 template [(zip)](https://acl2018.org/downloads/acl18-latex.zip) which you can edit directly on [Overleaf](https://www.overleaf.com/latex/templates/instructions-for-acl-2018-proceedings/xzmhqgnmkppc). Make sure your names and student numbers are visible at the top. (Tip: you need to uncomment `/aclfinalcopy`).\n",
        "You can find some general tips about writing a research paper [here](https://www.microsoft.com/en-us/research/academic-program/write-great-research-paper/), but note that you need to make your own judgment about what is appropriate for this project. \n",
        "\n",
        "We expect you to use the following structure:\n",
        "1. Introduction (~1 page) - describe the problem, your research questions and goals, a summary of your findings and contributions. Please cite related work (models, data set) as part of your introduction here, since this is a short paper.\n",
        "    - Introduce the task and the main goal\n",
        "    - Clear research questions\n",
        "    - Motivating the importance of the questions and explaining the expectations\n",
        "    - How are these addressed or not addressed in the literature\n",
        "    - What is your approach\n",
        "    - Short summary of your findings\n",
        "2. Background (~1/2-1 page) -\n",
        "cover the main techniques (\"building blocks\") used in your project (e.g. word embeddings, LSTM, Tree LSTM) and intuitions behind them. Be accurate and concise.\n",
        "    - How each technique that you use works (don't just copy the formulas)\n",
        "    - The relation between the techniques\n",
        "3. Models (~1/2 page) - Cover the models that you used.\n",
        "    - The architecture of the final models (how do you use LSTM or Tree LSTM for the sentiment classification task. what layers you have, how do you do classification? What is your loss function?)\n",
        "4. Experiments (~1/2 page) - Describe your experimental setup. The information here should allow someone else to re-create your experiments. Describe how you evaluate the models.\n",
        "    - Explain the task and the data\n",
        "    - Training the models (model, data, parameters and hyper parameters if the models, training algorithms, what supervision signals you use, etc.)\n",
        "    - Evaluation (e.g. metrics)\n",
        "5. Results and Analysis (~1 page). Go over the results and analyse your findings.\n",
        "    - Answer each of the research questions you raised in the introduction.\n",
        "    - Plots and figures highlighting interesting patterns\n",
        "    - What are the factors that makes model A  better than model B in task C? investigate to prove their effect!\n",
        "6. Conclusion (~1/4 page). The main conclusions of your experiments.\n",
        "    - What you learned from you experiments? how does it relate to what is already known in the literature?\n",
        "    - Where the results as expected ? any surprising results? why?\n",
        "    - Based on what you learned what would you suggest to do next?\n",
        "\n",
        "\n",
        "General Tips:\n",
        "\n",
        "- Math notation – define each variable (either in running text, or in a pseudo-legenda after or before the equation)\n",
        "- Define technical terminology you need\n",
        "- Avoid colloquial language – everything can be said in a scientific-sounding way\n",
        "- Avoid lengthy sentences, stay to the point!\n",
        "- Do not spend space on \"obvious\" things!\n",
        "\n",
        "\n",
        "An ideal report:\n",
        "- Precise, scientific-sounding, technical, to the point \n",
        "  - Little general “waffle”/chit-chat\n",
        "- Not boring – because you don’t explain obvious things too much\n",
        "- Efficient delivery of (only) the facts that we need to know to understand/reimplement\n",
        "- Results visually well-presented and described with the correct priority of importance of sub-results\n",
        "- Insightful analysis – speculation should connect to something interesting and not be too much; the reader “learns something new”\n",
        "- No typos, no colloquialisms – well-considered language\n",
        "- This normally means several re-draftings (re-orderings of information)"
      ]
    },
    {
      "metadata": {
        "colab_type": "code",
        "id": "uCINIXV1q1oe",
        "colab": {}
      },
      "cell_type": "code",
      "source": [
        ""
      ],
      "execution_count": 0,
      "outputs": []
    }
  ]
}