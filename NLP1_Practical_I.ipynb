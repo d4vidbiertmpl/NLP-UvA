{
 "cells": [
  {
   "cell_type": "markdown",
   "metadata": {
    "colab_type": "text",
    "id": "lIZrAUx57vsM"
   },
   "source": [
    "Practical 1: Sentiment Detection of Movie Reviews\n",
    "========================================\n",
    "\n"
   ]
  },
  {
   "cell_type": "markdown",
   "metadata": {
    "colab_type": "text",
    "id": "J4kXPMhyngZW"
   },
   "source": [
    "This practical concerns sentiment detection of movie reviews.\n",
    "In [this file](https://gist.githubusercontent.com/bastings/d47423301cca214e3930061a5a75e177/raw/5113687382919e22b1f09ce71a8fecd1687a5760/reviews.json) (80MB) you will find 1000 positive and 1000 negative **movie reviews**.\n",
    "Each review is a **document** and consists of one or more sentences.\n",
    "\n",
    "To prepare yourself for this practical, you should\n",
    "have a look at a few of these texts to understand the difficulties of\n",
    "the task (how might one go about classifying the texts?); you will write\n",
    "code that decides whether a random unseen movie review is positive or\n",
    "negative.\n",
    "\n",
    "Please make sure you have read the following paper:\n",
    "\n",
    ">   Bo Pang, Lillian Lee, and Shivakumar Vaithyanathan\n",
    "(2002). \n",
    "[Thumbs up? Sentiment Classification using Machine Learning\n",
    "Techniques](https://dl.acm.org/citation.cfm?id=1118704). EMNLP.\n",
    "\n",
    "Bo Pang et al. were the \"inventors\" of the movie review sentiment\n",
    "classification task, and the above paper was one of the first papers on\n",
    "the topic. The first version of your sentiment classifier will do\n",
    "something similar to Bo Pang’s system. If you have questions about it,\n",
    "we should resolve them in our first demonstrated practical.\n"
   ]
  },
  {
   "cell_type": "markdown",
   "metadata": {
    "colab_type": "text",
    "id": "cb7errgRASzZ"
   },
   "source": [
    "**Advice**\n",
    "\n",
    "Please read through the entire practical and familiarise\n",
    "yourself with all requirements before you start coding or otherwise\n",
    "solving the tasks. Writing clean and concise code can make the difference\n",
    "between solving the assignment in a matter of hours, and taking days to\n",
    "run all experiments.\n",
    "\n",
    "**Environment**\n",
    "\n",
    "All code should be written in **Python 3**. \n",
    "If you use Colab, check if you have that version with `Runtime -> Change runtime type` in the top menu.\n",
    "\n",
    "> If you want to work in your own computer, then download this notebook through `File -> Download .ipynb`.\n",
    "The easiest way to\n",
    "install Python is through downloading\n",
    "[Anaconda](https://www.anaconda.com/download). \n",
    "After installation, you can start the notebook by typing `jupyter notebook filename.ipynb`.\n",
    "You can also use an IDE\n",
    "such as [PyCharm](https://www.jetbrains.com/pycharm/download/) to make\n",
    "coding and debugging easier. It is good practice to create a [virtual\n",
    "environment](https://docs.python.org/3/tutorial/venv.html) for this\n",
    "project, so that any Python packages don’t interfere with other\n",
    "projects.\n",
    "\n",
    "#### Learning Python 3\n",
    "\n",
    "If you are new to Python 3, you may want to check out a few of these resources:\n",
    "- https://learnxinyminutes.com/docs/python3/\n",
    "- https://www.learnpython.org/\n",
    "- https://docs.python.org/3/tutorial/"
   ]
  },
  {
   "cell_type": "markdown",
   "metadata": {
    "colab_type": "text",
    "id": "bXWyGHwE-ieQ"
   },
   "source": [
    "Loading the Data\n",
    "-------------------------------------------------------------"
   ]
  },
  {
   "cell_type": "code",
   "execution_count": 26,
   "metadata": {
    "colab": {},
    "colab_type": "code",
    "id": "lm-rakqtlMOT"
   },
   "outputs": [],
   "source": [
    "# download sentiment lexicon\n",
    "#!wget https://gist.githubusercontent.com/bastings/d6f99dcb6c82231b94b013031356ba05/raw/f80a0281eba8621b122012c89c8b5e2200b39fd6/sent_lexicon\n",
    "# download review data\n",
    "#!wget https://gist.githubusercontent.com/bastings/d47423301cca214e3930061a5a75e177/raw/5113687382919e22b1f09ce71a8fecd1687a5760/reviews.json"
   ]
  },
  {
   "cell_type": "code",
   "execution_count": 3,
   "metadata": {
    "colab": {},
    "colab_type": "code",
    "id": "hok-BFu9lGoK"
   },
   "outputs": [],
   "source": [
    "import math\n",
    "import os\n",
    "import sys\n",
    "from subprocess import call\n",
    "import nltk\n",
    "from nltk import FreqDist\n",
    "from nltk.util import ngrams\n",
    "from nltk.stem.porter import PorterStemmer\n",
    "import sklearn as sk\n",
    "# from google.colab import drive\n",
    "import pickle\n",
    "import json\n",
    "from collections import Counter\n",
    "import requests\n",
    "import matplotlib.pyplot as plt\n",
    "import numpy as np"
   ]
  },
  {
   "cell_type": "code",
   "execution_count": 4,
   "metadata": {
    "colab": {},
    "colab_type": "code",
    "id": "careEKj-mRpl",
    "scrolled": true
   },
   "outputs": [
    {
     "name": "stdout",
     "output_type": "stream",
     "text": [
      "2000\n",
      "0 NEG 29\n",
      "Two/CD teen/JJ couples/NNS go/VBP to/TO a/DT church/NN party/NN ,/, drink/NN and/CC then/RB drive/NN ./.\n",
      "1 NEG 11\n",
      "Damn/JJ that/IN Y2K/CD bug/NN ./.\n",
      "2 NEG 24\n",
      "It/PRP is/VBZ movies/NNS like/IN these/DT that/WDT make/VBP a/DT jaded/JJ movie/NN viewer/NN thankful/JJ for/IN the/DT invention/NN of/IN the/DT Timex/NNP IndiGlo/NNP watch/NN ./.\n",
      "3 NEG 19\n",
      "QUEST/NN FOR/IN CAMELOT/NNP ``/`` Quest/NNP for/IN Camelot/NNP ''/'' is/VBZ Warner/NNP Bros./NNP '/POS first/JJ feature-length/JJ ,/, fully-animated/JJ attempt/NN to/TO steal/VB clout/NN from/IN Disney/NNP 's/POS cartoon/NN empire/NN ,/, but/CC the/DT mouse/NN has/VBZ no/DT reason/NN to/TO be/VB worried/VBN ./.\n",
      "4 NEG 38\n",
      "Synopsis/NNPS :/: A/DT mentally/RB unstable/JJ man/NN undergoing/VBG psychotherapy/NN saves/VBZ a/DT boy/NN from/IN a/DT potentially/RB fatal/JJ accident/NN and/CC then/RB falls/VBZ in/IN love/NN with/IN the/DT boy/NN 's/POS mother/NN ,/, a/DT fledgling/NN restauranteur/NN ./.\n",
      "CC\n",
      "1512359\n",
      "#types 47743\n",
      "Most common tokens:\n",
      "         , :    77842\n",
      "       the :    75948\n",
      "         . :    59027\n",
      "         a :    37583\n",
      "       and :    35235\n",
      "        of :    33864\n",
      "        to :    31601\n",
      "        is :    25972\n",
      "        in :    21563\n",
      "        's :    18043\n",
      "        it :    15904\n",
      "      that :    15820\n",
      "     -rrb- :    11768\n",
      "     -lrb- :    11670\n",
      "        as :    11312\n",
      "      with :    10739\n",
      "       for :     9816\n",
      "       his :     9542\n",
      "      this :     9497\n",
      "      film :     9404\n",
      "        '' :     9282\n",
      "        he :     8804\n",
      "        `` :     8801\n",
      "         i :     8619\n",
      "       but :     8537\n"
     ]
    }
   ],
   "source": [
    "# load reviews into memory\n",
    "# file structure:\n",
    "# [\n",
    "#  {\"cv\": integer, \"sentiment\": str, \"content\": list} \n",
    "#  {\"cv\": integer, \"sentiment\": str, \"content\": list} \n",
    "#   ..\n",
    "# ]\n",
    "# where `content` is a list of sentences, \n",
    "# with a sentence being a list of (token, pos_tag) pairs.\n",
    "\n",
    "# For documentation on POS-tags, see \n",
    "# https://catalog.ldc.upenn.edu/docs/LDC99T42/tagguid1.pdf\n",
    "\n",
    "with open(\"reviews.json\", mode=\"r\", encoding=\"utf-8\") as f:\n",
    "  reviews = json.load(f)\n",
    "  \n",
    "print(len(reviews))\n",
    "\n",
    "def print_sentence_with_pos(s):\n",
    "  print(\" \".join(\"%s/%s\" % (token, pos_tag) for token, pos_tag in s))\n",
    "\n",
    "for i, r in enumerate(reviews):\n",
    "  print(r[\"cv\"], r[\"sentiment\"], len(r[\"content\"]))  # cv, sentiment, num sents\n",
    "  print_sentence_with_pos(r[\"content\"][0])\n",
    "  if i == 4: \n",
    "    break\n",
    "    \n",
    "c = Counter()\n",
    "c_c = 0\n",
    "for review in reviews:\n",
    "  for sentence in review[\"content\"]:\n",
    "    for token, pos_tag in sentence:\n",
    "      c[token.lower()] += 1\n",
    "      c_c += 1\n",
    "\n",
    "print(\"CC\")        \n",
    "print(c_c)\n",
    "print(\"#types\", len(c))\n",
    "\n",
    "print(\"Most common tokens:\")\n",
    "for token, count in c.most_common(25):\n",
    "  print(\"%10s : %8d\" % (token, count))\n",
    "  "
   ]
  },
  {
   "cell_type": "markdown",
   "metadata": {
    "colab_type": "text",
    "id": "E6PWaEoh8B34"
   },
   "source": [
    "Symbolic approach – sentiment lexicon (2pts)\n",
    "---------------------------------------------------------------------\n",
    "\n"
   ]
  },
  {
   "cell_type": "markdown",
   "metadata": {
    "colab_type": "text",
    "id": "JsTSMb6ma4E8"
   },
   "source": [
    "**How** could one automatically classify movie reviews according to their\n",
    "sentiment? \n",
    "\n",
    "If we had access to a **sentiment lexicon**, then there are ways to solve\n",
    "the problem without using Machine Learning. One might simply look up\n",
    "every open-class word in the lexicon, and compute a binary score\n",
    "$S_{binary}$ by counting how many words match either a positive, or a\n",
    "negative word entry in the sentiment lexicon $SLex$.\n",
    "\n",
    "$$S_{binary}(w_1w_2...w_n) = \\sum_{i = 1}^{n}\\text{sgn}(SLex\\big[w_i\\big])$$\n",
    "\n",
    "**Threshold.** In average there are more positive than negative words per review (~7.13 more positive than negative per review) to take this bias into account you should use a threshold of **8** (roughly the bias itself) to make it harder to classify as positive.\n",
    "\n",
    "$$\n",
    "\\text{classify}(S_{binary}(w_1w_2...w_n)) = \\bigg\\{\\begin{array}{ll}\n",
    "        \\text{positive} & \\text{if } S_{binary}(w_1w_2...w_n) > threshold\\\\\n",
    "        \\text{negative} & \\text{else }\n",
    "        \\end{array}\n",
    "$$\n",
    "\n",
    "To implement this approach, you should use the sentiment\n",
    "lexicon in `sent_lexicon`, which was taken from the\n",
    "following work:\n",
    "\n",
    "> Theresa Wilson, Janyce Wiebe, and Paul Hoffmann\n",
    "(2005). [Recognizing Contextual Polarity in Phrase-Level Sentiment\n",
    "Analysis](http://www.aclweb.org/anthology/H/H05/H05-1044.pdf). HLT-EMNLP."
   ]
  },
  {
   "cell_type": "markdown",
   "metadata": {
    "colab_type": "text",
    "id": "tOFnMvbeeZrc"
   },
   "source": [
    "#### (Q: 1.1) Implement this approach and report its classification accuracy. (1 pt)"
   ]
  },
  {
   "cell_type": "code",
   "execution_count": 5,
   "metadata": {
    "colab": {},
    "colab_type": "code",
    "id": "ED2aTEYutW1-"
   },
   "outputs": [],
   "source": [
    "# YOUR CODE HERE\n",
    "def sent_lex_to_dict():\n",
    "    \n",
    "    sent_lex_dict = {}\n",
    "    \n",
    "    with open(\"sent_lexicon\", mode=\"r\", encoding=\"utf-8\") as f:\n",
    "        sent_lex = f.readlines()\n",
    "    \n",
    "    for sent_obs in sent_lex:\n",
    "        \n",
    "        sent_list = sent_obs.split(\" \")\n",
    "        word = sent_list[2].split(\"=\")[1]\n",
    "        \n",
    "        word_info = [x.split(\"=\")[1] for i,x in enumerate(sent_list) if i!=2]\n",
    "        word_info[-1] = word_info[-1][:-1] \n",
    "        \n",
    "        sent_lex_dict[word] = word_info\n",
    "    \n",
    "    return sent_lex_dict\n",
    "\n",
    "def create_bag_of_words(review):\n",
    "    bag_of_words = Counter()\n",
    "    \n",
    "    for sentence in review[\"content\"]:\n",
    "        for token, pos_tag in sentence:\n",
    "            bag_of_words[token.lower()] += 1\n",
    "        \n",
    "    return bag_of_words\n",
    "    \n",
    "def classify_s_binary(review, sent_lex, weights):\n",
    "    \n",
    "    bow = create_bag_of_words(review)\n",
    "    \n",
    "    count_positive = 0\n",
    "    count_negative = 0\n",
    "    \n",
    "    for word in bow:\n",
    "        if word in sent_lex:\n",
    "            word_info = sent_lex[word]\n",
    "        else:\n",
    "            continue\n",
    "            \n",
    "        sentiment = word_info[-1]\n",
    "        \n",
    "        s_strength = word_info[0]\n",
    "        \n",
    "        word_count = bow[word]\n",
    "        \n",
    "        if s_strength == 'strongsubj':\n",
    "            word_count *= weights[0]\n",
    "        else:\n",
    "            word_count *= weights[1]\n",
    "        \n",
    "        if sentiment == 'positive':\n",
    "            count_positive += word_count\n",
    "        elif sentiment == 'negative':\n",
    "            count_negative += word_count\n",
    "        else:\n",
    "            continue\n",
    "        #elif sentiment == 'neutral':\n",
    "        #    continue\n",
    "        #else:\n",
    "        #    raise Exception(\"Sentiment is neither positive, negative or neutral. Its \" + sentiment + \".\")\n",
    "     \n",
    "    final_count = count_positive - count_negative\n",
    "    \n",
    "    # classify does not justify a own function?\n",
    "    if final_count > 8:\n",
    "        return 'POS'\n",
    "    else:\n",
    "        return 'NEG'\n",
    "    \n",
    "    \n",
    "def compute_accuracy(cm):\n",
    "    return float(cm[0] + cm[3]) / sum(cm)\n",
    "\n",
    "\n",
    "def evaluate_symbolic_approach(strong_w, weak_w):\n",
    "    \n",
    "    sent_lex_dict = sent_lex_to_dict()\n",
    "\n",
    "    # list with the classification results. True => positive; False: Negative\n",
    "    prediction = []\n",
    "    ground_truths = []\n",
    "    token_results = []\n",
    "\n",
    "    # TP, FP, FN, TN\n",
    "    confusion_matrix = [0, 0, 0, 0]\n",
    "\n",
    "    for review in reviews:\n",
    "        gt_sentiment = review['sentiment']\n",
    "        current_prediction = classify_s_binary(review, sent_lex_dict, [strong_w, weak_w])\n",
    "\n",
    "        prediction.append(current_prediction)\n",
    "        ground_truths.append(gt_sentiment)\n",
    "\n",
    "        if gt_sentiment == current_prediction:\n",
    "            token_results.append('+')\n",
    "            if current_prediction == 'POS':\n",
    "                confusion_matrix[0] += 1\n",
    "            else:\n",
    "                confusion_matrix[3] += 1\n",
    "        else:\n",
    "            token_results.append('-')\n",
    "            if current_prediction == 'POS':\n",
    "                confusion_matrix[1] += 1\n",
    "            else:\n",
    "                confusion_matrix[2] += 1\n",
    "\n",
    "    accuracy = compute_accuracy(confusion_matrix)\n",
    "    \n",
    "    return accuracy, token_results\n"
   ]
  },
  {
   "cell_type": "code",
   "execution_count": 6,
   "metadata": {
    "colab": {},
    "colab_type": "code",
    "id": "iy528EUTphz5"
   },
   "outputs": [
    {
     "name": "stdout",
     "output_type": "stream",
     "text": [
      "Accuracy: 0.68\n"
     ]
    }
   ],
   "source": [
    "token_accuracy, token_results = evaluate_symbolic_approach(1, 1)\n",
    "print(\"Accuracy: %0.2f\" % token_accuracy)"
   ]
  },
  {
   "cell_type": "markdown",
   "metadata": {
    "colab_type": "text",
    "id": "Twox0s_3eS0V"
   },
   "source": [
    "If the sentiment lexicon also has information about the **magnitude** of\n",
    "sentiment (e.g., *“excellent\"* would have higher magnitude than\n",
    "*“good\"*), we could take a more fine-grained approach by adding up all\n",
    "sentiment scores, and deciding the polarity of the movie review using\n",
    "the sign of the weighted score $S_{weighted}$.\n",
    "\n",
    "$$S_{weighted}(w_1w_2...w_n) = \\sum_{i = 1}^{n}SLex\\big[w_i\\big]$$\n",
    "\n",
    "\n",
    "Their lexicon also records two possible magnitudes of sentiment (*weak*\n",
    "and *strong*), so you can implement both the binary and the weighted\n",
    "solutions (please use a switch in your program). For the weighted\n",
    "solution, you can choose the weights intuitively *once* before running\n",
    "the experiment.\n",
    "\n",
    "#### (Q: 1.2) Now incorporate magnitude information and report the classification accuracy. Don't forget to use the threshold. (1 pt)"
   ]
  },
  {
   "cell_type": "code",
   "execution_count": 7,
   "metadata": {
    "colab": {},
    "colab_type": "code",
    "id": "qG3hUDnPtkhS"
   },
   "outputs": [],
   "source": [
    "magnitude_accuracy, magnitude_results = evaluate_symbolic_approach(1, 0.5)"
   ]
  },
  {
   "cell_type": "code",
   "execution_count": 8,
   "metadata": {
    "colab": {},
    "colab_type": "code",
    "id": "9vVk7CvDpyka"
   },
   "outputs": [
    {
     "name": "stdout",
     "output_type": "stream",
     "text": [
      "Accuracy: 0.69\n"
     ]
    }
   ],
   "source": [
    "print(\"Accuracy: %0.2f\" % magnitude_accuracy)"
   ]
  },
  {
   "cell_type": "markdown",
   "metadata": {
    "colab_type": "text",
    "id": "h9SHoGPfsAHV"
   },
   "source": [
    "#### Optional: make a barplot of the two results."
   ]
  },
  {
   "cell_type": "code",
   "execution_count": 9,
   "metadata": {
    "colab": {},
    "colab_type": "code",
    "id": "8LgBcYcXsEk3"
   },
   "outputs": [
    {
     "data": {
      "text/plain": [
       "<function matplotlib.pyplot.show(*args, **kw)>"
      ]
     },
     "execution_count": 9,
     "metadata": {},
     "output_type": "execute_result"
    },
    {
     "data": {
      "image/png": "[encoded data removed]",
      "text/plain": [
       "<Figure size 432x288 with 1 Axes>"
      ]
     },
     "metadata": {
      "needs_background": "light"
     },
     "output_type": "display_data"
    }
   ],
   "source": [
    "width = 0.35\n",
    "height = 1.0\n",
    "\n",
    "fig, ax = plt.subplots()\n",
    "bar_baseline = ax.bar(0, token_accuracy, width, color='Red', label='Token')\n",
    "bar_magnitude = ax.bar(1, magnitude_accuracy, width, color='Blue', label='Magnitude')\n",
    "\n",
    "plt.ylabel('Accuracy')\n",
    "plt.title('Baseline vs. Magnitude')\n",
    "plt.xticks((0, 1), ('Baseline', 'Magnitude'))\n",
    "# plt.legend((bar_baseline[0], bar_magnitude[0]), ('Men', 'Women'))\n",
    "plt.show"
   ]
  },
  {
   "cell_type": "markdown",
   "metadata": {
    "colab_type": "text",
    "id": "6MFrz8Jink0D"
   },
   "source": [
    "Answering questions in statistically significant ways (1pt)\n",
    "-------------------------------------------------------------"
   ]
  },
  {
   "cell_type": "markdown",
   "metadata": {
    "colab_type": "text",
    "id": "kxkxrldT9Ymc"
   },
   "source": [
    "Does using the magnitude improve the results? Oftentimes, answering questions like this about the performance of\n",
    "different signals and/or algorithms by simply looking at the output\n",
    "numbers is not enough. When dealing with natural language or human\n",
    "ratings, it’s safe to assume that there are infinitely many possible\n",
    "instances that could be used for training and testing, of which the ones\n",
    "we actually train and test on are a tiny sample. Thus, it is possible\n",
    "that observed differences in the reported performance are really just\n",
    "noise. \n",
    "\n",
    "There exist statistical methods which can be used to check for\n",
    "consistency (*statistical significance*) in the results, and one of the\n",
    "simplest such tests is the **sign test**. \n",
    "\n",
    "The sign test is based on the binomial distribution. Count all cases when System 1 is better than System 2, when System 2 is better than System 1, and when they are the same. Call these numbers $Plus$, $Minus$ and $Null$ respectively. \n",
    "\n",
    "The sign test returns the probability that the null hypothesis is true. \n",
    "\n",
    "This probability is called the $p$-value and it can be calculated for the two-sided sign test using the following formula (we multiply by two because this is a two-sided sign test and tests for the significance of differences in either direction):\n",
    "\n",
    "$$2 \\, \\sum\\limits_{i=0}^{k} \\binom{N}{i} \\, q^i \\, (1-q)^{N-i}$$\n",
    "\n",
    "where $$N = 2 \\Big\\lceil \\frac{Null}{2}\\Big\\rceil + Plus + Minus$$ is the total\n",
    "number of cases, and\n",
    "$$k = \\Big\\lceil \\frac{Null}{2}\\Big\\rceil + \\min\\{Plus,Minus\\}$$ is the number of\n",
    "cases with the less common sign. \n",
    "\n",
    "In this experiment, $q = 0.5$. Here, we\n",
    "treat ties by adding half a point to either side, rounding up to the\n",
    "nearest integer if necessary. \n",
    "\n",
    "\n",
    "#### (Q 2.1): Implement the sign test. Is the difference between the two symbolic systems significant? What is the p-value? (1 pt)\n",
    "\n",
    "You should use the `comb` function from `scipy` and the `decimal` package for the stable adding of numbers in the final summation.\n",
    "\n",
    "You can quickly verify the correctness of\n",
    "your sign test code using a [free online\n",
    "tool](https://www.graphpad.com/quickcalcs/binomial1.cfm)."
   ]
  },
  {
   "cell_type": "code",
   "execution_count": 10,
   "metadata": {
    "colab": {},
    "colab_type": "code",
    "id": "de5l4oPkE-BS"
   },
   "outputs": [
    {
     "name": "stdout",
     "output_type": "stream",
     "text": [
      "p_value = 0.6874061571902917775322357382\n"
     ]
    }
   ],
   "source": [
    "from decimal import Decimal\n",
    "from scipy.special import comb\n",
    "\n",
    "\n",
    "def sign_test(results_1, results_2):\n",
    "  \"\"\"test for significance\n",
    "  results_1 is a list of classification results (+ for correct, - incorrect)\n",
    "  results_2 is a list of classification results (+ for correct, - incorrect)\n",
    "  \"\"\"\n",
    "  ties, plus, minus = 0, 0, 0\n",
    "\n",
    "  # \"-\" carries the error\n",
    "  for i in range(0, len(results_1)):\n",
    "    if results_1[i]==results_2[i]:\n",
    "      ties += 1\n",
    "    elif results_1[i]==\"-\": \n",
    "      plus += 1\n",
    "    elif results_2[i]==\"-\": \n",
    "      minus += 1\n",
    "    \n",
    "  n = 2*np.ceil(float(ties)/2) + plus + minus\n",
    "  k = np.ceil(float(ties/2)) + np.min(np.asarray([plus, minus]))\n",
    "          \n",
    "  summation = Decimal(0.0)\n",
    "  for i in range(0,int(k)+1):\n",
    "    summation += Decimal(comb(n, i, True)) #* Decimal(pow(0.5, i)) * Decimal(pow((1-0.5), (n-i)))\n",
    "\n",
    "  # use two-tailed version of test\n",
    "  summation *= 2\n",
    "  summation *= (Decimal(0.5)**Decimal(n))\n",
    "  \n",
    "  # print(\"the difference is\", \"not significant\" if summation >= 0.05 else \"significant\")\n",
    "  \n",
    "  return summation\n",
    "\n",
    "# baseline\n",
    "token_accuracy, token_results = evaluate_symbolic_approach(1, 1)\n",
    "\n",
    "# magnitude\n",
    "magnitude_accuracy, magnitude_results = evaluate_symbolic_approach(1, 0.5)\n",
    "\n",
    "p_value = sign_test(token_results, magnitude_results)\n",
    "print(\"p_value =\", p_value)"
   ]
  },
  {
   "cell_type": "markdown",
   "metadata": {
    "colab_type": "text",
    "id": "uhU_tk-BOaXb"
   },
   "source": [
    "## Using the Sign test\n",
    "\n",
    "**From now on, report all differences between systems using the\n",
    "sign test.** You can think about a change that you apply to one system, as a\n",
    " new system.\n",
    "    \n",
    "You should report statistical test\n",
    "results in an appropriate form – if there are several different methods\n",
    "(i.e., systems) to compare, tests can only be applied to pairs of them\n",
    "at a time. This creates a triangular matrix of test results in the\n",
    "general case. When reporting these pair-wise differences, you should\n",
    "summarise trends to avoid redundancy.\n"
   ]
  },
  {
   "cell_type": "markdown",
   "metadata": {
    "colab_type": "text",
    "id": "LibV4nR89BXb"
   },
   "source": [
    "Naive Bayes (8pt + 1pt bonus)\n",
    "=========="
   ]
  },
  {
   "cell_type": "markdown",
   "metadata": {
    "colab_type": "text",
    "id": "fnF9adQnuwia"
   },
   "source": [
    "\n",
    "Your second task is to program a simple Machine Learning approach that operates\n",
    "on a simple Bag-of-Words (BoW) representation of the text data, as\n",
    "described in Pang et al. (2002). In this approach, the only features we\n",
    "will consider are the words in the text themselves, without bringing in\n",
    "external sources of information. The BoW model is a popular way of\n",
    "representing text information as vectors (or points in space), making it\n",
    "easy to apply classical Machine Learning algorithms on NLP tasks.\n",
    "However, the BoW representation is also very crude, since it discards\n",
    "all information related to word order and grammatical structure in the\n",
    "original text.\n",
    "\n",
    "## Writing your own classifier\n",
    "\n",
    "Write your own code to implement the Naive Bayes (NB) classifier. As\n",
    "a reminder, the Naive Bayes classifier works according to the following\n",
    "equation:\n",
    "$$\\hat{c} = \\operatorname*{arg\\,max}_{c \\in C} P(c|\\bar{f}) = \\operatorname*{arg\\,max}_{c \\in C} P(c)\\prod^n_{i=1} P(f_i|c)$$\n",
    "where $C = \\{ \\text{POS}, \\text{NEG} \\}$ is the set of possible classes,\n",
    "$\\hat{c} \\in C$ is the most probable class, and $\\bar{f}$ is the feature\n",
    "vector. Remember that we use the log of these probabilities when making\n",
    "a prediction:\n",
    "$$\\hat{c} = \\operatorname*{arg\\,max}_{c \\in C} \\Big\\{\\log P(c) + \\sum^n_{i=1} \\log P(f_i|c)\\Big\\}$$\n",
    "\n",
    "You can find more details about Naive Bayes in [Jurafsky &\n",
    "Martin](https://web.stanford.edu/~jurafsky/slp3/). You can also look at\n",
    "this helpful\n",
    "[pseudo-code](https://nlp.stanford.edu/IR-book/html/htmledition/naive-bayes-text-classification-1.html).\n",
    "\n",
    "*Note: this section and the next aim to put you a position to replicate\n",
    "    Pang et al., Naive Bayes results. However, the numerical results\n",
    "    will differ from theirs, as they used different data.*\n",
    "\n",
    "**You must write the Naive Bayes training and prediction code from\n",
    "scratch.** You will not be given credit for using off-the-shelf Machine\n",
    "Learning libraries.\n",
    "\n",
    "The data contains the text of the reviews, where each document consists\n",
    "of the sentences in the review, the sentiment of the review and an index\n",
    "(cv) that you will later use for cross-validation. You will find the\n",
    "text has already been tokenised and POS-tagged for you. Your algorithm\n",
    "should read in the text, **lowercase it**, and store the words and their\n",
    "frequencies in an appropriate data structure that allows for easy\n",
    "computation of the probabilities used in the Naive Bayes algorithm, and\n",
    "then make predictions for new instances."
   ]
  },
  {
   "cell_type": "markdown",
   "metadata": {
    "colab_type": "text",
    "id": "gsZRhaI3WvzC"
   },
   "source": [
    "#### (Q3.1) Train your classifier on (positive and negative) reviews with cv-value 000-899, and test it on the remaining reviews cv900–cv999.  Report results using simple classification accuracy as your evaluation metric. Your  features are the word vocabulary. The value of a feature is the count of that feature (word) in the document. (2pts)\n"
   ]
  },
  {
   "cell_type": "code",
   "execution_count": 11,
   "metadata": {
    "colab": {},
    "colab_type": "code",
    "id": "G7zaJYGFvIJ3",
    "scrolled": true
   },
   "outputs": [
    {
     "name": "stdout",
     "output_type": "stream",
     "text": [
      "The final accuracy: 0.865\n"
     ]
    }
   ],
   "source": [
    "# YOUR CODE HERE\n",
    "\n",
    "def train_bayes(V, K_laplace, negatives, positives):\n",
    "    \n",
    "    classes = [\"POS\", \"NEG\"]\n",
    "    \n",
    "    neg_docs = negatives #:900\n",
    "    pos_docs = positives #1000:1900\n",
    "    \n",
    "    pos_neg_docs = [pos_docs, neg_docs]\n",
    "    \n",
    "    n_doc = len(pos_docs) + len(neg_docs)\n",
    "    \n",
    "    log_prior =  []\n",
    "    log_likelihood = {}\n",
    "\n",
    "    for i, c in enumerate(classes): \n",
    "        \n",
    "        # prior P(c) we ask what: percentage of the documents in our training set are in each class c.\n",
    "        n_c = len(pos_neg_docs[i])\n",
    "        log_prior.append(np.log(float(n_c) / n_doc))\n",
    "        \n",
    "        big_doc = Counter()\n",
    "        for review in pos_neg_docs[i]:\n",
    "            for sentence in review[\"content\"]:\n",
    "                for token, pos_tag in sentence:\n",
    "                    big_doc[token.lower()] += 1\n",
    "        \n",
    "        v_sum_c = 0\n",
    "        for word in V:\n",
    "            v_sum_c += (big_doc[word] + K_laplace)\n",
    "            # Added by Arvid, this is the smoothing factor in pseudo-code at page 7 for the denominator of the log_p_w_c\n",
    "            \n",
    "        for word in V:\n",
    "            w_count = big_doc[word]\n",
    "            \n",
    "            # the fraction of times the word w_i appears among all words in all documents of class c.\n",
    "            # with laplace smoothing\n",
    "            if((K_laplace == 0) and (w_count == 0)):\n",
    "                log_p_w_c = 0\n",
    "            else:\n",
    "                log_p_w_c = np.log(float(w_count + K_laplace) / (v_sum_c))\n",
    "            \n",
    "            # log likelyhood: dictionary with word as key and list with log p pos and log p neg\n",
    "            if word in log_likelihood:\n",
    "                log_likelihood[word].append(log_p_w_c)\n",
    "            else:\n",
    "                log_likelihood[word] = [log_p_w_c]\n",
    "    \n",
    "    return log_prior, log_likelihood\n",
    "\n",
    "def predict_with_bayes(test_docs, log_prior, log_likelihood, V):\n",
    "    classes = [\"POS\", \"NEG\"]\n",
    "    \n",
    "    predictions = []\n",
    "        \n",
    "    for i, doc in enumerate(test_docs):\n",
    "        c_sum = np.asarray([0, 0], np.float64)\n",
    "        for j, c in enumerate(classes):\n",
    "            c_sum[j] += log_prior[j]\n",
    "            \n",
    "            likelihoods = []\n",
    "            for sentence in doc['content']:\n",
    "                for word_pair in sentence:\n",
    "                    word = word_pair[0]\n",
    "                    if word in V:\n",
    "                        c_sum[j] += log_likelihood[word][j]\n",
    "\n",
    "        predictions.append(classes[np.argmax(c_sum)])\n",
    "    \n",
    "    return predictions\n",
    "    \n",
    "\n",
    "def test_bayes(log_prior, log_likelihood, V, negatives, positives):\n",
    "    neg_docs = negatives #900:1000\n",
    "    pos_docs = positives    #1900:\n",
    "   \n",
    "    test_docs = pos_docs + neg_docs\n",
    "    \n",
    "    ground_truth = []\n",
    "    for doc in test_docs:\n",
    "        ground_truth.append(doc['sentiment'])\n",
    "        \n",
    "    predictions = predict_with_bayes(test_docs, log_prior, log_likelihood, V)\n",
    "    \n",
    "    # TP, FP, FN, TN\n",
    "    confusion_matrix = [0, 0, 0, 0]\n",
    "    bayes_results = []\n",
    "\n",
    "    for i, item in enumerate(predictions):\n",
    "        gt_sentiment = ground_truth[i]\n",
    "        current_prediction = predictions[i]\n",
    "\n",
    "        if gt_sentiment == current_prediction:\n",
    "            bayes_results.append('+')\n",
    "            if current_prediction == 'POS':\n",
    "                confusion_matrix[0] += 1\n",
    "            else:\n",
    "                confusion_matrix[3] += 1\n",
    "        else:\n",
    "            bayes_results.append('-')\n",
    "            if current_prediction == 'POS':\n",
    "                confusion_matrix[1] += 1\n",
    "            else:\n",
    "                confusion_matrix[2] += 1\n",
    "\n",
    "    accuracy = compute_accuracy(confusion_matrix)\n",
    "    return accuracy, bayes_results\n",
    "\n",
    "# setup         \n",
    "# the vocabulary V: consists of the union of all the word types in all classes\n",
    "V = set()\n",
    "for review in reviews:\n",
    "  for sentence in review[\"content\"]:\n",
    "    for token, pos_tag in sentence:\n",
    "      V.add(token.lower())\n",
    "    \n",
    "# These have been moved outside the functions to manipulate them easier \n",
    "train_neg = reviews[:900]\n",
    "train_pos = reviews[1000:1900]\n",
    "test_neg = reviews[900:1000]\n",
    "test_pos = reviews[1900:]\n",
    "log_prior, log_likelihood = train_bayes(V, 1, train_neg, train_pos)        \n",
    "accuracy, bayes_results = test_bayes(log_prior, log_likelihood, V, test_neg, test_pos)\n",
    "\n",
    "print(\"The final accuracy: \" + str(np.round(accuracy, 4)))"
   ]
  },
  {
   "cell_type": "code",
   "execution_count": null,
   "metadata": {},
   "outputs": [],
   "source": []
  },
  {
   "cell_type": "markdown",
   "metadata": {
    "colab_type": "text",
    "id": "0INK-PBoM6CB"
   },
   "source": [
    "#### (Bonus Questions) Would you consider accuracy to also be a good way to evaluate your classifier in a situation where 90% of your data instances are of positive movie reviews? (1pt)\n",
    "\n",
    "You can simulate this scenario by keeping the positive reviews\n",
    "data unchanged, but only using negative reviews cv000–cv089 for\n",
    "training, and cv900–cv909 for testing. Calculate the classification\n",
    "accuracy, and explain what changed."
   ]
  },
  {
   "cell_type": "code",
   "execution_count": 12,
   "metadata": {
    "colab": {},
    "colab_type": "code",
    "id": "GWDkt5ZrrFGp"
   },
   "outputs": [
    {
     "name": "stdout",
     "output_type": "stream",
     "text": [
      "The accuracy we get with the skewed data: 0.9091\n"
     ]
    }
   ],
   "source": [
    "# Answer:\n",
    "# In the train_bayes function we change the data-split to \n",
    "neg_docs = reviews[:89] \n",
    "pos_docs = reviews[1000:1900]\n",
    "log_prior, log_likelihood = train_bayes(V, 1, neg_docs, pos_docs)  \n",
    "\n",
    "# and in the test_bayes function we change to:\n",
    "neg_docs = reviews[900:910] #900:1000\n",
    "pos_docs = reviews[1900:]    #1900:\n",
    "accuracy, bayes_results_smoothing = test_bayes(log_prior, log_likelihood, V, neg_docs, pos_docs)\n",
    "print(\"The accuracy we get with the skewed data: \" + str(np.round(accuracy, 4)))\n",
    "\n",
    "# This yields a final accuracy of 0.9090.\n",
    "# Because the training and testing data is biased towards \n",
    "# positive instances, the model can achieve a very high accuracy \n",
    "# by simply stating that all reviews are positive. There is no need \n",
    "# to classify the negatives correctly as they constitute only 10%\n",
    "# of the data. For this reason, accuracy is a bad metric for unbalanced datasets"
   ]
  },
  {
   "cell_type": "markdown",
   "metadata": {
    "colab_type": "text",
    "id": "6wJzcHX3WUDm"
   },
   "source": [
    "## Smoothing\n",
    "\n",
    "The presence of words in the test dataset that\n",
    "haven’t been seen during training can cause probabilities in the Naive\n",
    "Bayes classifier to be $0$, thus making that particular test instance\n",
    "undecidable. The standard way to mitigate this effect (as well as to\n",
    "give more clout to rare words) is to use smoothing, in which the\n",
    "probability fraction\n",
    "$$\\frac{\\text{count}(w_i, c)}{\\sum\\limits_{w\\in V} \\text{count}(w, c)}$$ for a word\n",
    "$w_i$ becomes\n",
    "$$\\frac{\\text{count}(w_i, c) + \\text{smoothing}(w_i)}{\\sum\\limits_{w\\in V} \\text{count}(w, c) + \\sum\\limits_{w \\in V} \\text{smoothing}(w)}$$\n",
    "\n",
    "\n",
    "\n"
   ]
  },
  {
   "cell_type": "markdown",
   "metadata": {
    "colab_type": "text",
    "id": "PBNIcbwUWphC"
   },
   "source": [
    "#### (Q3.2) Implement Laplace feature smoothing (1pt)\n",
    "($smoothing(\\cdot) = \\kappa$, constant for all words) in your Naive\n",
    "Bayes classifier’s code, and report the impact on performance. \n",
    "Use $\\kappa = 1$."
   ]
  },
  {
   "cell_type": "code",
   "execution_count": 13,
   "metadata": {
    "colab": {},
    "colab_type": "code",
    "id": "g03yflCc9kpW"
   },
   "outputs": [
    {
     "name": "stdout",
     "output_type": "stream",
     "text": [
      "The accuracy with smoothing (k=1): 0.865\n",
      "The accuracy without smoothing: 0.515\n"
     ]
    }
   ],
   "source": [
    "train_neg = reviews[:900]\n",
    "train_pos = reviews[1000:1900]\n",
    "test_neg = reviews[900:1000]\n",
    "test_pos = reviews[1900:]\n",
    "log_prior, log_likelihood = train_bayes(V, 1, train_neg, train_pos)        \n",
    "accuracy, bayes_results_smoothing = test_bayes(log_prior, log_likelihood, V, test_neg, test_pos)\n",
    "\n",
    "print(\"The accuracy with smoothing (k=1): \" + str(np.round(accuracy, 4)))\n",
    "\n",
    "log_prior, log_likelihood = train_bayes(V, 0, train_neg, train_pos)        \n",
    "accuracy, bayes_results_baseline = test_bayes(log_prior, log_likelihood, V, test_neg, test_pos)\n",
    "\n",
    "print(\"The accuracy without smoothing: \" + str(np.round(accuracy, 4)))\n",
    "\n",
    "# Without using smoothing, the final\n",
    "# accuracy is 0.51, With a K = 1, accuracy \n",
    "# increases to 0.865\n",
    "\n",
    "\n",
    "# ANSWER WHAT DID WE DO TO CIRCUMVENT MATH ERROR"
   ]
  },
  {
   "cell_type": "markdown",
   "metadata": {
    "colab_type": "text",
    "id": "-conSBddWWyN"
   },
   "source": [
    "#### (Q3.3) Is the difference between non smoothed (Q3.1) and smoothed (Q3.2) statistically significant? (0.5pt)"
   ]
  },
  {
   "cell_type": "code",
   "execution_count": 14,
   "metadata": {
    "colab": {},
    "colab_type": "code",
    "id": "CCvSNGlHMUPz"
   },
   "outputs": [
    {
     "name": "stdout",
     "output_type": "stream",
     "text": [
      "The p-value:  8.327913048391422592359667150E-7\n"
     ]
    }
   ],
   "source": [
    "# YOUR CODE HERE\n",
    "train_neg = reviews[:900]\n",
    "train_pos = reviews[1000:1900]\n",
    "test_neg = reviews[900:1000]\n",
    "test_pos = reviews[1900:]\n",
    "\n",
    "#Results without smoothing\n",
    "log_prior, log_likelihood = train_bayes(V, 0, train_neg, train_pos)        \n",
    "accuracy, bayes_results_baseline = test_bayes(log_prior, log_likelihood, V, test_neg, test_pos)\n",
    "\n",
    "#Results with smoothing\n",
    "log_prior, log_likelihood = train_bayes(V, 1, train_neg, train_pos)        \n",
    "accuracy, bayes_results_smoothing = test_bayes(log_prior, log_likelihood, V, test_neg, test_pos)\n",
    "\n",
    "p_value = sign_test(bayes_results_baseline, bayes_results_smoothing)\n",
    "print(\"The p-value: \", p_value)\n",
    "#Answer: The p_value is very low, approx 8.32E-7, hence\n",
    "#it is extremely unlikely that the classifier using smoothing \n",
    "#and the classifier without smoothing perform equally "
   ]
  },
  {
   "cell_type": "markdown",
   "metadata": {
    "colab_type": "text",
    "id": "ZiGcgwba87D5"
   },
   "source": [
    "## Cross-validation\n",
    "\n",
    "A serious danger in using Machine Learning on small datasets, with many\n",
    "iterations of slightly different versions of the algorithms, is that we\n",
    "end up with Type III errors, also called the “testing hypotheses\n",
    "suggested by the data” errors. This type of error occurs when we make\n",
    "repeated improvements to our classifiers by playing with features and\n",
    "their processing, but we don’t get a fresh, never-before seen test\n",
    "dataset every time. Thus, we risk developing a classifier that’s better\n",
    "and better on our data, but worse and worse at generalizing to new,\n",
    "never-before seen data.\n",
    "\n",
    "A simple method to guard against Type III errors is to use\n",
    "cross-validation. In N-fold cross-validation, we divide the data into N\n",
    "distinct chunks / folds. Then, we repeat the experiment N times, each\n",
    "time holding out one of the chunks for testing, training our classifier\n",
    "on the remaining N - 1 data chunks, and reporting performance on the\n",
    "held-out chunk. We can use different strategies for dividing the data:\n",
    "\n",
    "-   Consecutive splitting:\n",
    "  - cv000–cv099 = Split 1\n",
    "  - cv100–cv199 = Split 2\n",
    "  - etc.\n",
    "  \n",
    "-   Round-robin splitting (mod 10):\n",
    "  - cv000, cv010, cv020, … = Split 1\n",
    "  - cv001, cv011, cv021, … = Split 2\n",
    "  - etc.\n",
    "\n",
    "-   Random sampling/splitting\n",
    "  - Not used here (but you may choose to split this way in a non-educational situation)\n",
    "\n",
    "#### (Q3.4) Write the code to implement 10-fold cross-validation using round-robin splitting for your Naive Bayes classifier from Q3.2 and compute the 10 accuracies. Report the final performance, which is the average of the performances per fold. If all splits perform equally well, this is a good sign. (1pt)\n",
    "\n",
    "\n",
    "\n",
    "\n"
   ]
  },
  {
   "cell_type": "code",
   "execution_count": 21,
   "metadata": {
    "colab": {},
    "colab_type": "code",
    "id": "3KeCGPa7Nuzx"
   },
   "outputs": [
    {
     "name": "stdout",
     "output_type": "stream",
     "text": [
      "All accuracies: [0.79, 0.825, 0.825, 0.845, 0.775, 0.835, 0.85, 0.795, 0.855, 0.835]\n",
      "Mean accuracies: 0.8230000000000001\n"
     ]
    }
   ],
   "source": [
    "# YOUR CODE HERE\n",
    "def N_fold_crossVal(N, reviews, V, test_for_V, classifier = 'naiveBayes'):\n",
    "    accuracies = []\n",
    "    class_results = []\n",
    "    \n",
    "    for i in range(N):\n",
    "        chunk_i = range(i, 2000, N)\n",
    "        chunk_remaining = list(set(range(0, 2000)) - set(chunk_i))\n",
    "        train_neg = [i for i in chunk_remaining if i < 1000]\n",
    "        train_pos = [i for i in chunk_remaining if i >= 1000]\n",
    "        test_neg = [i for i in chunk_i if i < 1000]\n",
    "        test_pos = [i for i in chunk_i if i >= 1000]\n",
    "        #Train classifier on current Round-robin split \n",
    "        # we need to use indeces as indexes in reviews!.......\n",
    "        \n",
    "        # Only printing the held-out training set\n",
    "        if test_for_V:\n",
    "            if(i == (N - 1)):\n",
    "                training_split_idxs = train_neg + train_pos\n",
    "                train_reviews = [reviews[i] for i in training_split_idxs]\n",
    "                V_count = set()\n",
    "                for review in train_reviews:\n",
    "                  for sentence in review[\"content\"]:\n",
    "                    for token, pos_tag in sentence:\n",
    "                      V_count.add(token.lower())\n",
    "                print(\"Amount of features in held-out training set: \", len(V_count))\n",
    "        else:\n",
    "        \n",
    "            if classifier == 'naiveBayes':   \n",
    "                log_prior, log_likelihood = train_bayes(V, 1, [reviews[i] for i in train_neg], \n",
    "                                                [reviews[i] for i in train_pos])        \n",
    "                accuracy, bayes_results_smoothing = test_bayes(log_prior, log_likelihood, \n",
    "                                                V, [reviews[i] for i in test_neg], \n",
    "                                                [reviews[i] for i in test_pos])\n",
    "                accuracies.append(accuracy)\n",
    "                class_results += bayes_results_smoothing\n",
    "            elif classifier == \"SVM\":\n",
    "                X, y = reviews\n",
    "                train_data = X[train_pos+train_neg]\n",
    "                test_data = X[test_pos+test_neg]\n",
    "\n",
    "                train_labels = y[train_pos+train_neg]\n",
    "                test_labels = y[test_pos+test_neg]\n",
    "\n",
    "                SVM = train_SVM(train_data, train_labels)\n",
    "                accuracy, svm_results = test_SVM(SVM, test_data, test_labels)\n",
    "\n",
    "                accuracies.append(accuracy)\n",
    "                class_results += svm_results\n",
    "    \n",
    "        \n",
    "    return accuracies, class_results\n",
    "\n",
    "accuracies, bayes_results_smoothing = N_fold_crossVal(10, reviews, V, False)\n",
    "print(\"All accuracies:\" ,accuracies)\n",
    "print(\"Mean accuracies:\" ,np.mean(np.asarray(accuracies)))"
   ]
  },
  {
   "cell_type": "markdown",
   "metadata": {
    "colab_type": "text",
    "id": "otdlsDXBNyOa"
   },
   "source": [
    "#### (Q3.5) Write code to calculate and report variance, in addition to the final performance. (1pt)\n",
    "\n",
    "**Please report all future results using 10-fold cross-validation now\n",
    "(unless told to use the held-out test set).**"
   ]
  },
  {
   "cell_type": "code",
   "execution_count": 16,
   "metadata": {
    "colab": {},
    "colab_type": "code",
    "id": "ZoBQm1KuNzNR",
    "scrolled": true
   },
   "outputs": [
    {
     "name": "stdout",
     "output_type": "stream",
     "text": [
      "Average accuracy =  0.8230000000000001\n",
      "Variance of accuracies =  0.0006709999999999986\n",
      "Standard Deviation: 0.02590366769397721\n"
     ]
    }
   ],
   "source": [
    "# See code above for function\n",
    "print(\"Average accuracy = \", np.mean(accuracies))\n",
    "print(\"Variance of accuracies = \", np.var(accuracies))\n",
    "print(\"Standard Deviation:\" ,np.std(np.asarray(accuracies)))"
   ]
  },
  {
   "cell_type": "markdown",
   "metadata": {
    "colab_type": "text",
    "id": "s6A2zX9_BRKm"
   },
   "source": [
    "## Features, overfitting, and the curse of dimensionality\n",
    "\n",
    "In the Bag-of-Words model, ideally we would like each distinct word in\n",
    "the text to be mapped to its own dimension in the output vector\n",
    "representation. However, real world text is messy, and we need to decide\n",
    "on what we consider to be a word. For example, is “`word`\" different\n",
    "from “`Word`\", from “`word`”, or from “`words`\"? Too strict a\n",
    "definition, and the number of features explodes, while our algorithm\n",
    "fails to learn anything generalisable. Too lax, and we risk destroying\n",
    "our learning signal. In the following section, you will learn about\n",
    "confronting the feature sparsity and the overfitting problems as they\n",
    "occur in NLP classification tasks."
   ]
  },
  {
   "cell_type": "markdown",
   "metadata": {
    "colab_type": "text",
    "id": "EKK8FNt8VtcZ"
   },
   "source": [
    "#### (Q3.6): A touch of linguistics (1pt)\n",
    "\n",
    "Taking a step further, you can use stemming to\n",
    "hash different inflections of a word to the same feature in the BoW\n",
    "vector space. How does the performance of your classifier change when\n",
    "you use stemming on your training and test datasets? Please use the [Porter stemming\n",
    "    algorithm](http://www.nltk.org/howto/stem.html) from NLTK.\n",
    " Also, you should do cross validation and concatenate the predictions from all folds to compute the significance."
   ]
  },
  {
   "cell_type": "code",
   "execution_count": 17,
   "metadata": {
    "colab": {},
    "colab_type": "code",
    "id": "NxtCul1IrBi_"
   },
   "outputs": [
    {
     "name": "stdout",
     "output_type": "stream",
     "text": [
      "BASELINE\n",
      "[0.79, 0.825, 0.825, 0.845, 0.775, 0.835, 0.85, 0.795, 0.855, 0.835]\n",
      "Average accuracy =  0.8230000000000001\n",
      "STEMMED\n",
      "[0.795, 0.835, 0.815, 0.85, 0.78, 0.835, 0.815, 0.775, 0.835, 0.84]\n",
      "Average accuracy =  0.8175000000000001\n"
     ]
    }
   ],
   "source": [
    "def create_stem_reviews(reviews):\n",
    "    \n",
    "#    {\"cv\": integer, \"sentiment\": str, \"content\": list} \n",
    "    stemmer = PorterStemmer()\n",
    "    \n",
    "    V_stemmed = set()\n",
    "    stemmed_reviews = []\n",
    "    for review in reviews:\n",
    "        \n",
    "        stemmed_review = {}\n",
    "        cv = review['cv']\n",
    "        sentiment = review['sentiment']\n",
    "        \n",
    "        stemmed_review['cv'] = cv\n",
    "        stemmed_review['sentiment'] = sentiment\n",
    "        stemmed_content = []\n",
    "       \n",
    "        for sentence in review[\"content\"]:\n",
    "            stemmed_sentence = []\n",
    "            for token, pos_tag in sentence:\n",
    "                stemmed_word = stemmer.stem(token)\n",
    "                stemmed_sentence.append([stemmed_word, pos_tag])\n",
    "                V_stemmed.add(stemmed_word)\n",
    "            stemmed_content.append(stemmed_sentence)\n",
    "        \n",
    "        stemmed_review[\"content\"] = stemmed_content\n",
    "        stemmed_reviews.append(stemmed_review)\n",
    "        \n",
    "    return V_stemmed, stemmed_reviews\n",
    "\n",
    "V_stemmed, stemmed_reviews = create_stem_reviews(reviews)\n",
    "accuracies_baseline, bayes_results_smoothing_baseline = N_fold_crossVal(10, reviews, V, False)\n",
    "accuracies_stem, bayes_results_smoothing_stem = N_fold_crossVal(10, stemmed_reviews, V_stemmed, False)\n",
    "    \n",
    "print(\"BASELINE\")\n",
    "print(accuracies_baseline)\n",
    "print(\"Average accuracy = \", np.mean(np.asarray(accuracies_baseline)))\n",
    "\n",
    "print(\"STEMMED\")\n",
    "print(accuracies_stem)\n",
    "print(\"Average accuracy = \", np.mean(np.asarray(accuracies_stem)))\n"
   ]
  },
  {
   "cell_type": "markdown",
   "metadata": {
    "colab_type": "text",
    "id": "6SrJ1BeLXTnk"
   },
   "source": [
    "#### (Q3.7): Is the difference between NB with smoothing and NB with smoothing+stemming significant? (0.5pt)\n"
   ]
  },
  {
   "cell_type": "code",
   "execution_count": 18,
   "metadata": {
    "colab": {},
    "colab_type": "code",
    "id": "gYqKBOiIrInT"
   },
   "outputs": [
    {
     "name": "stdout",
     "output_type": "stream",
     "text": [
      "The p-value:  0.8231136476729630945794944314\n"
     ]
    }
   ],
   "source": [
    "accuracies_baseline, bayes_results_smoothing_baseline = N_fold_crossVal(10, reviews, V, False)\n",
    "accuracies_stem, bayes_results_smoothing_stem = N_fold_crossVal(10, stemmed_reviews, V_stemmed, False)\n",
    "p_value = sign_test(bayes_results_smoothing_baseline, bayes_results_smoothing_stem)\n",
    "\n",
    "print(\"The p-value: \", p_value)"
   ]
  },
  {
   "cell_type": "markdown",
   "metadata": {
    "colab_type": "text",
    "id": "JkDHVq_1XUVP"
   },
   "source": [
    "#### Q3.8: What happens to the number of features (i.e., the size of the vocabulary) when using stemming as opposed to (Q3.2)? (0.5pt)\n",
    "Give actual numbers. You can use the held-out training set to determine these."
   ]
  },
  {
   "cell_type": "code",
   "execution_count": 23,
   "metadata": {
    "colab": {},
    "colab_type": "code",
    "id": "MA3vee5-rJyy",
    "scrolled": true
   },
   "outputs": [
    {
     "name": "stdout",
     "output_type": "stream",
     "text": [
      "N-fold for non stemmed:\n",
      "Total length of vocabulary:  47743\n",
      "Amount of features in held-out training set:  45642\n",
      "N-fold for stemmed:\n",
      "Total length of vocabulary:  34366\n",
      "Amount of features in held-out training set:  32667\n"
     ]
    }
   ],
   "source": [
    "print(\"N-fold for non stemmed:\")\n",
    "print(\"Total length of vocabulary: \", len(V))\n",
    "accuracies_baseline, bayes_results_smoothing_baseline = N_fold_crossVal(10, reviews, V, True)\n",
    "\n",
    "print(\"N-fold for stemmed:\")\n",
    "print(\"Total length of vocabulary: \", len(V_stemmed))\n",
    "accuracies_stem, bayes_results_smoothing_stem = N_fold_crossVal(10, stemmed_reviews, V_stemmed, True)"
   ]
  },
  {
   "cell_type": "markdown",
   "metadata": {},
   "source": [
    "After applying stemming to the dataset, we observe that the length of the vocabulary $V$ decreases from $47743$ to $34366$. This is also reflected by the held-out training set, where the numbers of unique words decreases from $45642$ to $32667$. This is reasonable, since stemming removes each word's affixes. Therefore, some words will get mapped onto the same stem."
   ]
  },
  {
   "cell_type": "markdown",
   "metadata": {
    "colab_type": "text",
    "id": "SoazfxbNV5Lq"
   },
   "source": [
    "#### Q3.9: Putting some word order back in (0.5+0.5pt=1pt)\n",
    "\n",
    "A simple way of retaining some of the word\n",
    "order information when using bag-of-words representations is to add **n-grams** features. \n",
    "Retrain your classifier from (Q3.4) using **unigrams+bigrams** and\n",
    "**unigrams+bigrams+trigrams** as features, and report accuracy and statistical significances (in comparison to the experiment at (Q3.4) for all 10 folds, and between the new systems).\n",
    "\n",
    "\n",
    "\n"
   ]
  },
  {
   "cell_type": "code",
   "execution_count": 20,
   "metadata": {
    "colab": {},
    "colab_type": "code",
    "id": "eYuKMTOpq9jz"
   },
   "outputs": [
    {
     "name": "stdout",
     "output_type": "stream",
     "text": [
      "500427\n",
      "1467442\n",
      "Bigram-Unigram\n",
      "Average accuracy =  0.8445\n",
      "Trigram-Bigram-Unigram\n",
      "Average accuracy =  0.8484999999999999\n",
      "Sign test for comparing both:\n",
      "p-value: 0.8756244234337031344389177957\n",
      "Unigram\n",
      "[0.79, 0.835, 0.81, 0.83, 0.775, 0.845, 0.83, 0.785, 0.825, 0.845]\n",
      "0.817\n",
      "47743\n"
     ]
    }
   ],
   "source": [
    "def create_ngram_reviews(reviews, n):\n",
    "#    {\"cv\": integer, \"sentiment\": str, \"content\": list} \n",
    "    V_ngram = set()\n",
    "    ngram_reviews = []\n",
    "    for review in reviews:\n",
    "        \n",
    "        ngram_review = {}\n",
    "        cv = review['cv']\n",
    "        sentiment = review['sentiment']\n",
    "        \n",
    "        ngram_review['cv'] = cv\n",
    "        ngram_review['sentiment'] = sentiment\n",
    "        ngram_content = []\n",
    "       \n",
    "        for sentence in review[\"content\"]:\n",
    "            ngram_sentence = [] #<-- ngrams, (n-1,grams) .. n = 0\n",
    "            n_ = n\n",
    "            while(n_ > 0):\n",
    "                for i,token in enumerate(sentence):\n",
    "                    ngram = \"\"\n",
    "                    if((i + n_) > len(sentence)):\n",
    "                        break\n",
    "                    else:\n",
    "                        for j in range(0, n_):\n",
    "                            ngram += sentence[i+j][0].lower()\n",
    "\n",
    "                    ngram_sentence.append([ngram, \"Dummy-POS\"])\n",
    "                    V_ngram.add(ngram)\n",
    "                n_ -= 1\n",
    "                \n",
    "            ngram_content.append(ngram_sentence)\n",
    "        \n",
    "        ngram_review[\"content\"] = ngram_content\n",
    "        ngram_reviews.append(ngram_review)\n",
    "        \n",
    "    return V_ngram, ngram_reviews\n",
    "\n",
    "V_bi_uni_gram, bi_uni_gram_reviews = create_ngram_reviews(reviews, 2)\n",
    "\n",
    "V_bi_uni_tri_gram, bi_uni_tri_gram_reviews = create_ngram_reviews(reviews, 3)\n",
    "\n",
    "accuracies_biuni, bayes_results_biuni = N_fold_crossVal(10, bi_uni_gram_reviews, V_bi_uni_gram, False)\n",
    "accuracies_biunitri, bayes_results_biunitri = N_fold_crossVal(10, bi_uni_tri_gram_reviews, V_bi_uni_tri_gram, False)\n",
    "print(\"Bigram-Unigram:\")\n",
    "print(\"Average accuracy = \", np.mean(np.asarray(accuracies_biuni)))\n",
    "print(\"\")\n",
    "print(\"Trigram-Bigram-Unigram:\")\n",
    "print(\"Average accuracy = \", np.mean(np.asarray(accuracies_biunitri)))\n",
    "print(\"\")\n",
    "print(\"Sign test for comparing both:\")\n",
    "p_value = sign_test(bayes_results_biuni, bayes_results_biunitri)\n",
    "print(\"p-value:\", p_value)"
   ]
  },
  {
   "cell_type": "markdown",
   "metadata": {
    "colab_type": "text",
    "id": "dVrGGArkrWoL"
   },
   "source": [
    "\n",
    "#### Q3.10: How many features does the BoW model have to take into account now? (0.5pt)\n",
    "How does this number compare (e.g., linear, square, cubed, exponential) to the number of features at (Q3.8)? \n",
    "\n",
    "Use the held-out training set once again for this.\n"
   ]
  },
  {
   "cell_type": "code",
   "execution_count": 22,
   "metadata": {
    "colab": {},
    "colab_type": "code",
    "id": "_z8sAJeUrdtM"
   },
   "outputs": [
    {
     "name": "stdout",
     "output_type": "stream",
     "text": [
      "N-fold for bigram-unigram:\n",
      "Total length of vocabulary:  500427\n",
      "Amount of features in held-out training set:  466145\n",
      "N-fold for trigram-bigram-unigram:\n",
      "Total length of vocabulary:  1467442\n",
      "Amount of features in held-out training set:  1349911\n"
     ]
    }
   ],
   "source": [
    "print(\"N-fold for bigram-unigram:\")\n",
    "print(\"Total length of vocabulary: \", len(V_bi_uni_gram))\n",
    "accuracies_biuni, bayes_results_biuni = N_fold_crossVal(10, bi_uni_gram_reviews, V_bi_uni_gram, True)\n",
    "\n",
    "print(\"N-fold for trigram-bigram-unigram:\")\n",
    "print(\"Total length of vocabulary: \", len(V_bi_uni_tri_gram))\n",
    "accuracies_biunitri, bayes_results_biunitri = N_fold_crossVal(10, bi_uni_tri_gram_reviews, V_bi_uni_tri_gram, True)\n",
    "\n",
    "# ANSWER FOR QUESTION"
   ]
  },
  {
   "cell_type": "markdown",
   "metadata": {},
   "source": [
    "Comparing the held out training set for ... baseline ... stemming ... bi-gram ... tri..gram\n",
    "\n",
    "=> As stated in Q.3.8: reduction in vocubabulary size\n",
    "\n",
    "=> In contrast, ... increase \n",
    "\n",
    "while in the bi-gram case ... it increases from $4564$ to $466145$ by a more than a factor of $10$. \n",
    "\n",
    "In the tri-gram case it drastically increases further to $1349911$, again only considering the held-out training set. \n",
    "\n",
    "\n"
   ]
  },
  {
   "cell_type": "markdown",
   "metadata": {
    "colab_type": "text",
    "id": "CHWKDL3YV6vh"
   },
   "source": [
    "# Support Vector Machines (4pts)\n"
   ]
  },
  {
   "cell_type": "markdown",
   "metadata": {
    "colab_type": "text",
    "id": "hJSYhcVaoJGt"
   },
   "source": [
    "Though simple to understand, implement, and debug, one\n",
    "major problem with the Naive Bayes classifier is that its performance\n",
    "deteriorates (becomes skewed) when it is being used with features which\n",
    "are not independent (i.e., are correlated). Another popular classifier\n",
    "that doesn’t scale as well to big data, and is not as simple to debug as\n",
    "Naive Bayes, but that doesn’t assume feature independence is the Support\n",
    "Vector Machine (SVM) classifier.\n",
    "\n",
    "You can find more details about SVMs in Chapter 7 of Bishop: Pattern Recognition and Machine Learning.\n",
    "Other sources for learning SVM:\n",
    "* http://web.mit.edu/zoya/www/SVM.pdf\n",
    "* http://www.cs.columbia.edu/~kathy/cs4701/documents/jason_svm_tutorial.pdf\n",
    "* https://pythonprogramming.net/support-vector-machine-intro-machine-learning-tutorial/\n",
    "\n",
    "\n",
    "\n",
    "\n",
    "\n",
    "\n",
    "\n",
    "Use the scikit-learn implementation of \n",
    "[SVM.](http://scikit-learn.org/stable/modules/svm.html) with the default parameters.\n",
    "\n"
   ]
  },
  {
   "cell_type": "markdown",
   "metadata": {
    "colab_type": "text",
    "id": "0LnzNtQBV8gr"
   },
   "source": [
    "#### (Q4.1): Train SVM and compare to Naive Bayes (2pt)\n",
    "\n",
    "Train an SVM classifier (sklearn.svm.LinearSVC) using your features. Compare the\n",
    "classification performance of the SVM classifier to that of the Naive\n",
    "Bayes classifier from (Q3.4) and report the numbers.\n",
    "Do cross validation and concatenate the predictions from all folds to compute the significance.  Are the results significantly better?\n",
    "\n"
   ]
  },
  {
   "cell_type": "code",
   "execution_count": 45,
   "metadata": {
    "colab": {},
    "colab_type": "code",
    "id": "JBscui8Mvoz0",
    "scrolled": true
   },
   "outputs": [
    {
     "name": "stderr",
     "output_type": "stream",
     "text": [
      "/home/david/miniconda3/envs/nlp_env/lib/python3.7/site-packages/sklearn/svm/base.py:922: ConvergenceWarning: Liblinear failed to converge, increase the number of iterations.\n",
      "  \"the number of iterations.\", ConvergenceWarning)\n",
      "/home/david/miniconda3/envs/nlp_env/lib/python3.7/site-packages/sklearn/svm/base.py:922: ConvergenceWarning: Liblinear failed to converge, increase the number of iterations.\n",
      "  \"the number of iterations.\", ConvergenceWarning)\n",
      "/home/david/miniconda3/envs/nlp_env/lib/python3.7/site-packages/sklearn/svm/base.py:922: ConvergenceWarning: Liblinear failed to converge, increase the number of iterations.\n",
      "  \"the number of iterations.\", ConvergenceWarning)\n",
      "/home/david/miniconda3/envs/nlp_env/lib/python3.7/site-packages/sklearn/svm/base.py:922: ConvergenceWarning: Liblinear failed to converge, increase the number of iterations.\n",
      "  \"the number of iterations.\", ConvergenceWarning)\n",
      "/home/david/miniconda3/envs/nlp_env/lib/python3.7/site-packages/sklearn/svm/base.py:922: ConvergenceWarning: Liblinear failed to converge, increase the number of iterations.\n",
      "  \"the number of iterations.\", ConvergenceWarning)\n"
     ]
    },
    {
     "name": "stdout",
     "output_type": "stream",
     "text": [
      "Average accuracy for SVM = 0.8320000000000001\n",
      "Average accuracy for Naive Bayes = 0.8230000000000001\n",
      "p-value: 0.7038578288249290578034132253\n"
     ]
    }
   ],
   "source": [
    "from sklearn.svm import LinearSVC\n",
    "\n",
    "def createSVMdata(reviews, V):\n",
    "    #1. Create our training data\n",
    "    vocabulary = {word: indx for indx, word in enumerate(list(V))}\n",
    "    \n",
    "    label = {'NEG' : 0, 'POS' : 1}\n",
    "\n",
    "    X = np.zeros([2000, len(V)])\n",
    "    y = np.zeros((2000))\n",
    "\n",
    "    for i, review in enumerate(reviews):\n",
    "\n",
    "        y[i] = label[review['sentiment']]\n",
    "\n",
    "        counter = Counter()\n",
    "        for sentence in review[\"content\"]:\n",
    "            for token, pos_tag in sentence:\n",
    "                counter[token.lower()] += 1\n",
    "\n",
    "        # loop through the counter and match string-keys with \n",
    "        # vocabulary list indeces\n",
    "        for word in counter:\n",
    "            X[i][vocabulary[word]] = counter[word]\n",
    "            \n",
    "    return X, y\n",
    "\n",
    "def train_SVM(train_data, train_labels):\n",
    "    svm = LinearSVC(max_iter=1000)\n",
    "    svm.fit(train_data, train_labels)\n",
    "    \n",
    "    return svm\n",
    "\n",
    "def test_SVM(svm, test_data, test_labels):\n",
    "    \n",
    "    prediction = svm.predict(test_data)\n",
    "    binary_results = np.equal(prediction, test_labels)\n",
    "    \n",
    "    return svm.score(test_data, test_labels), ['+' if x else '-' for x in binary_results]\n",
    "\n",
    "X, y = createSVMdata(reviews, V)\n",
    "accuracies_svm, class_results_svm = N_fold_crossVal(10, [X, y], V, False, classifier='SVM')\n",
    "print(\"Average accuracy for SVM =\", np.mean(np.asarray(accuracies_svm)))\n",
    "\n",
    "accuracies_bayes, bayes_results = N_fold_crossVal(10, reviews, V, False)\n",
    "print(\"Average accuracy for Naive Bayes =\", np.mean(np.asarray(accuracies_bayes)))\n",
    "\n",
    "p_value = sign_test(class_results_svm, bayes_results)\n",
    "print(\"p-value:\", p_value)"
   ]
  },
  {
   "cell_type": "markdown",
   "metadata": {
    "colab_type": "text",
    "id": "ifXVWcK0V9qY"
   },
   "source": [
    "### More linguistics\n",
    "\n",
    "Now add in part-of-speech features. You will find the\n",
    "movie review dataset has already been POS-tagged for you. Try to\n",
    "replicate what Pang et al. were doing:\n",
    "\n"
   ]
  },
  {
   "cell_type": "markdown",
   "metadata": {
    "colab_type": "text",
    "id": "xA3I82o4oWGu"
   },
   "source": [
    "#### (Q4.2) Replace your features with word+POS features, and report performance with the SVM. Does this help? Do cross validation and concatenate the predictions from all folds to compute the significance. Are the results significant? Why?  (1pt)\n"
   ]
  },
  {
   "cell_type": "code",
   "execution_count": 46,
   "metadata": {
    "colab": {},
    "colab_type": "code",
    "id": "NOvjYe-t2Br6",
    "scrolled": true
   },
   "outputs": [
    {
     "name": "stderr",
     "output_type": "stream",
     "text": [
      "/home/david/miniconda3/envs/nlp_env/lib/python3.7/site-packages/sklearn/svm/base.py:922: ConvergenceWarning: Liblinear failed to converge, increase the number of iterations.\n",
      "  \"the number of iterations.\", ConvergenceWarning)\n",
      "/home/david/miniconda3/envs/nlp_env/lib/python3.7/site-packages/sklearn/svm/base.py:922: ConvergenceWarning: Liblinear failed to converge, increase the number of iterations.\n",
      "  \"the number of iterations.\", ConvergenceWarning)\n",
      "/home/david/miniconda3/envs/nlp_env/lib/python3.7/site-packages/sklearn/svm/base.py:922: ConvergenceWarning: Liblinear failed to converge, increase the number of iterations.\n",
      "  \"the number of iterations.\", ConvergenceWarning)\n",
      "/home/david/miniconda3/envs/nlp_env/lib/python3.7/site-packages/sklearn/svm/base.py:922: ConvergenceWarning: Liblinear failed to converge, increase the number of iterations.\n",
      "  \"the number of iterations.\", ConvergenceWarning)\n",
      "/home/david/miniconda3/envs/nlp_env/lib/python3.7/site-packages/sklearn/svm/base.py:922: ConvergenceWarning: Liblinear failed to converge, increase the number of iterations.\n",
      "  \"the number of iterations.\", ConvergenceWarning)\n",
      "/home/david/miniconda3/envs/nlp_env/lib/python3.7/site-packages/sklearn/svm/base.py:922: ConvergenceWarning: Liblinear failed to converge, increase the number of iterations.\n",
      "  \"the number of iterations.\", ConvergenceWarning)\n",
      "/home/david/miniconda3/envs/nlp_env/lib/python3.7/site-packages/sklearn/svm/base.py:922: ConvergenceWarning: Liblinear failed to converge, increase the number of iterations.\n",
      "  \"the number of iterations.\", ConvergenceWarning)\n",
      "/home/david/miniconda3/envs/nlp_env/lib/python3.7/site-packages/sklearn/svm/base.py:922: ConvergenceWarning: Liblinear failed to converge, increase the number of iterations.\n",
      "  \"the number of iterations.\", ConvergenceWarning)\n",
      "/home/david/miniconda3/envs/nlp_env/lib/python3.7/site-packages/sklearn/svm/base.py:922: ConvergenceWarning: Liblinear failed to converge, increase the number of iterations.\n",
      "  \"the number of iterations.\", ConvergenceWarning)\n",
      "/home/david/miniconda3/envs/nlp_env/lib/python3.7/site-packages/sklearn/svm/base.py:922: ConvergenceWarning: Liblinear failed to converge, increase the number of iterations.\n",
      "  \"the number of iterations.\", ConvergenceWarning)\n",
      "/home/david/miniconda3/envs/nlp_env/lib/python3.7/site-packages/sklearn/svm/base.py:922: ConvergenceWarning: Liblinear failed to converge, increase the number of iterations.\n",
      "  \"the number of iterations.\", ConvergenceWarning)\n",
      "/home/david/miniconda3/envs/nlp_env/lib/python3.7/site-packages/sklearn/svm/base.py:922: ConvergenceWarning: Liblinear failed to converge, increase the number of iterations.\n",
      "  \"the number of iterations.\", ConvergenceWarning)\n",
      "/home/david/miniconda3/envs/nlp_env/lib/python3.7/site-packages/sklearn/svm/base.py:922: ConvergenceWarning: Liblinear failed to converge, increase the number of iterations.\n",
      "  \"the number of iterations.\", ConvergenceWarning)\n",
      "/home/david/miniconda3/envs/nlp_env/lib/python3.7/site-packages/sklearn/svm/base.py:922: ConvergenceWarning: Liblinear failed to converge, increase the number of iterations.\n",
      "  \"the number of iterations.\", ConvergenceWarning)\n",
      "/home/david/miniconda3/envs/nlp_env/lib/python3.7/site-packages/sklearn/svm/base.py:922: ConvergenceWarning: Liblinear failed to converge, increase the number of iterations.\n",
      "  \"the number of iterations.\", ConvergenceWarning)\n"
     ]
    },
    {
     "name": "stdout",
     "output_type": "stream",
     "text": [
      "Average accuracy with considering the POS tag: 0.8380000000000001\n",
      "Average accuracy without considering the POS tag: 0.8320000000000001\n",
      "p-value: 0.8057148676803825624105038557\n"
     ]
    }
   ],
   "source": [
    "def create_word_pos_V(reviews):\n",
    "    V_pos = set()\n",
    "    for review in reviews:\n",
    "        for sentence in review[\"content\"]:\n",
    "            for token, pos_tag in sentence:\n",
    "                V_pos.add(token.lower()+pos_tag.lower())\n",
    "    \n",
    "    return V_pos\n",
    "\n",
    "def createSVMdata_POS(reviews, V):\n",
    "    #1. Create our training data\n",
    "    vocabulary = {word: indx for indx, word in enumerate(list(V))}\n",
    "    \n",
    "    label = {'NEG' : 0, 'POS' : 1}\n",
    "\n",
    "    X = np.zeros([2000, len(V)])\n",
    "    y = np.zeros((2000))\n",
    "\n",
    "    for i, review in enumerate(reviews):\n",
    "\n",
    "        y[i] = label[review['sentiment']]\n",
    "\n",
    "        counter = Counter()\n",
    "        for sentence in review[\"content\"]:\n",
    "            for token, pos_tag in sentence:\n",
    "                counter[token.lower()+pos_tag.lower()] += 1\n",
    "\n",
    "        # loop through the counter and match string-keys with \n",
    "        # vocabulary list indeces\n",
    "        for word in counter:\n",
    "            X[i][vocabulary[word]] = counter[word]\n",
    "            \n",
    "    return X, y\n",
    "\n",
    "\n",
    "V_pos = create_word_pos_V(reviews)\n",
    "X, y = createSVMdata_POS(reviews, V_pos)\n",
    "accuracies_svm_pos, class_results_svm_pos = N_fold_crossVal(10, [X, y], V, False, classifier='SVM')\n",
    "\n",
    "X, y = createSVMdata(reviews, V)\n",
    "accuracies_svm, class_results_svm = N_fold_crossVal(10, [X, y], V, False, classifier='SVM')\n",
    "print(\"Average accuracy with considering the POS tag:\", np.mean(np.asarray(accuracies_svm_pos)))\n",
    "print(\"Average accuracy without considering the POS tag:\", np.mean(np.asarray(accuracies_svm)))\n",
    "\n",
    "p_value = sign_test(class_results_svm_pos, class_results_svm)\n",
    "print(\"p-value:\", p_value)"
   ]
  },
  {
   "cell_type": "markdown",
   "metadata": {
    "colab_type": "text",
    "id": "Su-3w87eMW0w"
   },
   "source": [
    "#### (Q4.3) Discard all closed-class words from your data (keep only nouns (N*), verbs (V*), adjectives (J*) and adverbs (RB*)), and report performance. Does this help? Do cross validation and concatenate the predictions from all folds to compute the significance. Are the results significantly better than when we don't discard the closed-class words? Why? (1pt)"
   ]
  },
  {
   "cell_type": "code",
   "execution_count": 47,
   "metadata": {
    "colab": {},
    "colab_type": "code",
    "id": "CCUPlPozCYUX"
   },
   "outputs": [
    {
     "name": "stderr",
     "output_type": "stream",
     "text": [
      "/home/david/miniconda3/envs/nlp_env/lib/python3.7/site-packages/sklearn/svm/base.py:922: ConvergenceWarning: Liblinear failed to converge, increase the number of iterations.\n",
      "  \"the number of iterations.\", ConvergenceWarning)\n",
      "/home/david/miniconda3/envs/nlp_env/lib/python3.7/site-packages/sklearn/svm/base.py:922: ConvergenceWarning: Liblinear failed to converge, increase the number of iterations.\n",
      "  \"the number of iterations.\", ConvergenceWarning)\n",
      "/home/david/miniconda3/envs/nlp_env/lib/python3.7/site-packages/sklearn/svm/base.py:922: ConvergenceWarning: Liblinear failed to converge, increase the number of iterations.\n",
      "  \"the number of iterations.\", ConvergenceWarning)\n",
      "/home/david/miniconda3/envs/nlp_env/lib/python3.7/site-packages/sklearn/svm/base.py:922: ConvergenceWarning: Liblinear failed to converge, increase the number of iterations.\n",
      "  \"the number of iterations.\", ConvergenceWarning)\n",
      "/home/david/miniconda3/envs/nlp_env/lib/python3.7/site-packages/sklearn/svm/base.py:922: ConvergenceWarning: Liblinear failed to converge, increase the number of iterations.\n",
      "  \"the number of iterations.\", ConvergenceWarning)\n",
      "/home/david/miniconda3/envs/nlp_env/lib/python3.7/site-packages/sklearn/svm/base.py:922: ConvergenceWarning: Liblinear failed to converge, increase the number of iterations.\n",
      "  \"the number of iterations.\", ConvergenceWarning)\n",
      "/home/david/miniconda3/envs/nlp_env/lib/python3.7/site-packages/sklearn/svm/base.py:922: ConvergenceWarning: Liblinear failed to converge, increase the number of iterations.\n",
      "  \"the number of iterations.\", ConvergenceWarning)\n",
      "/home/david/miniconda3/envs/nlp_env/lib/python3.7/site-packages/sklearn/svm/base.py:922: ConvergenceWarning: Liblinear failed to converge, increase the number of iterations.\n",
      "  \"the number of iterations.\", ConvergenceWarning)\n",
      "/home/david/miniconda3/envs/nlp_env/lib/python3.7/site-packages/sklearn/svm/base.py:922: ConvergenceWarning: Liblinear failed to converge, increase the number of iterations.\n",
      "  \"the number of iterations.\", ConvergenceWarning)\n",
      "/home/david/miniconda3/envs/nlp_env/lib/python3.7/site-packages/sklearn/svm/base.py:922: ConvergenceWarning: Liblinear failed to converge, increase the number of iterations.\n",
      "  \"the number of iterations.\", ConvergenceWarning)\n",
      "/home/david/miniconda3/envs/nlp_env/lib/python3.7/site-packages/sklearn/svm/base.py:922: ConvergenceWarning: Liblinear failed to converge, increase the number of iterations.\n",
      "  \"the number of iterations.\", ConvergenceWarning)\n",
      "/home/david/miniconda3/envs/nlp_env/lib/python3.7/site-packages/sklearn/svm/base.py:922: ConvergenceWarning: Liblinear failed to converge, increase the number of iterations.\n",
      "  \"the number of iterations.\", ConvergenceWarning)\n",
      "/home/david/miniconda3/envs/nlp_env/lib/python3.7/site-packages/sklearn/svm/base.py:922: ConvergenceWarning: Liblinear failed to converge, increase the number of iterations.\n",
      "  \"the number of iterations.\", ConvergenceWarning)\n"
     ]
    },
    {
     "name": "stdout",
     "output_type": "stream",
     "text": [
      "Average accuracy without closed form words: 0.8489999999999999\n",
      "Average accuracy with closed form words: 0.8380000000000001\n",
      "p-value: 0.6386701160706534185506881717\n"
     ]
    }
   ],
   "source": [
    "def create_word_pos_V_wo_closed(reviews, open_class_POS):\n",
    "    V_pos = set()\n",
    "    for review in reviews:\n",
    "        for sentence in review[\"content\"]:\n",
    "            for token, pos_tag in sentence:\n",
    "                if pos_tag in open_class_POS:\n",
    "                    V_pos.add(token.lower()+pos_tag.lower())\n",
    "    \n",
    "    return V_pos\n",
    "\n",
    "def createSVMdata_POS_wo_closed(reviews, V, open_class_POS):\n",
    "    #1. Create our training data\n",
    "    vocabulary = {word: indx for indx, word in enumerate(list(V))}\n",
    "    \n",
    "    label = {'NEG' : 0, 'POS' : 1}\n",
    "\n",
    "    X = np.zeros([2000, len(V)])\n",
    "    y = np.zeros((2000))\n",
    "\n",
    "    for i, review in enumerate(reviews):\n",
    "\n",
    "        y[i] = label[review['sentiment']]\n",
    "\n",
    "        counter = Counter()\n",
    "        for sentence in review[\"content\"]:\n",
    "            for token, pos_tag in sentence:\n",
    "                if pos_tag in open_class_POS:\n",
    "                    counter[token.lower()+pos_tag.lower()] += 1\n",
    "\n",
    "        # loop through the counter and match string-keys with \n",
    "        # vocabulary list indeces\n",
    "        for word in counter:\n",
    "            X[i][vocabulary[word]] = counter[word]\n",
    "            \n",
    "    return X, y\n",
    "\n",
    "\n",
    "open_class_POS = ['JJ', 'JJR', 'JJS',  'NN', 'NNS', 'NNP', 'NNPS', 'RB', 'RBR', 'RBS', 'VB', 'VBD', 'VBG', 'VBN', 'VBP', 'VBZ'] \n",
    "\n",
    "V_pos_wo_closed = create_word_pos_V_wo_closed(reviews, open_class_POS)\n",
    "X, y = createSVMdata_POS_wo_closed(reviews, V_pos_wo_closed, open_class_POS)\n",
    "accuracies_svm_pos_wo_closed, class_results_svm_pos_wo_closed = N_fold_crossVal(10, [X, y], V, False, classifier='SVM')\n",
    "\n",
    "V_pos = create_word_pos_V(reviews)\n",
    "X, y = createSVMdata_POS(reviews, V_pos)\n",
    "accuracies_svm_pos, class_results_svm_pos = N_fold_crossVal(10, [X, y], V, False, classifier='SVM')\n",
    "\n",
    "print(\"Average accuracy without closed form words:\", np.mean(np.asarray(accuracies_svm_pos_wo_closed)))\n",
    "print(\"Average accuracy with closed form words:\", np.mean(np.asarray(accuracies_svm_pos)))\n",
    "\n",
    "p_value = sign_test(class_results_svm_pos_wo_closed, class_results_svm_pos)\n",
    "print(\"p-value:\", p_value)\n"
   ]
  },
  {
   "cell_type": "markdown",
   "metadata": {
    "colab_type": "text",
    "id": "nfwqOciAl2No"
   },
   "source": [
    "# (Q8) Discussion (max. 500 words). (5pts)\n",
    "\n",
    "> Based on your experiments, what are the effective features and techniques in sentiment analysis? What information do different features encode?\n",
    "Why is this important? What are the limitations of these features and techniques?\n",
    " \n"
   ]
  },
  {
   "cell_type": "markdown",
   "metadata": {
    "colab_type": "text",
    "id": "ZYuse5WLmekZ"
   },
   "source": [
    "*Write your answer here in max. 500 words.*"
   ]
  },
  {
   "cell_type": "markdown",
   "metadata": {
    "colab_type": "text",
    "id": "iwaKwfWQhRk_"
   },
   "source": [
    "# Submission \n"
   ]
  },
  {
   "cell_type": "code",
   "execution_count": 24,
   "metadata": {
    "colab": {},
    "colab_type": "code",
    "id": "aOUeaET5ijk-"
   },
   "outputs": [],
   "source": [
    "# Write your names and student numbers here:\n",
    "# Student 1 12365718\n",
    "# David Biertimpel 12324418"
   ]
  },
  {
   "cell_type": "markdown",
   "metadata": {
    "colab_type": "text",
    "id": "3A9K-H6Tii3X"
   },
   "source": [
    "**That's it!**\n",
    "\n",
    "- Check if you answered all questions fully and correctly. \n",
    "- Download your completed notebook using `File -> Download .ipynb` \n",
    "- Also save your notebook as a Github Gist. Get it by choosing `File -> Save as Github Gist`.  Make sure that the gist has a secret link (not public).\n",
    "- Check if your answers are all included in the file you submit (e.g. check the Github Gist URL)\n",
    "- Submit your .ipynb file and link to the Github Gist via *Canvas*. One submission per group. "
   ]
  },
  {
   "cell_type": "code",
   "execution_count": null,
   "metadata": {},
   "outputs": [],
   "source": []
  }
 ],
 "metadata": {
  "colab": {
   "collapsed_sections": [],
   "name": "NLP1 Practical I",
   "provenance": [],
   "toc_visible": true,
   "version": "0.3.2"
  },
  "kernelspec": {
   "display_name": "Python [conda env:nlp_env]",
   "language": "python",
   "name": "conda-env-nlp_env-py"
  },
  "language_info": {
   "codemirror_mode": {
    "name": "ipython",
    "version": 3
   },
   "file_extension": ".py",
   "mimetype": "text/x-python",
   "name": "python",
   "nbconvert_exporter": "python",
   "pygments_lexer": "ipython3",
   "version": "3.7.0"
  }
 },
 "nbformat": 4,
 "nbformat_minor": 1
}
